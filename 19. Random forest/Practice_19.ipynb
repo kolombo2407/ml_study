{
 "cells": [
  {
   "cell_type": "code",
   "execution_count": 1,
   "id": "d3a64e50",
   "metadata": {},
   "outputs": [],
   "source": [
    "import warnings\n",
    "warnings.filterwarnings('ignore')"
   ]
  },
  {
   "cell_type": "code",
   "execution_count": 2,
   "id": "bb0600dc",
   "metadata": {},
   "outputs": [],
   "source": [
    "### Установим красивые дефолтные настройки\n",
    "### Может быть лень постоянно прописывать\n",
    "### У графиков параметры цвета, размера, шрифта\n",
    "### Можно положить их в словарь дефолтных настроек\n",
    "\n",
    "import matplotlib as mlp\n",
    "\n",
    "mlp.rcParams['lines.linewidth'] = 5\n",
    "\n",
    "mlp.rcParams['xtick.major.size'] = 20\n",
    "mlp.rcParams['xtick.major.width'] = 5\n",
    "mlp.rcParams['xtick.labelsize'] = 20\n",
    "mlp.rcParams['xtick.color'] = '#FF5533'\n",
    "\n",
    "mlp.rcParams['ytick.major.size'] = 20\n",
    "mlp.rcParams['ytick.major.width'] = 5\n",
    "mlp.rcParams['ytick.labelsize'] = 20\n",
    "mlp.rcParams['ytick.color'] = '#FF5533'\n",
    "\n",
    "mlp.rcParams['axes.labelsize'] = 20\n",
    "mlp.rcParams['axes.titlesize'] = 20\n",
    "mlp.rcParams['axes.titlecolor'] = '#00B050'\n",
    "mlp.rcParams['axes.labelcolor'] = '#00B050'"
   ]
  },
  {
   "cell_type": "markdown",
   "id": "3802fa76",
   "metadata": {},
   "source": [
    "### Decision Trees: практика\n",
    "### Corporación Favorita Grocery Sales Forecasting\n",
    "\n",
    "<div>\n",
    "<img src=\"picture.png\" width=\"1000\"/>\n",
    "</div>"
   ]
  },
  {
   "cell_type": "code",
   "execution_count": 3,
   "id": "9eaa14ab",
   "metadata": {},
   "outputs": [],
   "source": [
    "import pandas as pd\n",
    "import numpy as np\n",
    "import matplotlib.pyplot as plt\n",
    "import seaborn as sns\n",
    "\n",
    "pd.options.display.max_columns = 500"
   ]
  },
  {
   "cell_type": "code",
   "execution_count": 4,
   "id": "d521a74b",
   "metadata": {},
   "outputs": [
    {
     "data": {
      "text/html": [
       "<div>\n",
       "<style scoped>\n",
       "    .dataframe tbody tr th:only-of-type {\n",
       "        vertical-align: middle;\n",
       "    }\n",
       "\n",
       "    .dataframe tbody tr th {\n",
       "        vertical-align: top;\n",
       "    }\n",
       "\n",
       "    .dataframe thead th {\n",
       "        text-align: right;\n",
       "    }\n",
       "</style>\n",
       "<table border=\"1\" class=\"dataframe\">\n",
       "  <thead>\n",
       "    <tr style=\"text-align: right;\">\n",
       "      <th></th>\n",
       "      <th>date</th>\n",
       "      <th>store_nbr</th>\n",
       "      <th>item_nbr</th>\n",
       "      <th>unit_sales</th>\n",
       "      <th>onpromotion</th>\n",
       "      <th>month</th>\n",
       "      <th>dcoilwtico</th>\n",
       "      <th>city</th>\n",
       "      <th>state</th>\n",
       "      <th>type</th>\n",
       "      <th>cluster</th>\n",
       "      <th>family</th>\n",
       "      <th>class</th>\n",
       "      <th>perishable</th>\n",
       "      <th>holiday_type</th>\n",
       "      <th>locale</th>\n",
       "      <th>locale_name</th>\n",
       "      <th>description</th>\n",
       "      <th>transferred</th>\n",
       "    </tr>\n",
       "  </thead>\n",
       "  <tbody>\n",
       "    <tr>\n",
       "      <th>0</th>\n",
       "      <td>2016-10-26</td>\n",
       "      <td>6</td>\n",
       "      <td>1489881</td>\n",
       "      <td>6.000</td>\n",
       "      <td>1.0</td>\n",
       "      <td>2016-10</td>\n",
       "      <td>48.75</td>\n",
       "      <td>Quito</td>\n",
       "      <td>Pichincha</td>\n",
       "      <td>D</td>\n",
       "      <td>13</td>\n",
       "      <td>PRODUCE</td>\n",
       "      <td>2018</td>\n",
       "      <td>1</td>\n",
       "      <td>WorkingDay</td>\n",
       "      <td>WorkingDay</td>\n",
       "      <td>WorkingDay</td>\n",
       "      <td>WorkingDay</td>\n",
       "      <td>WorkingDay</td>\n",
       "    </tr>\n",
       "    <tr>\n",
       "      <th>1</th>\n",
       "      <td>2014-06-02</td>\n",
       "      <td>9</td>\n",
       "      <td>953609</td>\n",
       "      <td>7.000</td>\n",
       "      <td>0.0</td>\n",
       "      <td>2014-06</td>\n",
       "      <td>103.07</td>\n",
       "      <td>Quito</td>\n",
       "      <td>Pichincha</td>\n",
       "      <td>B</td>\n",
       "      <td>6</td>\n",
       "      <td>CLEANING</td>\n",
       "      <td>3046</td>\n",
       "      <td>0</td>\n",
       "      <td>WorkingDay</td>\n",
       "      <td>WorkingDay</td>\n",
       "      <td>WorkingDay</td>\n",
       "      <td>WorkingDay</td>\n",
       "      <td>WorkingDay</td>\n",
       "    </tr>\n",
       "    <tr>\n",
       "      <th>2</th>\n",
       "      <td>2017-06-18</td>\n",
       "      <td>21</td>\n",
       "      <td>1946155</td>\n",
       "      <td>5.000</td>\n",
       "      <td>0.0</td>\n",
       "      <td>2017-06</td>\n",
       "      <td>44.73</td>\n",
       "      <td>Santo Domingo</td>\n",
       "      <td>Santo Domingo de los Tsachilas</td>\n",
       "      <td>B</td>\n",
       "      <td>6</td>\n",
       "      <td>DELI</td>\n",
       "      <td>2650</td>\n",
       "      <td>1</td>\n",
       "      <td>WorkingDay</td>\n",
       "      <td>WorkingDay</td>\n",
       "      <td>WorkingDay</td>\n",
       "      <td>WorkingDay</td>\n",
       "      <td>WorkingDay</td>\n",
       "    </tr>\n",
       "    <tr>\n",
       "      <th>3</th>\n",
       "      <td>2016-07-09</td>\n",
       "      <td>46</td>\n",
       "      <td>119023</td>\n",
       "      <td>6.000</td>\n",
       "      <td>0.0</td>\n",
       "      <td>2016-07</td>\n",
       "      <td>45.37</td>\n",
       "      <td>Quito</td>\n",
       "      <td>Pichincha</td>\n",
       "      <td>A</td>\n",
       "      <td>14</td>\n",
       "      <td>CLEANING</td>\n",
       "      <td>3026</td>\n",
       "      <td>0</td>\n",
       "      <td>WorkingDay</td>\n",
       "      <td>WorkingDay</td>\n",
       "      <td>WorkingDay</td>\n",
       "      <td>WorkingDay</td>\n",
       "      <td>WorkingDay</td>\n",
       "    </tr>\n",
       "    <tr>\n",
       "      <th>4</th>\n",
       "      <td>2016-08-04</td>\n",
       "      <td>43</td>\n",
       "      <td>760319</td>\n",
       "      <td>7.707</td>\n",
       "      <td>0.0</td>\n",
       "      <td>2016-08</td>\n",
       "      <td>41.92</td>\n",
       "      <td>Esmeraldas</td>\n",
       "      <td>Esmeraldas</td>\n",
       "      <td>E</td>\n",
       "      <td>10</td>\n",
       "      <td>POULTRY</td>\n",
       "      <td>2416</td>\n",
       "      <td>1</td>\n",
       "      <td>WorkingDay</td>\n",
       "      <td>WorkingDay</td>\n",
       "      <td>WorkingDay</td>\n",
       "      <td>WorkingDay</td>\n",
       "      <td>WorkingDay</td>\n",
       "    </tr>\n",
       "    <tr>\n",
       "      <th>...</th>\n",
       "      <td>...</td>\n",
       "      <td>...</td>\n",
       "      <td>...</td>\n",
       "      <td>...</td>\n",
       "      <td>...</td>\n",
       "      <td>...</td>\n",
       "      <td>...</td>\n",
       "      <td>...</td>\n",
       "      <td>...</td>\n",
       "      <td>...</td>\n",
       "      <td>...</td>\n",
       "      <td>...</td>\n",
       "      <td>...</td>\n",
       "      <td>...</td>\n",
       "      <td>...</td>\n",
       "      <td>...</td>\n",
       "      <td>...</td>\n",
       "      <td>...</td>\n",
       "      <td>...</td>\n",
       "    </tr>\n",
       "    <tr>\n",
       "      <th>191917</th>\n",
       "      <td>2015-08-25</td>\n",
       "      <td>17</td>\n",
       "      <td>220432</td>\n",
       "      <td>10.000</td>\n",
       "      <td>0.0</td>\n",
       "      <td>2015-08</td>\n",
       "      <td>39.15</td>\n",
       "      <td>Quito</td>\n",
       "      <td>Pichincha</td>\n",
       "      <td>C</td>\n",
       "      <td>12</td>\n",
       "      <td>GROCERY I</td>\n",
       "      <td>1080</td>\n",
       "      <td>0</td>\n",
       "      <td>WorkingDay</td>\n",
       "      <td>WorkingDay</td>\n",
       "      <td>WorkingDay</td>\n",
       "      <td>WorkingDay</td>\n",
       "      <td>WorkingDay</td>\n",
       "    </tr>\n",
       "    <tr>\n",
       "      <th>191918</th>\n",
       "      <td>2014-07-03</td>\n",
       "      <td>30</td>\n",
       "      <td>890375</td>\n",
       "      <td>5.000</td>\n",
       "      <td>0.0</td>\n",
       "      <td>2014-07</td>\n",
       "      <td>104.76</td>\n",
       "      <td>Guayaquil</td>\n",
       "      <td>Guayas</td>\n",
       "      <td>C</td>\n",
       "      <td>3</td>\n",
       "      <td>GROCERY I</td>\n",
       "      <td>1002</td>\n",
       "      <td>0</td>\n",
       "      <td>Holiday</td>\n",
       "      <td>Local</td>\n",
       "      <td>El Carmen</td>\n",
       "      <td>Cantonizacion de El Carmen</td>\n",
       "      <td>Holiday</td>\n",
       "    </tr>\n",
       "    <tr>\n",
       "      <th>191919</th>\n",
       "      <td>2014-08-13</td>\n",
       "      <td>44</td>\n",
       "      <td>795610</td>\n",
       "      <td>38.000</td>\n",
       "      <td>0.0</td>\n",
       "      <td>2014-08</td>\n",
       "      <td>97.57</td>\n",
       "      <td>Quito</td>\n",
       "      <td>Pichincha</td>\n",
       "      <td>A</td>\n",
       "      <td>5</td>\n",
       "      <td>FROZEN FOODS</td>\n",
       "      <td>2220</td>\n",
       "      <td>0</td>\n",
       "      <td>WorkingDay</td>\n",
       "      <td>WorkingDay</td>\n",
       "      <td>WorkingDay</td>\n",
       "      <td>WorkingDay</td>\n",
       "      <td>WorkingDay</td>\n",
       "    </tr>\n",
       "    <tr>\n",
       "      <th>191920</th>\n",
       "      <td>2013-10-01</td>\n",
       "      <td>34</td>\n",
       "      <td>213788</td>\n",
       "      <td>3.000</td>\n",
       "      <td>NaN</td>\n",
       "      <td>2013-10</td>\n",
       "      <td>102.09</td>\n",
       "      <td>Guayaquil</td>\n",
       "      <td>Guayas</td>\n",
       "      <td>B</td>\n",
       "      <td>6</td>\n",
       "      <td>GROCERY I</td>\n",
       "      <td>1096</td>\n",
       "      <td>0</td>\n",
       "      <td>WorkingDay</td>\n",
       "      <td>WorkingDay</td>\n",
       "      <td>WorkingDay</td>\n",
       "      <td>WorkingDay</td>\n",
       "      <td>WorkingDay</td>\n",
       "    </tr>\n",
       "    <tr>\n",
       "      <th>191921</th>\n",
       "      <td>2015-08-01</td>\n",
       "      <td>37</td>\n",
       "      <td>988408</td>\n",
       "      <td>5.000</td>\n",
       "      <td>0.0</td>\n",
       "      <td>2015-08</td>\n",
       "      <td>47.11</td>\n",
       "      <td>Cuenca</td>\n",
       "      <td>Azuay</td>\n",
       "      <td>D</td>\n",
       "      <td>2</td>\n",
       "      <td>GROCERY I</td>\n",
       "      <td>1076</td>\n",
       "      <td>0</td>\n",
       "      <td>WorkingDay</td>\n",
       "      <td>WorkingDay</td>\n",
       "      <td>WorkingDay</td>\n",
       "      <td>WorkingDay</td>\n",
       "      <td>WorkingDay</td>\n",
       "    </tr>\n",
       "  </tbody>\n",
       "</table>\n",
       "<p>191922 rows × 19 columns</p>\n",
       "</div>"
      ],
      "text/plain": [
       "              date  store_nbr  item_nbr  unit_sales  onpromotion    month  \\\n",
       "0       2016-10-26          6   1489881       6.000          1.0  2016-10   \n",
       "1       2014-06-02          9    953609       7.000          0.0  2014-06   \n",
       "2       2017-06-18         21   1946155       5.000          0.0  2017-06   \n",
       "3       2016-07-09         46    119023       6.000          0.0  2016-07   \n",
       "4       2016-08-04         43    760319       7.707          0.0  2016-08   \n",
       "...            ...        ...       ...         ...          ...      ...   \n",
       "191917  2015-08-25         17    220432      10.000          0.0  2015-08   \n",
       "191918  2014-07-03         30    890375       5.000          0.0  2014-07   \n",
       "191919  2014-08-13         44    795610      38.000          0.0  2014-08   \n",
       "191920  2013-10-01         34    213788       3.000          NaN  2013-10   \n",
       "191921  2015-08-01         37    988408       5.000          0.0  2015-08   \n",
       "\n",
       "        dcoilwtico           city                           state type  \\\n",
       "0            48.75          Quito                       Pichincha    D   \n",
       "1           103.07          Quito                       Pichincha    B   \n",
       "2            44.73  Santo Domingo  Santo Domingo de los Tsachilas    B   \n",
       "3            45.37          Quito                       Pichincha    A   \n",
       "4            41.92     Esmeraldas                      Esmeraldas    E   \n",
       "...            ...            ...                             ...  ...   \n",
       "191917       39.15          Quito                       Pichincha    C   \n",
       "191918      104.76      Guayaquil                          Guayas    C   \n",
       "191919       97.57          Quito                       Pichincha    A   \n",
       "191920      102.09      Guayaquil                          Guayas    B   \n",
       "191921       47.11         Cuenca                           Azuay    D   \n",
       "\n",
       "        cluster        family  class  perishable holiday_type      locale  \\\n",
       "0            13       PRODUCE   2018           1   WorkingDay  WorkingDay   \n",
       "1             6      CLEANING   3046           0   WorkingDay  WorkingDay   \n",
       "2             6          DELI   2650           1   WorkingDay  WorkingDay   \n",
       "3            14      CLEANING   3026           0   WorkingDay  WorkingDay   \n",
       "4            10       POULTRY   2416           1   WorkingDay  WorkingDay   \n",
       "...         ...           ...    ...         ...          ...         ...   \n",
       "191917       12     GROCERY I   1080           0   WorkingDay  WorkingDay   \n",
       "191918        3     GROCERY I   1002           0      Holiday       Local   \n",
       "191919        5  FROZEN FOODS   2220           0   WorkingDay  WorkingDay   \n",
       "191920        6     GROCERY I   1096           0   WorkingDay  WorkingDay   \n",
       "191921        2     GROCERY I   1076           0   WorkingDay  WorkingDay   \n",
       "\n",
       "       locale_name                 description transferred  \n",
       "0       WorkingDay                  WorkingDay  WorkingDay  \n",
       "1       WorkingDay                  WorkingDay  WorkingDay  \n",
       "2       WorkingDay                  WorkingDay  WorkingDay  \n",
       "3       WorkingDay                  WorkingDay  WorkingDay  \n",
       "4       WorkingDay                  WorkingDay  WorkingDay  \n",
       "...            ...                         ...         ...  \n",
       "191917  WorkingDay                  WorkingDay  WorkingDay  \n",
       "191918   El Carmen  Cantonizacion de El Carmen     Holiday  \n",
       "191919  WorkingDay                  WorkingDay  WorkingDay  \n",
       "191920  WorkingDay                  WorkingDay  WorkingDay  \n",
       "191921  WorkingDay                  WorkingDay  WorkingDay  \n",
       "\n",
       "[191922 rows x 19 columns]"
      ]
     },
     "execution_count": 4,
     "metadata": {},
     "output_type": "execute_result"
    }
   ],
   "source": [
    "df = pd.read_csv('cut_market_info.csv')\n",
    "\n",
    "df"
   ]
  },
  {
   "cell_type": "code",
   "execution_count": 5,
   "id": "3735bbff",
   "metadata": {},
   "outputs": [
    {
     "data": {
      "text/html": [
       "<div>\n",
       "<style scoped>\n",
       "    .dataframe tbody tr th:only-of-type {\n",
       "        vertical-align: middle;\n",
       "    }\n",
       "\n",
       "    .dataframe tbody tr th {\n",
       "        vertical-align: top;\n",
       "    }\n",
       "\n",
       "    .dataframe thead th {\n",
       "        text-align: right;\n",
       "    }\n",
       "</style>\n",
       "<table border=\"1\" class=\"dataframe\">\n",
       "  <thead>\n",
       "    <tr style=\"text-align: right;\">\n",
       "      <th></th>\n",
       "      <th>store_nbr</th>\n",
       "      <th>item_nbr</th>\n",
       "      <th>onpromotion</th>\n",
       "      <th>month</th>\n",
       "      <th>dcoilwtico</th>\n",
       "      <th>city</th>\n",
       "      <th>state</th>\n",
       "      <th>type</th>\n",
       "      <th>cluster</th>\n",
       "      <th>family</th>\n",
       "      <th>class</th>\n",
       "      <th>perishable</th>\n",
       "      <th>holiday_type</th>\n",
       "      <th>locale</th>\n",
       "      <th>locale_name</th>\n",
       "      <th>description</th>\n",
       "      <th>transferred</th>\n",
       "    </tr>\n",
       "  </thead>\n",
       "  <tbody>\n",
       "    <tr>\n",
       "      <th>0</th>\n",
       "      <td>6</td>\n",
       "      <td>1489881</td>\n",
       "      <td>1.0</td>\n",
       "      <td>2016-10</td>\n",
       "      <td>48.75</td>\n",
       "      <td>Quito</td>\n",
       "      <td>Pichincha</td>\n",
       "      <td>D</td>\n",
       "      <td>13</td>\n",
       "      <td>PRODUCE</td>\n",
       "      <td>2018</td>\n",
       "      <td>1</td>\n",
       "      <td>WorkingDay</td>\n",
       "      <td>WorkingDay</td>\n",
       "      <td>WorkingDay</td>\n",
       "      <td>WorkingDay</td>\n",
       "      <td>WorkingDay</td>\n",
       "    </tr>\n",
       "    <tr>\n",
       "      <th>1</th>\n",
       "      <td>9</td>\n",
       "      <td>953609</td>\n",
       "      <td>0.0</td>\n",
       "      <td>2014-06</td>\n",
       "      <td>103.07</td>\n",
       "      <td>Quito</td>\n",
       "      <td>Pichincha</td>\n",
       "      <td>B</td>\n",
       "      <td>6</td>\n",
       "      <td>CLEANING</td>\n",
       "      <td>3046</td>\n",
       "      <td>0</td>\n",
       "      <td>WorkingDay</td>\n",
       "      <td>WorkingDay</td>\n",
       "      <td>WorkingDay</td>\n",
       "      <td>WorkingDay</td>\n",
       "      <td>WorkingDay</td>\n",
       "    </tr>\n",
       "    <tr>\n",
       "      <th>2</th>\n",
       "      <td>21</td>\n",
       "      <td>1946155</td>\n",
       "      <td>0.0</td>\n",
       "      <td>2017-06</td>\n",
       "      <td>44.73</td>\n",
       "      <td>Santo Domingo</td>\n",
       "      <td>Santo Domingo de los Tsachilas</td>\n",
       "      <td>B</td>\n",
       "      <td>6</td>\n",
       "      <td>DELI</td>\n",
       "      <td>2650</td>\n",
       "      <td>1</td>\n",
       "      <td>WorkingDay</td>\n",
       "      <td>WorkingDay</td>\n",
       "      <td>WorkingDay</td>\n",
       "      <td>WorkingDay</td>\n",
       "      <td>WorkingDay</td>\n",
       "    </tr>\n",
       "    <tr>\n",
       "      <th>3</th>\n",
       "      <td>46</td>\n",
       "      <td>119023</td>\n",
       "      <td>0.0</td>\n",
       "      <td>2016-07</td>\n",
       "      <td>45.37</td>\n",
       "      <td>Quito</td>\n",
       "      <td>Pichincha</td>\n",
       "      <td>A</td>\n",
       "      <td>14</td>\n",
       "      <td>CLEANING</td>\n",
       "      <td>3026</td>\n",
       "      <td>0</td>\n",
       "      <td>WorkingDay</td>\n",
       "      <td>WorkingDay</td>\n",
       "      <td>WorkingDay</td>\n",
       "      <td>WorkingDay</td>\n",
       "      <td>WorkingDay</td>\n",
       "    </tr>\n",
       "    <tr>\n",
       "      <th>4</th>\n",
       "      <td>43</td>\n",
       "      <td>760319</td>\n",
       "      <td>0.0</td>\n",
       "      <td>2016-08</td>\n",
       "      <td>41.92</td>\n",
       "      <td>Esmeraldas</td>\n",
       "      <td>Esmeraldas</td>\n",
       "      <td>E</td>\n",
       "      <td>10</td>\n",
       "      <td>POULTRY</td>\n",
       "      <td>2416</td>\n",
       "      <td>1</td>\n",
       "      <td>WorkingDay</td>\n",
       "      <td>WorkingDay</td>\n",
       "      <td>WorkingDay</td>\n",
       "      <td>WorkingDay</td>\n",
       "      <td>WorkingDay</td>\n",
       "    </tr>\n",
       "  </tbody>\n",
       "</table>\n",
       "</div>"
      ],
      "text/plain": [
       "  store_nbr item_nbr onpromotion    month  dcoilwtico           city  \\\n",
       "0         6  1489881         1.0  2016-10       48.75          Quito   \n",
       "1         9   953609         0.0  2014-06      103.07          Quito   \n",
       "2        21  1946155         0.0  2017-06       44.73  Santo Domingo   \n",
       "3        46   119023         0.0  2016-07       45.37          Quito   \n",
       "4        43   760319         0.0  2016-08       41.92     Esmeraldas   \n",
       "\n",
       "                            state type cluster    family class perishable  \\\n",
       "0                       Pichincha    D      13   PRODUCE  2018          1   \n",
       "1                       Pichincha    B       6  CLEANING  3046          0   \n",
       "2  Santo Domingo de los Tsachilas    B       6      DELI  2650          1   \n",
       "3                       Pichincha    A      14  CLEANING  3026          0   \n",
       "4                      Esmeraldas    E      10   POULTRY  2416          1   \n",
       "\n",
       "  holiday_type      locale locale_name description transferred  \n",
       "0   WorkingDay  WorkingDay  WorkingDay  WorkingDay  WorkingDay  \n",
       "1   WorkingDay  WorkingDay  WorkingDay  WorkingDay  WorkingDay  \n",
       "2   WorkingDay  WorkingDay  WorkingDay  WorkingDay  WorkingDay  \n",
       "3   WorkingDay  WorkingDay  WorkingDay  WorkingDay  WorkingDay  \n",
       "4   WorkingDay  WorkingDay  WorkingDay  WorkingDay  WorkingDay  "
      ]
     },
     "execution_count": 5,
     "metadata": {},
     "output_type": "execute_result"
    }
   ],
   "source": [
    "X = df.drop(\"unit_sales\", axis=1)\n",
    "y = df[\"unit_sales\"]\n",
    "\n",
    "### Будем считать MSLE\n",
    "\n",
    "y = y.apply(np.log1p)\n",
    "\n",
    "### Отделим валидацию от теста по времени!\n",
    "\n",
    "X_test, X_train = X[X.date >= '2017-06-01'], X[X.date < '2017-06-01']\n",
    "\n",
    "y_test, y_train = y[y.index.isin(X_test.index)], y[y.index.isin(X_train.index)]\n",
    "\n",
    "### Уберем колонку с датой\n",
    "\n",
    "X_test = X_test.drop('date', axis=1)\n",
    "X_train = X_train.drop('date', axis=1)\n",
    "X = X.drop('date', axis=1)\n",
    "\n",
    "object_cols = ['store_nbr', 'item_nbr', 'onpromotion', 'month',\n",
    "               'city', 'state', 'type', 'cluster', 'family',\n",
    "               'class', 'perishable', 'holiday_type', 'locale',\n",
    "               'locale_name', 'description', 'transferred']\n",
    "\n",
    "X[object_cols] = X[object_cols].astype(object)\n",
    "X_test[object_cols] = X_test[object_cols].astype(object)\n",
    "X_train[object_cols] = X_train[object_cols].astype(object)\n",
    "\n",
    "X.head()"
   ]
  },
  {
   "cell_type": "code",
   "execution_count": 6,
   "id": "89fa7003",
   "metadata": {},
   "outputs": [],
   "source": [
    "from sklearn.model_selection import TimeSeriesSplit\n",
    "\n",
    "splitter = TimeSeriesSplit(n_splits=3)"
   ]
  },
  {
   "cell_type": "markdown",
   "id": "1fb933c1",
   "metadata": {},
   "source": [
    "### Дерево"
   ]
  },
  {
   "cell_type": "code",
   "execution_count": 7,
   "id": "0da26c73",
   "metadata": {},
   "outputs": [],
   "source": [
    "### Кастомные трансформеры - это круто, \n",
    "### но на больших данных необходимо задумываться\n",
    "### об оптимизации и векторных вычислениях\n",
    "### Будем трансформировать колонки уже готовыми реализациями\n"
   ]
  },
  {
   "cell_type": "code",
   "execution_count": 8,
   "id": "00d3db5d",
   "metadata": {},
   "outputs": [
    {
     "name": "stdout",
     "output_type": "stream",
     "text": [
      "Collecting category-encoders\n",
      "  Downloading category_encoders-2.6.0-py2.py3-none-any.whl (81 kB)\n",
      "\u001b[2K     \u001b[90m━━━━━━━━━━━━━━━━━━━━━━━━━━━━━━━━━━━━━━━\u001b[0m \u001b[32m81.2/81.2 kB\u001b[0m \u001b[31m764.1 kB/s\u001b[0m eta \u001b[36m0:00:00\u001b[0ma \u001b[36m0:00:01\u001b[0m\n",
      "\u001b[?25hRequirement already satisfied: scikit-learn>=0.20.0 in /Library/Frameworks/Python.framework/Versions/3.10/lib/python3.10/site-packages (from category-encoders) (1.1.2)\n",
      "Requirement already satisfied: patsy>=0.5.1 in /Library/Frameworks/Python.framework/Versions/3.10/lib/python3.10/site-packages (from category-encoders) (0.5.2)\n",
      "Requirement already satisfied: scipy>=1.0.0 in /Library/Frameworks/Python.framework/Versions/3.10/lib/python3.10/site-packages (from category-encoders) (1.9.1)\n",
      "Requirement already satisfied: pandas>=1.0.5 in /Library/Frameworks/Python.framework/Versions/3.10/lib/python3.10/site-packages (from category-encoders) (1.5.1)\n",
      "Requirement already satisfied: statsmodels>=0.9.0 in /Library/Frameworks/Python.framework/Versions/3.10/lib/python3.10/site-packages (from category-encoders) (0.13.2)\n",
      "Requirement already satisfied: numpy>=1.14.0 in /Library/Frameworks/Python.framework/Versions/3.10/lib/python3.10/site-packages (from category-encoders) (1.23.3)\n",
      "Requirement already satisfied: python-dateutil>=2.8.1 in /Library/Frameworks/Python.framework/Versions/3.10/lib/python3.10/site-packages (from pandas>=1.0.5->category-encoders) (2.8.2)\n",
      "Requirement already satisfied: pytz>=2020.1 in /Library/Frameworks/Python.framework/Versions/3.10/lib/python3.10/site-packages (from pandas>=1.0.5->category-encoders) (2022.2.1)\n",
      "Requirement already satisfied: six in /Library/Frameworks/Python.framework/Versions/3.10/lib/python3.10/site-packages (from patsy>=0.5.1->category-encoders) (1.16.0)\n",
      "Requirement already satisfied: joblib>=1.0.0 in /Library/Frameworks/Python.framework/Versions/3.10/lib/python3.10/site-packages (from scikit-learn>=0.20.0->category-encoders) (1.1.0)\n",
      "Requirement already satisfied: threadpoolctl>=2.0.0 in /Library/Frameworks/Python.framework/Versions/3.10/lib/python3.10/site-packages (from scikit-learn>=0.20.0->category-encoders) (3.1.0)\n",
      "Requirement already satisfied: packaging>=21.3 in /Library/Frameworks/Python.framework/Versions/3.10/lib/python3.10/site-packages (from statsmodels>=0.9.0->category-encoders) (22.0)\n",
      "Installing collected packages: category-encoders\n",
      "Successfully installed category-encoders-2.6.0\n",
      "\n",
      "\u001b[1m[\u001b[0m\u001b[34;49mnotice\u001b[0m\u001b[1;39;49m]\u001b[0m\u001b[39;49m A new release of pip is available: \u001b[0m\u001b[31;49m23.0\u001b[0m\u001b[39;49m -> \u001b[0m\u001b[32;49m23.0.1\u001b[0m\n",
      "\u001b[1m[\u001b[0m\u001b[34;49mnotice\u001b[0m\u001b[1;39;49m]\u001b[0m\u001b[39;49m To update, run: \u001b[0m\u001b[32;49mpip install --upgrade pip\u001b[0m\n"
     ]
    }
   ],
   "source": [
    "!pip install category-encoders"
   ]
  },
  {
   "cell_type": "code",
   "execution_count": 9,
   "id": "c0f3d9b2",
   "metadata": {},
   "outputs": [],
   "source": [
    "### Запишем заранее колонки для OHE\n",
    "### и счетчиков\n",
    "### а также вещественные колонки\n",
    "\n",
    "\n",
    "cols_for_ohe = [x for x in object_cols if X_train[x].nunique() < 5]\n",
    "cols_for_mte = [x for x in object_cols if X_train[x].nunique() >= 5]\n",
    "numeric_cols = list(X_train.select_dtypes(exclude='object').columns)\n",
    "\n",
    "### сохраним индексы этих колонок\n",
    "\n",
    "cols_for_ohe_idx = [list(X_train.columns).index(col) for col in cols_for_ohe]\n",
    "cols_for_mte_idx = [list(X_train.columns).index(col) for col in cols_for_mte]\n",
    "numeric_cols_idx = [list(X_train.columns).index(col) for col in numeric_cols]"
   ]
  },
  {
   "cell_type": "code",
   "execution_count": 10,
   "id": "a56fb15d",
   "metadata": {},
   "outputs": [],
   "source": [
    "from sklearn.compose import ColumnTransformer\n",
    "from category_encoders import TargetEncoder\n",
    "from category_encoders.one_hot import OneHotEncoder\n",
    "from sklearn.preprocessing import StandardScaler\n",
    "\n",
    "t = [('OneHotEncoder', OneHotEncoder(), cols_for_ohe_idx),\n",
    "     ('MeanTargetEncoder', TargetEncoder(), cols_for_mte_idx),\n",
    "     ('StandardScaler', StandardScaler(), numeric_cols_idx)]\n",
    "\n",
    "col_transform = ColumnTransformer(transformers=t)"
   ]
  },
  {
   "cell_type": "code",
   "execution_count": 11,
   "id": "9060e369",
   "metadata": {},
   "outputs": [
    {
     "data": {
      "text/html": [
       "<style>#sk-container-id-1 {color: black;background-color: white;}#sk-container-id-1 pre{padding: 0;}#sk-container-id-1 div.sk-toggleable {background-color: white;}#sk-container-id-1 label.sk-toggleable__label {cursor: pointer;display: block;width: 100%;margin-bottom: 0;padding: 0.3em;box-sizing: border-box;text-align: center;}#sk-container-id-1 label.sk-toggleable__label-arrow:before {content: \"▸\";float: left;margin-right: 0.25em;color: #696969;}#sk-container-id-1 label.sk-toggleable__label-arrow:hover:before {color: black;}#sk-container-id-1 div.sk-estimator:hover label.sk-toggleable__label-arrow:before {color: black;}#sk-container-id-1 div.sk-toggleable__content {max-height: 0;max-width: 0;overflow: hidden;text-align: left;background-color: #f0f8ff;}#sk-container-id-1 div.sk-toggleable__content pre {margin: 0.2em;color: black;border-radius: 0.25em;background-color: #f0f8ff;}#sk-container-id-1 input.sk-toggleable__control:checked~div.sk-toggleable__content {max-height: 200px;max-width: 100%;overflow: auto;}#sk-container-id-1 input.sk-toggleable__control:checked~label.sk-toggleable__label-arrow:before {content: \"▾\";}#sk-container-id-1 div.sk-estimator input.sk-toggleable__control:checked~label.sk-toggleable__label {background-color: #d4ebff;}#sk-container-id-1 div.sk-label input.sk-toggleable__control:checked~label.sk-toggleable__label {background-color: #d4ebff;}#sk-container-id-1 input.sk-hidden--visually {border: 0;clip: rect(1px 1px 1px 1px);clip: rect(1px, 1px, 1px, 1px);height: 1px;margin: -1px;overflow: hidden;padding: 0;position: absolute;width: 1px;}#sk-container-id-1 div.sk-estimator {font-family: monospace;background-color: #f0f8ff;border: 1px dotted black;border-radius: 0.25em;box-sizing: border-box;margin-bottom: 0.5em;}#sk-container-id-1 div.sk-estimator:hover {background-color: #d4ebff;}#sk-container-id-1 div.sk-parallel-item::after {content: \"\";width: 100%;border-bottom: 1px solid gray;flex-grow: 1;}#sk-container-id-1 div.sk-label:hover label.sk-toggleable__label {background-color: #d4ebff;}#sk-container-id-1 div.sk-serial::before {content: \"\";position: absolute;border-left: 1px solid gray;box-sizing: border-box;top: 0;bottom: 0;left: 50%;z-index: 0;}#sk-container-id-1 div.sk-serial {display: flex;flex-direction: column;align-items: center;background-color: white;padding-right: 0.2em;padding-left: 0.2em;position: relative;}#sk-container-id-1 div.sk-item {position: relative;z-index: 1;}#sk-container-id-1 div.sk-parallel {display: flex;align-items: stretch;justify-content: center;background-color: white;position: relative;}#sk-container-id-1 div.sk-item::before, #sk-container-id-1 div.sk-parallel-item::before {content: \"\";position: absolute;border-left: 1px solid gray;box-sizing: border-box;top: 0;bottom: 0;left: 50%;z-index: -1;}#sk-container-id-1 div.sk-parallel-item {display: flex;flex-direction: column;z-index: 1;position: relative;background-color: white;}#sk-container-id-1 div.sk-parallel-item:first-child::after {align-self: flex-end;width: 50%;}#sk-container-id-1 div.sk-parallel-item:last-child::after {align-self: flex-start;width: 50%;}#sk-container-id-1 div.sk-parallel-item:only-child::after {width: 0;}#sk-container-id-1 div.sk-dashed-wrapped {border: 1px dashed gray;margin: 0 0.4em 0.5em 0.4em;box-sizing: border-box;padding-bottom: 0.4em;background-color: white;}#sk-container-id-1 div.sk-label label {font-family: monospace;font-weight: bold;display: inline-block;line-height: 1.2em;}#sk-container-id-1 div.sk-label-container {text-align: center;}#sk-container-id-1 div.sk-container {/* jupyter's `normalize.less` sets `[hidden] { display: none; }` but bootstrap.min.css set `[hidden] { display: none !important; }` so we also need the `!important` here to be able to override the default hidden behavior on the sphinx rendered scikit-learn.org. See: https://github.com/scikit-learn/scikit-learn/issues/21755 */display: inline-block !important;position: relative;}#sk-container-id-1 div.sk-text-repr-fallback {display: none;}</style><div id=\"sk-container-id-1\" class=\"sk-top-container\"><div class=\"sk-text-repr-fallback\"><pre>ColumnTransformer(transformers=[(&#x27;OneHotEncoder&#x27;, OneHotEncoder(), [2, 11, 13]),\n",
       "                                (&#x27;MeanTargetEncoder&#x27;, TargetEncoder(),\n",
       "                                 [0, 1, 3, 5, 6, 7, 8, 9, 10, 12, 14, 15, 16]),\n",
       "                                (&#x27;StandardScaler&#x27;, StandardScaler(), [4])])</pre><b>In a Jupyter environment, please rerun this cell to show the HTML representation or trust the notebook. <br />On GitHub, the HTML representation is unable to render, please try loading this page with nbviewer.org.</b></div><div class=\"sk-container\" hidden><div class=\"sk-item sk-dashed-wrapped\"><div class=\"sk-label-container\"><div class=\"sk-label sk-toggleable\"><input class=\"sk-toggleable__control sk-hidden--visually\" id=\"sk-estimator-id-1\" type=\"checkbox\" ><label for=\"sk-estimator-id-1\" class=\"sk-toggleable__label sk-toggleable__label-arrow\">ColumnTransformer</label><div class=\"sk-toggleable__content\"><pre>ColumnTransformer(transformers=[(&#x27;OneHotEncoder&#x27;, OneHotEncoder(), [2, 11, 13]),\n",
       "                                (&#x27;MeanTargetEncoder&#x27;, TargetEncoder(),\n",
       "                                 [0, 1, 3, 5, 6, 7, 8, 9, 10, 12, 14, 15, 16]),\n",
       "                                (&#x27;StandardScaler&#x27;, StandardScaler(), [4])])</pre></div></div></div><div class=\"sk-parallel\"><div class=\"sk-parallel-item\"><div class=\"sk-item\"><div class=\"sk-label-container\"><div class=\"sk-label sk-toggleable\"><input class=\"sk-toggleable__control sk-hidden--visually\" id=\"sk-estimator-id-2\" type=\"checkbox\" ><label for=\"sk-estimator-id-2\" class=\"sk-toggleable__label sk-toggleable__label-arrow\">OneHotEncoder</label><div class=\"sk-toggleable__content\"><pre>[2, 11, 13]</pre></div></div></div><div class=\"sk-serial\"><div class=\"sk-item\"><div class=\"sk-estimator sk-toggleable\"><input class=\"sk-toggleable__control sk-hidden--visually\" id=\"sk-estimator-id-3\" type=\"checkbox\" ><label for=\"sk-estimator-id-3\" class=\"sk-toggleable__label sk-toggleable__label-arrow\">OneHotEncoder</label><div class=\"sk-toggleable__content\"><pre>OneHotEncoder()</pre></div></div></div></div></div></div><div class=\"sk-parallel-item\"><div class=\"sk-item\"><div class=\"sk-label-container\"><div class=\"sk-label sk-toggleable\"><input class=\"sk-toggleable__control sk-hidden--visually\" id=\"sk-estimator-id-4\" type=\"checkbox\" ><label for=\"sk-estimator-id-4\" class=\"sk-toggleable__label sk-toggleable__label-arrow\">MeanTargetEncoder</label><div class=\"sk-toggleable__content\"><pre>[0, 1, 3, 5, 6, 7, 8, 9, 10, 12, 14, 15, 16]</pre></div></div></div><div class=\"sk-serial\"><div class=\"sk-item\"><div class=\"sk-estimator sk-toggleable\"><input class=\"sk-toggleable__control sk-hidden--visually\" id=\"sk-estimator-id-5\" type=\"checkbox\" ><label for=\"sk-estimator-id-5\" class=\"sk-toggleable__label sk-toggleable__label-arrow\">TargetEncoder</label><div class=\"sk-toggleable__content\"><pre>TargetEncoder()</pre></div></div></div></div></div></div><div class=\"sk-parallel-item\"><div class=\"sk-item\"><div class=\"sk-label-container\"><div class=\"sk-label sk-toggleable\"><input class=\"sk-toggleable__control sk-hidden--visually\" id=\"sk-estimator-id-6\" type=\"checkbox\" ><label for=\"sk-estimator-id-6\" class=\"sk-toggleable__label sk-toggleable__label-arrow\">StandardScaler</label><div class=\"sk-toggleable__content\"><pre>[4]</pre></div></div></div><div class=\"sk-serial\"><div class=\"sk-item\"><div class=\"sk-estimator sk-toggleable\"><input class=\"sk-toggleable__control sk-hidden--visually\" id=\"sk-estimator-id-7\" type=\"checkbox\" ><label for=\"sk-estimator-id-7\" class=\"sk-toggleable__label sk-toggleable__label-arrow\">StandardScaler</label><div class=\"sk-toggleable__content\"><pre>StandardScaler()</pre></div></div></div></div></div></div></div></div></div></div>"
      ],
      "text/plain": [
       "ColumnTransformer(transformers=[('OneHotEncoder', OneHotEncoder(), [2, 11, 13]),\n",
       "                                ('MeanTargetEncoder', TargetEncoder(),\n",
       "                                 [0, 1, 3, 5, 6, 7, 8, 9, 10, 12, 14, 15, 16]),\n",
       "                                ('StandardScaler', StandardScaler(), [4])])"
      ]
     },
     "execution_count": 11,
     "metadata": {},
     "output_type": "execute_result"
    }
   ],
   "source": [
    "col_transform.fit(X_train, y_train)"
   ]
  },
  {
   "cell_type": "code",
   "execution_count": 12,
   "id": "e4e51315",
   "metadata": {},
   "outputs": [
    {
     "data": {
      "text/plain": [
       "array([[ 0.        ,  1.        ,  0.        , ...,  1.74964584,\n",
       "         1.74964584, -0.73037563],\n",
       "       [ 0.        ,  1.        ,  0.        , ...,  1.74964584,\n",
       "         1.74964584, -0.68616989],\n",
       "       [ 0.        ,  1.        ,  0.        , ...,  1.74964584,\n",
       "         1.74964584, -0.60849999],\n",
       "       ...,\n",
       "       [ 0.        ,  1.        ,  0.        , ...,  1.74964584,\n",
       "         1.74964584, -0.67708086],\n",
       "       [ 0.        ,  1.        ,  0.        , ...,  1.74964584,\n",
       "         1.74964584, -0.68616989],\n",
       "       [ 0.        ,  1.        ,  0.        , ...,  1.74964584,\n",
       "         1.74964584, -0.56181542]])"
      ]
     },
     "execution_count": 12,
     "metadata": {},
     "output_type": "execute_result"
    }
   ],
   "source": [
    "col_transform.transform(X_test)"
   ]
  },
  {
   "cell_type": "code",
   "execution_count": 13,
   "id": "e6b5c9b9",
   "metadata": {},
   "outputs": [
    {
     "data": {
      "text/html": [
       "<style>#sk-container-id-2 {color: black;background-color: white;}#sk-container-id-2 pre{padding: 0;}#sk-container-id-2 div.sk-toggleable {background-color: white;}#sk-container-id-2 label.sk-toggleable__label {cursor: pointer;display: block;width: 100%;margin-bottom: 0;padding: 0.3em;box-sizing: border-box;text-align: center;}#sk-container-id-2 label.sk-toggleable__label-arrow:before {content: \"▸\";float: left;margin-right: 0.25em;color: #696969;}#sk-container-id-2 label.sk-toggleable__label-arrow:hover:before {color: black;}#sk-container-id-2 div.sk-estimator:hover label.sk-toggleable__label-arrow:before {color: black;}#sk-container-id-2 div.sk-toggleable__content {max-height: 0;max-width: 0;overflow: hidden;text-align: left;background-color: #f0f8ff;}#sk-container-id-2 div.sk-toggleable__content pre {margin: 0.2em;color: black;border-radius: 0.25em;background-color: #f0f8ff;}#sk-container-id-2 input.sk-toggleable__control:checked~div.sk-toggleable__content {max-height: 200px;max-width: 100%;overflow: auto;}#sk-container-id-2 input.sk-toggleable__control:checked~label.sk-toggleable__label-arrow:before {content: \"▾\";}#sk-container-id-2 div.sk-estimator input.sk-toggleable__control:checked~label.sk-toggleable__label {background-color: #d4ebff;}#sk-container-id-2 div.sk-label input.sk-toggleable__control:checked~label.sk-toggleable__label {background-color: #d4ebff;}#sk-container-id-2 input.sk-hidden--visually {border: 0;clip: rect(1px 1px 1px 1px);clip: rect(1px, 1px, 1px, 1px);height: 1px;margin: -1px;overflow: hidden;padding: 0;position: absolute;width: 1px;}#sk-container-id-2 div.sk-estimator {font-family: monospace;background-color: #f0f8ff;border: 1px dotted black;border-radius: 0.25em;box-sizing: border-box;margin-bottom: 0.5em;}#sk-container-id-2 div.sk-estimator:hover {background-color: #d4ebff;}#sk-container-id-2 div.sk-parallel-item::after {content: \"\";width: 100%;border-bottom: 1px solid gray;flex-grow: 1;}#sk-container-id-2 div.sk-label:hover label.sk-toggleable__label {background-color: #d4ebff;}#sk-container-id-2 div.sk-serial::before {content: \"\";position: absolute;border-left: 1px solid gray;box-sizing: border-box;top: 0;bottom: 0;left: 50%;z-index: 0;}#sk-container-id-2 div.sk-serial {display: flex;flex-direction: column;align-items: center;background-color: white;padding-right: 0.2em;padding-left: 0.2em;position: relative;}#sk-container-id-2 div.sk-item {position: relative;z-index: 1;}#sk-container-id-2 div.sk-parallel {display: flex;align-items: stretch;justify-content: center;background-color: white;position: relative;}#sk-container-id-2 div.sk-item::before, #sk-container-id-2 div.sk-parallel-item::before {content: \"\";position: absolute;border-left: 1px solid gray;box-sizing: border-box;top: 0;bottom: 0;left: 50%;z-index: -1;}#sk-container-id-2 div.sk-parallel-item {display: flex;flex-direction: column;z-index: 1;position: relative;background-color: white;}#sk-container-id-2 div.sk-parallel-item:first-child::after {align-self: flex-end;width: 50%;}#sk-container-id-2 div.sk-parallel-item:last-child::after {align-self: flex-start;width: 50%;}#sk-container-id-2 div.sk-parallel-item:only-child::after {width: 0;}#sk-container-id-2 div.sk-dashed-wrapped {border: 1px dashed gray;margin: 0 0.4em 0.5em 0.4em;box-sizing: border-box;padding-bottom: 0.4em;background-color: white;}#sk-container-id-2 div.sk-label label {font-family: monospace;font-weight: bold;display: inline-block;line-height: 1.2em;}#sk-container-id-2 div.sk-label-container {text-align: center;}#sk-container-id-2 div.sk-container {/* jupyter's `normalize.less` sets `[hidden] { display: none; }` but bootstrap.min.css set `[hidden] { display: none !important; }` so we also need the `!important` here to be able to override the default hidden behavior on the sphinx rendered scikit-learn.org. See: https://github.com/scikit-learn/scikit-learn/issues/21755 */display: inline-block !important;position: relative;}#sk-container-id-2 div.sk-text-repr-fallback {display: none;}</style><div id=\"sk-container-id-2\" class=\"sk-top-container\"><div class=\"sk-text-repr-fallback\"><pre>Pipeline(steps=[(&#x27;column_transformer&#x27;,\n",
       "                 ColumnTransformer(transformers=[(&#x27;OneHotEncoder&#x27;,\n",
       "                                                  OneHotEncoder(),\n",
       "                                                  [2, 11, 13]),\n",
       "                                                 (&#x27;MeanTargetEncoder&#x27;,\n",
       "                                                  TargetEncoder(),\n",
       "                                                  [0, 1, 3, 5, 6, 7, 8, 9, 10,\n",
       "                                                   12, 14, 15, 16]),\n",
       "                                                 (&#x27;StandardScaler&#x27;,\n",
       "                                                  StandardScaler(), [4])])),\n",
       "                (&#x27;decision_tree&#x27;, DecisionTreeRegressor())])</pre><b>In a Jupyter environment, please rerun this cell to show the HTML representation or trust the notebook. <br />On GitHub, the HTML representation is unable to render, please try loading this page with nbviewer.org.</b></div><div class=\"sk-container\" hidden><div class=\"sk-item sk-dashed-wrapped\"><div class=\"sk-label-container\"><div class=\"sk-label sk-toggleable\"><input class=\"sk-toggleable__control sk-hidden--visually\" id=\"sk-estimator-id-8\" type=\"checkbox\" ><label for=\"sk-estimator-id-8\" class=\"sk-toggleable__label sk-toggleable__label-arrow\">Pipeline</label><div class=\"sk-toggleable__content\"><pre>Pipeline(steps=[(&#x27;column_transformer&#x27;,\n",
       "                 ColumnTransformer(transformers=[(&#x27;OneHotEncoder&#x27;,\n",
       "                                                  OneHotEncoder(),\n",
       "                                                  [2, 11, 13]),\n",
       "                                                 (&#x27;MeanTargetEncoder&#x27;,\n",
       "                                                  TargetEncoder(),\n",
       "                                                  [0, 1, 3, 5, 6, 7, 8, 9, 10,\n",
       "                                                   12, 14, 15, 16]),\n",
       "                                                 (&#x27;StandardScaler&#x27;,\n",
       "                                                  StandardScaler(), [4])])),\n",
       "                (&#x27;decision_tree&#x27;, DecisionTreeRegressor())])</pre></div></div></div><div class=\"sk-serial\"><div class=\"sk-item sk-dashed-wrapped\"><div class=\"sk-label-container\"><div class=\"sk-label sk-toggleable\"><input class=\"sk-toggleable__control sk-hidden--visually\" id=\"sk-estimator-id-9\" type=\"checkbox\" ><label for=\"sk-estimator-id-9\" class=\"sk-toggleable__label sk-toggleable__label-arrow\">column_transformer: ColumnTransformer</label><div class=\"sk-toggleable__content\"><pre>ColumnTransformer(transformers=[(&#x27;OneHotEncoder&#x27;, OneHotEncoder(), [2, 11, 13]),\n",
       "                                (&#x27;MeanTargetEncoder&#x27;, TargetEncoder(),\n",
       "                                 [0, 1, 3, 5, 6, 7, 8, 9, 10, 12, 14, 15, 16]),\n",
       "                                (&#x27;StandardScaler&#x27;, StandardScaler(), [4])])</pre></div></div></div><div class=\"sk-parallel\"><div class=\"sk-parallel-item\"><div class=\"sk-item\"><div class=\"sk-label-container\"><div class=\"sk-label sk-toggleable\"><input class=\"sk-toggleable__control sk-hidden--visually\" id=\"sk-estimator-id-10\" type=\"checkbox\" ><label for=\"sk-estimator-id-10\" class=\"sk-toggleable__label sk-toggleable__label-arrow\">OneHotEncoder</label><div class=\"sk-toggleable__content\"><pre>[2, 11, 13]</pre></div></div></div><div class=\"sk-serial\"><div class=\"sk-item\"><div class=\"sk-estimator sk-toggleable\"><input class=\"sk-toggleable__control sk-hidden--visually\" id=\"sk-estimator-id-11\" type=\"checkbox\" ><label for=\"sk-estimator-id-11\" class=\"sk-toggleable__label sk-toggleable__label-arrow\">OneHotEncoder</label><div class=\"sk-toggleable__content\"><pre>OneHotEncoder()</pre></div></div></div></div></div></div><div class=\"sk-parallel-item\"><div class=\"sk-item\"><div class=\"sk-label-container\"><div class=\"sk-label sk-toggleable\"><input class=\"sk-toggleable__control sk-hidden--visually\" id=\"sk-estimator-id-12\" type=\"checkbox\" ><label for=\"sk-estimator-id-12\" class=\"sk-toggleable__label sk-toggleable__label-arrow\">MeanTargetEncoder</label><div class=\"sk-toggleable__content\"><pre>[0, 1, 3, 5, 6, 7, 8, 9, 10, 12, 14, 15, 16]</pre></div></div></div><div class=\"sk-serial\"><div class=\"sk-item\"><div class=\"sk-estimator sk-toggleable\"><input class=\"sk-toggleable__control sk-hidden--visually\" id=\"sk-estimator-id-13\" type=\"checkbox\" ><label for=\"sk-estimator-id-13\" class=\"sk-toggleable__label sk-toggleable__label-arrow\">TargetEncoder</label><div class=\"sk-toggleable__content\"><pre>TargetEncoder()</pre></div></div></div></div></div></div><div class=\"sk-parallel-item\"><div class=\"sk-item\"><div class=\"sk-label-container\"><div class=\"sk-label sk-toggleable\"><input class=\"sk-toggleable__control sk-hidden--visually\" id=\"sk-estimator-id-14\" type=\"checkbox\" ><label for=\"sk-estimator-id-14\" class=\"sk-toggleable__label sk-toggleable__label-arrow\">StandardScaler</label><div class=\"sk-toggleable__content\"><pre>[4]</pre></div></div></div><div class=\"sk-serial\"><div class=\"sk-item\"><div class=\"sk-estimator sk-toggleable\"><input class=\"sk-toggleable__control sk-hidden--visually\" id=\"sk-estimator-id-15\" type=\"checkbox\" ><label for=\"sk-estimator-id-15\" class=\"sk-toggleable__label sk-toggleable__label-arrow\">StandardScaler</label><div class=\"sk-toggleable__content\"><pre>StandardScaler()</pre></div></div></div></div></div></div></div></div><div class=\"sk-item\"><div class=\"sk-estimator sk-toggleable\"><input class=\"sk-toggleable__control sk-hidden--visually\" id=\"sk-estimator-id-16\" type=\"checkbox\" ><label for=\"sk-estimator-id-16\" class=\"sk-toggleable__label sk-toggleable__label-arrow\">DecisionTreeRegressor</label><div class=\"sk-toggleable__content\"><pre>DecisionTreeRegressor()</pre></div></div></div></div></div></div></div>"
      ],
      "text/plain": [
       "Pipeline(steps=[('column_transformer',\n",
       "                 ColumnTransformer(transformers=[('OneHotEncoder',\n",
       "                                                  OneHotEncoder(),\n",
       "                                                  [2, 11, 13]),\n",
       "                                                 ('MeanTargetEncoder',\n",
       "                                                  TargetEncoder(),\n",
       "                                                  [0, 1, 3, 5, 6, 7, 8, 9, 10,\n",
       "                                                   12, 14, 15, 16]),\n",
       "                                                 ('StandardScaler',\n",
       "                                                  StandardScaler(), [4])])),\n",
       "                ('decision_tree', DecisionTreeRegressor())])"
      ]
     },
     "execution_count": 13,
     "metadata": {},
     "output_type": "execute_result"
    }
   ],
   "source": [
    "from sklearn.tree import DecisionTreeRegressor\n",
    "from sklearn.pipeline import Pipeline\n",
    "\n",
    "pipe_dt = Pipeline([(\"column_transformer\",\n",
    "                     col_transform),\n",
    "                     \n",
    "                    (\"decision_tree\", \n",
    "                     DecisionTreeRegressor())])\n",
    "\n",
    "pipe_dt.fit(X_train, y_train)"
   ]
  },
  {
   "cell_type": "code",
   "execution_count": 14,
   "id": "352c9216",
   "metadata": {},
   "outputs": [
    {
     "name": "stdout",
     "output_type": "stream",
     "text": [
      "Качество на трейне: 0.0\n",
      "Качество на тесте: 0.837\n"
     ]
    }
   ],
   "source": [
    "### Замерим качество работы такой модели\n",
    "### Возьмем MSLE\n",
    "\n",
    "train_preds = pipe_dt.predict(X_train)\n",
    "test_preds = pipe_dt.predict(X_test)\n",
    "\n",
    "train_error = np.mean((train_preds - y_train)**2)\n",
    "test_error = np.mean((test_preds - y_test)**2)\n",
    "\n",
    "\n",
    "print(f\"Качество на трейне: {train_error.round(3)}\")\n",
    "print(f\"Качество на тесте: {test_error.round(3)}\")"
   ]
  },
  {
   "cell_type": "code",
   "execution_count": 15,
   "id": "794867ff",
   "metadata": {},
   "outputs": [
    {
     "name": "stdout",
     "output_type": "stream",
     "text": [
      "Fitting 3 folds for each of 36 candidates, totalling 108 fits\n",
      "[CV 1/3; 1/36] START decision_tree__max_depth=3, decision_tree__max_leaf_nodes=100, decision_tree__min_impurity_decrease=0, decision_tree__min_samples_split=10\n",
      "[CV 1/3; 1/36] END decision_tree__max_depth=3, decision_tree__max_leaf_nodes=100, decision_tree__min_impurity_decrease=0, decision_tree__min_samples_split=10;, score=-0.539 total time=   1.3s\n",
      "[CV 2/3; 1/36] START decision_tree__max_depth=3, decision_tree__max_leaf_nodes=100, decision_tree__min_impurity_decrease=0, decision_tree__min_samples_split=10\n",
      "[CV 2/3; 1/36] END decision_tree__max_depth=3, decision_tree__max_leaf_nodes=100, decision_tree__min_impurity_decrease=0, decision_tree__min_samples_split=10;, score=-0.524 total time=   2.2s\n",
      "[CV 3/3; 1/36] START decision_tree__max_depth=3, decision_tree__max_leaf_nodes=100, decision_tree__min_impurity_decrease=0, decision_tree__min_samples_split=10\n",
      "[CV 3/3; 1/36] END decision_tree__max_depth=3, decision_tree__max_leaf_nodes=100, decision_tree__min_impurity_decrease=0, decision_tree__min_samples_split=10;, score=-0.516 total time=   3.2s\n",
      "[CV 1/3; 2/36] START decision_tree__max_depth=3, decision_tree__max_leaf_nodes=100, decision_tree__min_impurity_decrease=0, decision_tree__min_samples_split=200\n",
      "[CV 1/3; 2/36] END decision_tree__max_depth=3, decision_tree__max_leaf_nodes=100, decision_tree__min_impurity_decrease=0, decision_tree__min_samples_split=200;, score=-0.539 total time=   1.3s\n",
      "[CV 2/3; 2/36] START decision_tree__max_depth=3, decision_tree__max_leaf_nodes=100, decision_tree__min_impurity_decrease=0, decision_tree__min_samples_split=200\n",
      "[CV 2/3; 2/36] END decision_tree__max_depth=3, decision_tree__max_leaf_nodes=100, decision_tree__min_impurity_decrease=0, decision_tree__min_samples_split=200;, score=-0.524 total time=   2.2s\n",
      "[CV 3/3; 2/36] START decision_tree__max_depth=3, decision_tree__max_leaf_nodes=100, decision_tree__min_impurity_decrease=0, decision_tree__min_samples_split=200\n",
      "[CV 3/3; 2/36] END decision_tree__max_depth=3, decision_tree__max_leaf_nodes=100, decision_tree__min_impurity_decrease=0, decision_tree__min_samples_split=200;, score=-0.516 total time=   3.2s\n",
      "[CV 1/3; 3/36] START decision_tree__max_depth=3, decision_tree__max_leaf_nodes=100, decision_tree__min_impurity_decrease=0, decision_tree__min_samples_split=50000\n",
      "[CV 1/3; 3/36] END decision_tree__max_depth=3, decision_tree__max_leaf_nodes=100, decision_tree__min_impurity_decrease=0, decision_tree__min_samples_split=50000;, score=-0.779 total time=   1.2s\n",
      "[CV 2/3; 3/36] START decision_tree__max_depth=3, decision_tree__max_leaf_nodes=100, decision_tree__min_impurity_decrease=0, decision_tree__min_samples_split=50000\n",
      "[CV 2/3; 3/36] END decision_tree__max_depth=3, decision_tree__max_leaf_nodes=100, decision_tree__min_impurity_decrease=0, decision_tree__min_samples_split=50000;, score=-0.608 total time=   2.1s\n",
      "[CV 3/3; 3/36] START decision_tree__max_depth=3, decision_tree__max_leaf_nodes=100, decision_tree__min_impurity_decrease=0, decision_tree__min_samples_split=50000\n",
      "[CV 3/3; 3/36] END decision_tree__max_depth=3, decision_tree__max_leaf_nodes=100, decision_tree__min_impurity_decrease=0, decision_tree__min_samples_split=50000;, score=-0.602 total time=   3.1s\n",
      "[CV 1/3; 4/36] START decision_tree__max_depth=3, decision_tree__max_leaf_nodes=100, decision_tree__min_impurity_decrease=0.1, decision_tree__min_samples_split=10\n",
      "[CV 1/3; 4/36] END decision_tree__max_depth=3, decision_tree__max_leaf_nodes=100, decision_tree__min_impurity_decrease=0.1, decision_tree__min_samples_split=10;, score=-0.637 total time=   1.3s\n",
      "[CV 2/3; 4/36] START decision_tree__max_depth=3, decision_tree__max_leaf_nodes=100, decision_tree__min_impurity_decrease=0.1, decision_tree__min_samples_split=10\n",
      "[CV 2/3; 4/36] END decision_tree__max_depth=3, decision_tree__max_leaf_nodes=100, decision_tree__min_impurity_decrease=0.1, decision_tree__min_samples_split=10;, score=-0.626 total time=   2.2s\n",
      "[CV 3/3; 4/36] START decision_tree__max_depth=3, decision_tree__max_leaf_nodes=100, decision_tree__min_impurity_decrease=0.1, decision_tree__min_samples_split=10\n",
      "[CV 3/3; 4/36] END decision_tree__max_depth=3, decision_tree__max_leaf_nodes=100, decision_tree__min_impurity_decrease=0.1, decision_tree__min_samples_split=10;, score=-0.630 total time=   3.2s\n",
      "[CV 1/3; 5/36] START decision_tree__max_depth=3, decision_tree__max_leaf_nodes=100, decision_tree__min_impurity_decrease=0.1, decision_tree__min_samples_split=200\n",
      "[CV 1/3; 5/36] END decision_tree__max_depth=3, decision_tree__max_leaf_nodes=100, decision_tree__min_impurity_decrease=0.1, decision_tree__min_samples_split=200;, score=-0.637 total time=   1.3s\n",
      "[CV 2/3; 5/36] START decision_tree__max_depth=3, decision_tree__max_leaf_nodes=100, decision_tree__min_impurity_decrease=0.1, decision_tree__min_samples_split=200\n",
      "[CV 2/3; 5/36] END decision_tree__max_depth=3, decision_tree__max_leaf_nodes=100, decision_tree__min_impurity_decrease=0.1, decision_tree__min_samples_split=200;, score=-0.626 total time=   2.2s\n",
      "[CV 3/3; 5/36] START decision_tree__max_depth=3, decision_tree__max_leaf_nodes=100, decision_tree__min_impurity_decrease=0.1, decision_tree__min_samples_split=200\n",
      "[CV 3/3; 5/36] END decision_tree__max_depth=3, decision_tree__max_leaf_nodes=100, decision_tree__min_impurity_decrease=0.1, decision_tree__min_samples_split=200;, score=-0.630 total time=   3.1s\n",
      "[CV 1/3; 6/36] START decision_tree__max_depth=3, decision_tree__max_leaf_nodes=100, decision_tree__min_impurity_decrease=0.1, decision_tree__min_samples_split=50000\n",
      "[CV 1/3; 6/36] END decision_tree__max_depth=3, decision_tree__max_leaf_nodes=100, decision_tree__min_impurity_decrease=0.1, decision_tree__min_samples_split=50000;, score=-0.779 total time=   1.2s\n",
      "[CV 2/3; 6/36] START decision_tree__max_depth=3, decision_tree__max_leaf_nodes=100, decision_tree__min_impurity_decrease=0.1, decision_tree__min_samples_split=50000\n",
      "[CV 2/3; 6/36] END decision_tree__max_depth=3, decision_tree__max_leaf_nodes=100, decision_tree__min_impurity_decrease=0.1, decision_tree__min_samples_split=50000;, score=-0.626 total time=   2.2s\n",
      "[CV 3/3; 6/36] START decision_tree__max_depth=3, decision_tree__max_leaf_nodes=100, decision_tree__min_impurity_decrease=0.1, decision_tree__min_samples_split=50000\n",
      "[CV 3/3; 6/36] END decision_tree__max_depth=3, decision_tree__max_leaf_nodes=100, decision_tree__min_impurity_decrease=0.1, decision_tree__min_samples_split=50000;, score=-0.630 total time=   3.1s\n",
      "[CV 1/3; 7/36] START decision_tree__max_depth=3, decision_tree__max_leaf_nodes=1000, decision_tree__min_impurity_decrease=0, decision_tree__min_samples_split=10\n",
      "[CV 1/3; 7/36] END decision_tree__max_depth=3, decision_tree__max_leaf_nodes=1000, decision_tree__min_impurity_decrease=0, decision_tree__min_samples_split=10;, score=-0.539 total time=   1.3s\n",
      "[CV 2/3; 7/36] START decision_tree__max_depth=3, decision_tree__max_leaf_nodes=1000, decision_tree__min_impurity_decrease=0, decision_tree__min_samples_split=10\n",
      "[CV 2/3; 7/36] END decision_tree__max_depth=3, decision_tree__max_leaf_nodes=1000, decision_tree__min_impurity_decrease=0, decision_tree__min_samples_split=10;, score=-0.524 total time=   2.2s\n",
      "[CV 3/3; 7/36] START decision_tree__max_depth=3, decision_tree__max_leaf_nodes=1000, decision_tree__min_impurity_decrease=0, decision_tree__min_samples_split=10\n",
      "[CV 3/3; 7/36] END decision_tree__max_depth=3, decision_tree__max_leaf_nodes=1000, decision_tree__min_impurity_decrease=0, decision_tree__min_samples_split=10;, score=-0.516 total time=   3.2s\n",
      "[CV 1/3; 8/36] START decision_tree__max_depth=3, decision_tree__max_leaf_nodes=1000, decision_tree__min_impurity_decrease=0, decision_tree__min_samples_split=200\n",
      "[CV 1/3; 8/36] END decision_tree__max_depth=3, decision_tree__max_leaf_nodes=1000, decision_tree__min_impurity_decrease=0, decision_tree__min_samples_split=200;, score=-0.539 total time=   1.3s\n",
      "[CV 2/3; 8/36] START decision_tree__max_depth=3, decision_tree__max_leaf_nodes=1000, decision_tree__min_impurity_decrease=0, decision_tree__min_samples_split=200\n",
      "[CV 2/3; 8/36] END decision_tree__max_depth=3, decision_tree__max_leaf_nodes=1000, decision_tree__min_impurity_decrease=0, decision_tree__min_samples_split=200;, score=-0.524 total time=   2.2s\n",
      "[CV 3/3; 8/36] START decision_tree__max_depth=3, decision_tree__max_leaf_nodes=1000, decision_tree__min_impurity_decrease=0, decision_tree__min_samples_split=200\n"
     ]
    },
    {
     "name": "stdout",
     "output_type": "stream",
     "text": [
      "[CV 3/3; 8/36] END decision_tree__max_depth=3, decision_tree__max_leaf_nodes=1000, decision_tree__min_impurity_decrease=0, decision_tree__min_samples_split=200;, score=-0.516 total time=   3.4s\n",
      "[CV 1/3; 9/36] START decision_tree__max_depth=3, decision_tree__max_leaf_nodes=1000, decision_tree__min_impurity_decrease=0, decision_tree__min_samples_split=50000\n",
      "[CV 1/3; 9/36] END decision_tree__max_depth=3, decision_tree__max_leaf_nodes=1000, decision_tree__min_impurity_decrease=0, decision_tree__min_samples_split=50000;, score=-0.779 total time=   1.3s\n",
      "[CV 2/3; 9/36] START decision_tree__max_depth=3, decision_tree__max_leaf_nodes=1000, decision_tree__min_impurity_decrease=0, decision_tree__min_samples_split=50000\n",
      "[CV 2/3; 9/36] END decision_tree__max_depth=3, decision_tree__max_leaf_nodes=1000, decision_tree__min_impurity_decrease=0, decision_tree__min_samples_split=50000;, score=-0.608 total time=   2.4s\n",
      "[CV 3/3; 9/36] START decision_tree__max_depth=3, decision_tree__max_leaf_nodes=1000, decision_tree__min_impurity_decrease=0, decision_tree__min_samples_split=50000\n",
      "[CV 3/3; 9/36] END decision_tree__max_depth=3, decision_tree__max_leaf_nodes=1000, decision_tree__min_impurity_decrease=0, decision_tree__min_samples_split=50000;, score=-0.602 total time=   3.4s\n",
      "[CV 1/3; 10/36] START decision_tree__max_depth=3, decision_tree__max_leaf_nodes=1000, decision_tree__min_impurity_decrease=0.1, decision_tree__min_samples_split=10\n",
      "[CV 1/3; 10/36] END decision_tree__max_depth=3, decision_tree__max_leaf_nodes=1000, decision_tree__min_impurity_decrease=0.1, decision_tree__min_samples_split=10;, score=-0.637 total time=   1.4s\n",
      "[CV 2/3; 10/36] START decision_tree__max_depth=3, decision_tree__max_leaf_nodes=1000, decision_tree__min_impurity_decrease=0.1, decision_tree__min_samples_split=10\n",
      "[CV 2/3; 10/36] END decision_tree__max_depth=3, decision_tree__max_leaf_nodes=1000, decision_tree__min_impurity_decrease=0.1, decision_tree__min_samples_split=10;, score=-0.626 total time=   2.2s\n",
      "[CV 3/3; 10/36] START decision_tree__max_depth=3, decision_tree__max_leaf_nodes=1000, decision_tree__min_impurity_decrease=0.1, decision_tree__min_samples_split=10\n",
      "[CV 3/3; 10/36] END decision_tree__max_depth=3, decision_tree__max_leaf_nodes=1000, decision_tree__min_impurity_decrease=0.1, decision_tree__min_samples_split=10;, score=-0.630 total time=   3.3s\n",
      "[CV 1/3; 11/36] START decision_tree__max_depth=3, decision_tree__max_leaf_nodes=1000, decision_tree__min_impurity_decrease=0.1, decision_tree__min_samples_split=200\n",
      "[CV 1/3; 11/36] END decision_tree__max_depth=3, decision_tree__max_leaf_nodes=1000, decision_tree__min_impurity_decrease=0.1, decision_tree__min_samples_split=200;, score=-0.637 total time=   1.3s\n",
      "[CV 2/3; 11/36] START decision_tree__max_depth=3, decision_tree__max_leaf_nodes=1000, decision_tree__min_impurity_decrease=0.1, decision_tree__min_samples_split=200\n",
      "[CV 2/3; 11/36] END decision_tree__max_depth=3, decision_tree__max_leaf_nodes=1000, decision_tree__min_impurity_decrease=0.1, decision_tree__min_samples_split=200;, score=-0.626 total time=   2.4s\n",
      "[CV 3/3; 11/36] START decision_tree__max_depth=3, decision_tree__max_leaf_nodes=1000, decision_tree__min_impurity_decrease=0.1, decision_tree__min_samples_split=200\n",
      "[CV 3/3; 11/36] END decision_tree__max_depth=3, decision_tree__max_leaf_nodes=1000, decision_tree__min_impurity_decrease=0.1, decision_tree__min_samples_split=200;, score=-0.630 total time=   3.2s\n",
      "[CV 1/3; 12/36] START decision_tree__max_depth=3, decision_tree__max_leaf_nodes=1000, decision_tree__min_impurity_decrease=0.1, decision_tree__min_samples_split=50000\n",
      "[CV 1/3; 12/36] END decision_tree__max_depth=3, decision_tree__max_leaf_nodes=1000, decision_tree__min_impurity_decrease=0.1, decision_tree__min_samples_split=50000;, score=-0.779 total time=   1.2s\n",
      "[CV 2/3; 12/36] START decision_tree__max_depth=3, decision_tree__max_leaf_nodes=1000, decision_tree__min_impurity_decrease=0.1, decision_tree__min_samples_split=50000\n",
      "[CV 2/3; 12/36] END decision_tree__max_depth=3, decision_tree__max_leaf_nodes=1000, decision_tree__min_impurity_decrease=0.1, decision_tree__min_samples_split=50000;, score=-0.626 total time=   2.2s\n",
      "[CV 3/3; 12/36] START decision_tree__max_depth=3, decision_tree__max_leaf_nodes=1000, decision_tree__min_impurity_decrease=0.1, decision_tree__min_samples_split=50000\n",
      "[CV 3/3; 12/36] END decision_tree__max_depth=3, decision_tree__max_leaf_nodes=1000, decision_tree__min_impurity_decrease=0.1, decision_tree__min_samples_split=50000;, score=-0.630 total time=   3.4s\n",
      "[CV 1/3; 13/36] START decision_tree__max_depth=5, decision_tree__max_leaf_nodes=100, decision_tree__min_impurity_decrease=0, decision_tree__min_samples_split=10\n",
      "[CV 1/3; 13/36] END decision_tree__max_depth=5, decision_tree__max_leaf_nodes=100, decision_tree__min_impurity_decrease=0, decision_tree__min_samples_split=10;, score=-0.509 total time=   1.4s\n",
      "[CV 2/3; 13/36] START decision_tree__max_depth=5, decision_tree__max_leaf_nodes=100, decision_tree__min_impurity_decrease=0, decision_tree__min_samples_split=10\n",
      "[CV 2/3; 13/36] END decision_tree__max_depth=5, decision_tree__max_leaf_nodes=100, decision_tree__min_impurity_decrease=0, decision_tree__min_samples_split=10;, score=-0.488 total time=   2.3s\n",
      "[CV 3/3; 13/36] START decision_tree__max_depth=5, decision_tree__max_leaf_nodes=100, decision_tree__min_impurity_decrease=0, decision_tree__min_samples_split=10\n",
      "[CV 3/3; 13/36] END decision_tree__max_depth=5, decision_tree__max_leaf_nodes=100, decision_tree__min_impurity_decrease=0, decision_tree__min_samples_split=10;, score=-0.480 total time=   3.4s\n",
      "[CV 1/3; 14/36] START decision_tree__max_depth=5, decision_tree__max_leaf_nodes=100, decision_tree__min_impurity_decrease=0, decision_tree__min_samples_split=200\n",
      "[CV 1/3; 14/36] END decision_tree__max_depth=5, decision_tree__max_leaf_nodes=100, decision_tree__min_impurity_decrease=0, decision_tree__min_samples_split=200;, score=-0.509 total time=   1.4s\n",
      "[CV 2/3; 14/36] START decision_tree__max_depth=5, decision_tree__max_leaf_nodes=100, decision_tree__min_impurity_decrease=0, decision_tree__min_samples_split=200\n",
      "[CV 2/3; 14/36] END decision_tree__max_depth=5, decision_tree__max_leaf_nodes=100, decision_tree__min_impurity_decrease=0, decision_tree__min_samples_split=200;, score=-0.488 total time=   2.4s\n",
      "[CV 3/3; 14/36] START decision_tree__max_depth=5, decision_tree__max_leaf_nodes=100, decision_tree__min_impurity_decrease=0, decision_tree__min_samples_split=200\n",
      "[CV 3/3; 14/36] END decision_tree__max_depth=5, decision_tree__max_leaf_nodes=100, decision_tree__min_impurity_decrease=0, decision_tree__min_samples_split=200;, score=-0.480 total time=   3.3s\n",
      "[CV 1/3; 15/36] START decision_tree__max_depth=5, decision_tree__max_leaf_nodes=100, decision_tree__min_impurity_decrease=0, decision_tree__min_samples_split=50000\n",
      "[CV 1/3; 15/36] END decision_tree__max_depth=5, decision_tree__max_leaf_nodes=100, decision_tree__min_impurity_decrease=0, decision_tree__min_samples_split=50000;, score=-0.779 total time=   1.2s\n",
      "[CV 2/3; 15/36] START decision_tree__max_depth=5, decision_tree__max_leaf_nodes=100, decision_tree__min_impurity_decrease=0, decision_tree__min_samples_split=50000\n",
      "[CV 2/3; 15/36] END decision_tree__max_depth=5, decision_tree__max_leaf_nodes=100, decision_tree__min_impurity_decrease=0, decision_tree__min_samples_split=50000;, score=-0.608 total time=   2.2s\n",
      "[CV 3/3; 15/36] START decision_tree__max_depth=5, decision_tree__max_leaf_nodes=100, decision_tree__min_impurity_decrease=0, decision_tree__min_samples_split=50000\n",
      "[CV 3/3; 15/36] END decision_tree__max_depth=5, decision_tree__max_leaf_nodes=100, decision_tree__min_impurity_decrease=0, decision_tree__min_samples_split=50000;, score=-0.602 total time=   3.2s\n",
      "[CV 1/3; 16/36] START decision_tree__max_depth=5, decision_tree__max_leaf_nodes=100, decision_tree__min_impurity_decrease=0.1, decision_tree__min_samples_split=10\n",
      "[CV 1/3; 16/36] END decision_tree__max_depth=5, decision_tree__max_leaf_nodes=100, decision_tree__min_impurity_decrease=0.1, decision_tree__min_samples_split=10;, score=-0.637 total time=   1.3s\n",
      "[CV 2/3; 16/36] START decision_tree__max_depth=5, decision_tree__max_leaf_nodes=100, decision_tree__min_impurity_decrease=0.1, decision_tree__min_samples_split=10\n"
     ]
    },
    {
     "name": "stdout",
     "output_type": "stream",
     "text": [
      "[CV 2/3; 16/36] END decision_tree__max_depth=5, decision_tree__max_leaf_nodes=100, decision_tree__min_impurity_decrease=0.1, decision_tree__min_samples_split=10;, score=-0.626 total time=   2.4s\n",
      "[CV 3/3; 16/36] START decision_tree__max_depth=5, decision_tree__max_leaf_nodes=100, decision_tree__min_impurity_decrease=0.1, decision_tree__min_samples_split=10\n",
      "[CV 3/3; 16/36] END decision_tree__max_depth=5, decision_tree__max_leaf_nodes=100, decision_tree__min_impurity_decrease=0.1, decision_tree__min_samples_split=10;, score=-0.630 total time=   3.3s\n",
      "[CV 1/3; 17/36] START decision_tree__max_depth=5, decision_tree__max_leaf_nodes=100, decision_tree__min_impurity_decrease=0.1, decision_tree__min_samples_split=200\n",
      "[CV 1/3; 17/36] END decision_tree__max_depth=5, decision_tree__max_leaf_nodes=100, decision_tree__min_impurity_decrease=0.1, decision_tree__min_samples_split=200;, score=-0.637 total time=   1.4s\n",
      "[CV 2/3; 17/36] START decision_tree__max_depth=5, decision_tree__max_leaf_nodes=100, decision_tree__min_impurity_decrease=0.1, decision_tree__min_samples_split=200\n",
      "[CV 2/3; 17/36] END decision_tree__max_depth=5, decision_tree__max_leaf_nodes=100, decision_tree__min_impurity_decrease=0.1, decision_tree__min_samples_split=200;, score=-0.626 total time=   2.4s\n",
      "[CV 3/3; 17/36] START decision_tree__max_depth=5, decision_tree__max_leaf_nodes=100, decision_tree__min_impurity_decrease=0.1, decision_tree__min_samples_split=200\n",
      "[CV 3/3; 17/36] END decision_tree__max_depth=5, decision_tree__max_leaf_nodes=100, decision_tree__min_impurity_decrease=0.1, decision_tree__min_samples_split=200;, score=-0.630 total time=   3.4s\n",
      "[CV 1/3; 18/36] START decision_tree__max_depth=5, decision_tree__max_leaf_nodes=100, decision_tree__min_impurity_decrease=0.1, decision_tree__min_samples_split=50000\n",
      "[CV 1/3; 18/36] END decision_tree__max_depth=5, decision_tree__max_leaf_nodes=100, decision_tree__min_impurity_decrease=0.1, decision_tree__min_samples_split=50000;, score=-0.779 total time=   1.3s\n",
      "[CV 2/3; 18/36] START decision_tree__max_depth=5, decision_tree__max_leaf_nodes=100, decision_tree__min_impurity_decrease=0.1, decision_tree__min_samples_split=50000\n",
      "[CV 2/3; 18/36] END decision_tree__max_depth=5, decision_tree__max_leaf_nodes=100, decision_tree__min_impurity_decrease=0.1, decision_tree__min_samples_split=50000;, score=-0.626 total time=   2.2s\n",
      "[CV 3/3; 18/36] START decision_tree__max_depth=5, decision_tree__max_leaf_nodes=100, decision_tree__min_impurity_decrease=0.1, decision_tree__min_samples_split=50000\n",
      "[CV 3/3; 18/36] END decision_tree__max_depth=5, decision_tree__max_leaf_nodes=100, decision_tree__min_impurity_decrease=0.1, decision_tree__min_samples_split=50000;, score=-0.630 total time=   3.1s\n",
      "[CV 1/3; 19/36] START decision_tree__max_depth=5, decision_tree__max_leaf_nodes=1000, decision_tree__min_impurity_decrease=0, decision_tree__min_samples_split=10\n",
      "[CV 1/3; 19/36] END decision_tree__max_depth=5, decision_tree__max_leaf_nodes=1000, decision_tree__min_impurity_decrease=0, decision_tree__min_samples_split=10;, score=-0.509 total time=   1.3s\n",
      "[CV 2/3; 19/36] START decision_tree__max_depth=5, decision_tree__max_leaf_nodes=1000, decision_tree__min_impurity_decrease=0, decision_tree__min_samples_split=10\n",
      "[CV 2/3; 19/36] END decision_tree__max_depth=5, decision_tree__max_leaf_nodes=1000, decision_tree__min_impurity_decrease=0, decision_tree__min_samples_split=10;, score=-0.488 total time=   2.3s\n",
      "[CV 3/3; 19/36] START decision_tree__max_depth=5, decision_tree__max_leaf_nodes=1000, decision_tree__min_impurity_decrease=0, decision_tree__min_samples_split=10\n",
      "[CV 3/3; 19/36] END decision_tree__max_depth=5, decision_tree__max_leaf_nodes=1000, decision_tree__min_impurity_decrease=0, decision_tree__min_samples_split=10;, score=-0.480 total time=   3.3s\n",
      "[CV 1/3; 20/36] START decision_tree__max_depth=5, decision_tree__max_leaf_nodes=1000, decision_tree__min_impurity_decrease=0, decision_tree__min_samples_split=200\n",
      "[CV 1/3; 20/36] END decision_tree__max_depth=5, decision_tree__max_leaf_nodes=1000, decision_tree__min_impurity_decrease=0, decision_tree__min_samples_split=200;, score=-0.509 total time=   1.3s\n",
      "[CV 2/3; 20/36] START decision_tree__max_depth=5, decision_tree__max_leaf_nodes=1000, decision_tree__min_impurity_decrease=0, decision_tree__min_samples_split=200\n",
      "[CV 2/3; 20/36] END decision_tree__max_depth=5, decision_tree__max_leaf_nodes=1000, decision_tree__min_impurity_decrease=0, decision_tree__min_samples_split=200;, score=-0.488 total time=   2.3s\n",
      "[CV 3/3; 20/36] START decision_tree__max_depth=5, decision_tree__max_leaf_nodes=1000, decision_tree__min_impurity_decrease=0, decision_tree__min_samples_split=200\n",
      "[CV 3/3; 20/36] END decision_tree__max_depth=5, decision_tree__max_leaf_nodes=1000, decision_tree__min_impurity_decrease=0, decision_tree__min_samples_split=200;, score=-0.480 total time=   3.3s\n",
      "[CV 1/3; 21/36] START decision_tree__max_depth=5, decision_tree__max_leaf_nodes=1000, decision_tree__min_impurity_decrease=0, decision_tree__min_samples_split=50000\n",
      "[CV 1/3; 21/36] END decision_tree__max_depth=5, decision_tree__max_leaf_nodes=1000, decision_tree__min_impurity_decrease=0, decision_tree__min_samples_split=50000;, score=-0.779 total time=   1.2s\n",
      "[CV 2/3; 21/36] START decision_tree__max_depth=5, decision_tree__max_leaf_nodes=1000, decision_tree__min_impurity_decrease=0, decision_tree__min_samples_split=50000\n",
      "[CV 2/3; 21/36] END decision_tree__max_depth=5, decision_tree__max_leaf_nodes=1000, decision_tree__min_impurity_decrease=0, decision_tree__min_samples_split=50000;, score=-0.608 total time=   2.2s\n",
      "[CV 3/3; 21/36] START decision_tree__max_depth=5, decision_tree__max_leaf_nodes=1000, decision_tree__min_impurity_decrease=0, decision_tree__min_samples_split=50000\n",
      "[CV 3/3; 21/36] END decision_tree__max_depth=5, decision_tree__max_leaf_nodes=1000, decision_tree__min_impurity_decrease=0, decision_tree__min_samples_split=50000;, score=-0.602 total time=   3.3s\n",
      "[CV 1/3; 22/36] START decision_tree__max_depth=5, decision_tree__max_leaf_nodes=1000, decision_tree__min_impurity_decrease=0.1, decision_tree__min_samples_split=10\n",
      "[CV 1/3; 22/36] END decision_tree__max_depth=5, decision_tree__max_leaf_nodes=1000, decision_tree__min_impurity_decrease=0.1, decision_tree__min_samples_split=10;, score=-0.637 total time=   1.4s\n",
      "[CV 2/3; 22/36] START decision_tree__max_depth=5, decision_tree__max_leaf_nodes=1000, decision_tree__min_impurity_decrease=0.1, decision_tree__min_samples_split=10\n",
      "[CV 2/3; 22/36] END decision_tree__max_depth=5, decision_tree__max_leaf_nodes=1000, decision_tree__min_impurity_decrease=0.1, decision_tree__min_samples_split=10;, score=-0.626 total time=   2.2s\n",
      "[CV 3/3; 22/36] START decision_tree__max_depth=5, decision_tree__max_leaf_nodes=1000, decision_tree__min_impurity_decrease=0.1, decision_tree__min_samples_split=10\n",
      "[CV 3/3; 22/36] END decision_tree__max_depth=5, decision_tree__max_leaf_nodes=1000, decision_tree__min_impurity_decrease=0.1, decision_tree__min_samples_split=10;, score=-0.630 total time=   3.2s\n",
      "[CV 1/3; 23/36] START decision_tree__max_depth=5, decision_tree__max_leaf_nodes=1000, decision_tree__min_impurity_decrease=0.1, decision_tree__min_samples_split=200\n",
      "[CV 1/3; 23/36] END decision_tree__max_depth=5, decision_tree__max_leaf_nodes=1000, decision_tree__min_impurity_decrease=0.1, decision_tree__min_samples_split=200;, score=-0.637 total time=   1.3s\n",
      "[CV 2/3; 23/36] START decision_tree__max_depth=5, decision_tree__max_leaf_nodes=1000, decision_tree__min_impurity_decrease=0.1, decision_tree__min_samples_split=200\n",
      "[CV 2/3; 23/36] END decision_tree__max_depth=5, decision_tree__max_leaf_nodes=1000, decision_tree__min_impurity_decrease=0.1, decision_tree__min_samples_split=200;, score=-0.626 total time=   2.2s\n",
      "[CV 3/3; 23/36] START decision_tree__max_depth=5, decision_tree__max_leaf_nodes=1000, decision_tree__min_impurity_decrease=0.1, decision_tree__min_samples_split=200\n",
      "[CV 3/3; 23/36] END decision_tree__max_depth=5, decision_tree__max_leaf_nodes=1000, decision_tree__min_impurity_decrease=0.1, decision_tree__min_samples_split=200;, score=-0.630 total time=   3.2s\n",
      "[CV 1/3; 24/36] START decision_tree__max_depth=5, decision_tree__max_leaf_nodes=1000, decision_tree__min_impurity_decrease=0.1, decision_tree__min_samples_split=50000\n"
     ]
    },
    {
     "name": "stdout",
     "output_type": "stream",
     "text": [
      "[CV 1/3; 24/36] END decision_tree__max_depth=5, decision_tree__max_leaf_nodes=1000, decision_tree__min_impurity_decrease=0.1, decision_tree__min_samples_split=50000;, score=-0.779 total time=   1.3s\n",
      "[CV 2/3; 24/36] START decision_tree__max_depth=5, decision_tree__max_leaf_nodes=1000, decision_tree__min_impurity_decrease=0.1, decision_tree__min_samples_split=50000\n",
      "[CV 2/3; 24/36] END decision_tree__max_depth=5, decision_tree__max_leaf_nodes=1000, decision_tree__min_impurity_decrease=0.1, decision_tree__min_samples_split=50000;, score=-0.626 total time=   2.4s\n",
      "[CV 3/3; 24/36] START decision_tree__max_depth=5, decision_tree__max_leaf_nodes=1000, decision_tree__min_impurity_decrease=0.1, decision_tree__min_samples_split=50000\n",
      "[CV 3/3; 24/36] END decision_tree__max_depth=5, decision_tree__max_leaf_nodes=1000, decision_tree__min_impurity_decrease=0.1, decision_tree__min_samples_split=50000;, score=-0.630 total time=   3.2s\n",
      "[CV 1/3; 25/36] START decision_tree__max_depth=10, decision_tree__max_leaf_nodes=100, decision_tree__min_impurity_decrease=0, decision_tree__min_samples_split=10\n",
      "[CV 1/3; 25/36] END decision_tree__max_depth=10, decision_tree__max_leaf_nodes=100, decision_tree__min_impurity_decrease=0, decision_tree__min_samples_split=10;, score=-0.497 total time=   1.5s\n",
      "[CV 2/3; 25/36] START decision_tree__max_depth=10, decision_tree__max_leaf_nodes=100, decision_tree__min_impurity_decrease=0, decision_tree__min_samples_split=10\n",
      "[CV 2/3; 25/36] END decision_tree__max_depth=10, decision_tree__max_leaf_nodes=100, decision_tree__min_impurity_decrease=0, decision_tree__min_samples_split=10;, score=-0.474 total time=   2.5s\n",
      "[CV 3/3; 25/36] START decision_tree__max_depth=10, decision_tree__max_leaf_nodes=100, decision_tree__min_impurity_decrease=0, decision_tree__min_samples_split=10\n",
      "[CV 3/3; 25/36] END decision_tree__max_depth=10, decision_tree__max_leaf_nodes=100, decision_tree__min_impurity_decrease=0, decision_tree__min_samples_split=10;, score=-0.466 total time=   3.5s\n",
      "[CV 1/3; 26/36] START decision_tree__max_depth=10, decision_tree__max_leaf_nodes=100, decision_tree__min_impurity_decrease=0, decision_tree__min_samples_split=200\n",
      "[CV 1/3; 26/36] END decision_tree__max_depth=10, decision_tree__max_leaf_nodes=100, decision_tree__min_impurity_decrease=0, decision_tree__min_samples_split=200;, score=-0.497 total time=   1.5s\n",
      "[CV 2/3; 26/36] START decision_tree__max_depth=10, decision_tree__max_leaf_nodes=100, decision_tree__min_impurity_decrease=0, decision_tree__min_samples_split=200\n",
      "[CV 2/3; 26/36] END decision_tree__max_depth=10, decision_tree__max_leaf_nodes=100, decision_tree__min_impurity_decrease=0, decision_tree__min_samples_split=200;, score=-0.475 total time=   2.5s\n",
      "[CV 3/3; 26/36] START decision_tree__max_depth=10, decision_tree__max_leaf_nodes=100, decision_tree__min_impurity_decrease=0, decision_tree__min_samples_split=200\n",
      "[CV 3/3; 26/36] END decision_tree__max_depth=10, decision_tree__max_leaf_nodes=100, decision_tree__min_impurity_decrease=0, decision_tree__min_samples_split=200;, score=-0.467 total time=   3.7s\n",
      "[CV 1/3; 27/36] START decision_tree__max_depth=10, decision_tree__max_leaf_nodes=100, decision_tree__min_impurity_decrease=0, decision_tree__min_samples_split=50000\n",
      "[CV 1/3; 27/36] END decision_tree__max_depth=10, decision_tree__max_leaf_nodes=100, decision_tree__min_impurity_decrease=0, decision_tree__min_samples_split=50000;, score=-0.779 total time=   1.3s\n",
      "[CV 2/3; 27/36] START decision_tree__max_depth=10, decision_tree__max_leaf_nodes=100, decision_tree__min_impurity_decrease=0, decision_tree__min_samples_split=50000\n",
      "[CV 2/3; 27/36] END decision_tree__max_depth=10, decision_tree__max_leaf_nodes=100, decision_tree__min_impurity_decrease=0, decision_tree__min_samples_split=50000;, score=-0.608 total time=   2.4s\n",
      "[CV 3/3; 27/36] START decision_tree__max_depth=10, decision_tree__max_leaf_nodes=100, decision_tree__min_impurity_decrease=0, decision_tree__min_samples_split=50000\n",
      "[CV 3/3; 27/36] END decision_tree__max_depth=10, decision_tree__max_leaf_nodes=100, decision_tree__min_impurity_decrease=0, decision_tree__min_samples_split=50000;, score=-0.602 total time=   3.3s\n",
      "[CV 1/3; 28/36] START decision_tree__max_depth=10, decision_tree__max_leaf_nodes=100, decision_tree__min_impurity_decrease=0.1, decision_tree__min_samples_split=10\n",
      "[CV 1/3; 28/36] END decision_tree__max_depth=10, decision_tree__max_leaf_nodes=100, decision_tree__min_impurity_decrease=0.1, decision_tree__min_samples_split=10;, score=-0.637 total time=   1.3s\n",
      "[CV 2/3; 28/36] START decision_tree__max_depth=10, decision_tree__max_leaf_nodes=100, decision_tree__min_impurity_decrease=0.1, decision_tree__min_samples_split=10\n",
      "[CV 2/3; 28/36] END decision_tree__max_depth=10, decision_tree__max_leaf_nodes=100, decision_tree__min_impurity_decrease=0.1, decision_tree__min_samples_split=10;, score=-0.626 total time=   2.2s\n",
      "[CV 3/3; 28/36] START decision_tree__max_depth=10, decision_tree__max_leaf_nodes=100, decision_tree__min_impurity_decrease=0.1, decision_tree__min_samples_split=10\n",
      "[CV 3/3; 28/36] END decision_tree__max_depth=10, decision_tree__max_leaf_nodes=100, decision_tree__min_impurity_decrease=0.1, decision_tree__min_samples_split=10;, score=-0.630 total time=   3.1s\n",
      "[CV 1/3; 29/36] START decision_tree__max_depth=10, decision_tree__max_leaf_nodes=100, decision_tree__min_impurity_decrease=0.1, decision_tree__min_samples_split=200\n",
      "[CV 1/3; 29/36] END decision_tree__max_depth=10, decision_tree__max_leaf_nodes=100, decision_tree__min_impurity_decrease=0.1, decision_tree__min_samples_split=200;, score=-0.637 total time=   1.3s\n",
      "[CV 2/3; 29/36] START decision_tree__max_depth=10, decision_tree__max_leaf_nodes=100, decision_tree__min_impurity_decrease=0.1, decision_tree__min_samples_split=200\n",
      "[CV 2/3; 29/36] END decision_tree__max_depth=10, decision_tree__max_leaf_nodes=100, decision_tree__min_impurity_decrease=0.1, decision_tree__min_samples_split=200;, score=-0.626 total time=   2.2s\n",
      "[CV 3/3; 29/36] START decision_tree__max_depth=10, decision_tree__max_leaf_nodes=100, decision_tree__min_impurity_decrease=0.1, decision_tree__min_samples_split=200\n",
      "[CV 3/3; 29/36] END decision_tree__max_depth=10, decision_tree__max_leaf_nodes=100, decision_tree__min_impurity_decrease=0.1, decision_tree__min_samples_split=200;, score=-0.630 total time=   3.1s\n",
      "[CV 1/3; 30/36] START decision_tree__max_depth=10, decision_tree__max_leaf_nodes=100, decision_tree__min_impurity_decrease=0.1, decision_tree__min_samples_split=50000\n",
      "[CV 1/3; 30/36] END decision_tree__max_depth=10, decision_tree__max_leaf_nodes=100, decision_tree__min_impurity_decrease=0.1, decision_tree__min_samples_split=50000;, score=-0.779 total time=   1.2s\n",
      "[CV 2/3; 30/36] START decision_tree__max_depth=10, decision_tree__max_leaf_nodes=100, decision_tree__min_impurity_decrease=0.1, decision_tree__min_samples_split=50000\n",
      "[CV 2/3; 30/36] END decision_tree__max_depth=10, decision_tree__max_leaf_nodes=100, decision_tree__min_impurity_decrease=0.1, decision_tree__min_samples_split=50000;, score=-0.626 total time=   2.2s\n",
      "[CV 3/3; 30/36] START decision_tree__max_depth=10, decision_tree__max_leaf_nodes=100, decision_tree__min_impurity_decrease=0.1, decision_tree__min_samples_split=50000\n",
      "[CV 3/3; 30/36] END decision_tree__max_depth=10, decision_tree__max_leaf_nodes=100, decision_tree__min_impurity_decrease=0.1, decision_tree__min_samples_split=50000;, score=-0.630 total time=   3.1s\n",
      "[CV 1/3; 31/36] START decision_tree__max_depth=10, decision_tree__max_leaf_nodes=1000, decision_tree__min_impurity_decrease=0, decision_tree__min_samples_split=10\n",
      "[CV 1/3; 31/36] END decision_tree__max_depth=10, decision_tree__max_leaf_nodes=1000, decision_tree__min_impurity_decrease=0, decision_tree__min_samples_split=10;, score=-0.518 total time=   1.4s\n",
      "[CV 2/3; 31/36] START decision_tree__max_depth=10, decision_tree__max_leaf_nodes=1000, decision_tree__min_impurity_decrease=0, decision_tree__min_samples_split=10\n",
      "[CV 2/3; 31/36] END decision_tree__max_depth=10, decision_tree__max_leaf_nodes=1000, decision_tree__min_impurity_decrease=0, decision_tree__min_samples_split=10;, score=-0.483 total time=   2.5s\n",
      "[CV 3/3; 31/36] START decision_tree__max_depth=10, decision_tree__max_leaf_nodes=1000, decision_tree__min_impurity_decrease=0, decision_tree__min_samples_split=10\n"
     ]
    },
    {
     "name": "stdout",
     "output_type": "stream",
     "text": [
      "[CV 3/3; 31/36] END decision_tree__max_depth=10, decision_tree__max_leaf_nodes=1000, decision_tree__min_impurity_decrease=0, decision_tree__min_samples_split=10;, score=-0.472 total time=   3.6s\n",
      "[CV 1/3; 32/36] START decision_tree__max_depth=10, decision_tree__max_leaf_nodes=1000, decision_tree__min_impurity_decrease=0, decision_tree__min_samples_split=200\n",
      "[CV 1/3; 32/36] END decision_tree__max_depth=10, decision_tree__max_leaf_nodes=1000, decision_tree__min_impurity_decrease=0, decision_tree__min_samples_split=200;, score=-0.499 total time=   1.4s\n",
      "[CV 2/3; 32/36] START decision_tree__max_depth=10, decision_tree__max_leaf_nodes=1000, decision_tree__min_impurity_decrease=0, decision_tree__min_samples_split=200\n",
      "[CV 2/3; 32/36] END decision_tree__max_depth=10, decision_tree__max_leaf_nodes=1000, decision_tree__min_impurity_decrease=0, decision_tree__min_samples_split=200;, score=-0.476 total time=   2.6s\n",
      "[CV 3/3; 32/36] START decision_tree__max_depth=10, decision_tree__max_leaf_nodes=1000, decision_tree__min_impurity_decrease=0, decision_tree__min_samples_split=200\n",
      "[CV 3/3; 32/36] END decision_tree__max_depth=10, decision_tree__max_leaf_nodes=1000, decision_tree__min_impurity_decrease=0, decision_tree__min_samples_split=200;, score=-0.466 total time=   3.9s\n",
      "[CV 1/3; 33/36] START decision_tree__max_depth=10, decision_tree__max_leaf_nodes=1000, decision_tree__min_impurity_decrease=0, decision_tree__min_samples_split=50000\n",
      "[CV 1/3; 33/36] END decision_tree__max_depth=10, decision_tree__max_leaf_nodes=1000, decision_tree__min_impurity_decrease=0, decision_tree__min_samples_split=50000;, score=-0.779 total time=   1.3s\n",
      "[CV 2/3; 33/36] START decision_tree__max_depth=10, decision_tree__max_leaf_nodes=1000, decision_tree__min_impurity_decrease=0, decision_tree__min_samples_split=50000\n",
      "[CV 2/3; 33/36] END decision_tree__max_depth=10, decision_tree__max_leaf_nodes=1000, decision_tree__min_impurity_decrease=0, decision_tree__min_samples_split=50000;, score=-0.608 total time=   2.2s\n",
      "[CV 3/3; 33/36] START decision_tree__max_depth=10, decision_tree__max_leaf_nodes=1000, decision_tree__min_impurity_decrease=0, decision_tree__min_samples_split=50000\n",
      "[CV 3/3; 33/36] END decision_tree__max_depth=10, decision_tree__max_leaf_nodes=1000, decision_tree__min_impurity_decrease=0, decision_tree__min_samples_split=50000;, score=-0.602 total time=   3.1s\n",
      "[CV 1/3; 34/36] START decision_tree__max_depth=10, decision_tree__max_leaf_nodes=1000, decision_tree__min_impurity_decrease=0.1, decision_tree__min_samples_split=10\n",
      "[CV 1/3; 34/36] END decision_tree__max_depth=10, decision_tree__max_leaf_nodes=1000, decision_tree__min_impurity_decrease=0.1, decision_tree__min_samples_split=10;, score=-0.637 total time=   1.3s\n",
      "[CV 2/3; 34/36] START decision_tree__max_depth=10, decision_tree__max_leaf_nodes=1000, decision_tree__min_impurity_decrease=0.1, decision_tree__min_samples_split=10\n",
      "[CV 2/3; 34/36] END decision_tree__max_depth=10, decision_tree__max_leaf_nodes=1000, decision_tree__min_impurity_decrease=0.1, decision_tree__min_samples_split=10;, score=-0.626 total time=   2.1s\n",
      "[CV 3/3; 34/36] START decision_tree__max_depth=10, decision_tree__max_leaf_nodes=1000, decision_tree__min_impurity_decrease=0.1, decision_tree__min_samples_split=10\n",
      "[CV 3/3; 34/36] END decision_tree__max_depth=10, decision_tree__max_leaf_nodes=1000, decision_tree__min_impurity_decrease=0.1, decision_tree__min_samples_split=10;, score=-0.630 total time=   3.1s\n",
      "[CV 1/3; 35/36] START decision_tree__max_depth=10, decision_tree__max_leaf_nodes=1000, decision_tree__min_impurity_decrease=0.1, decision_tree__min_samples_split=200\n",
      "[CV 1/3; 35/36] END decision_tree__max_depth=10, decision_tree__max_leaf_nodes=1000, decision_tree__min_impurity_decrease=0.1, decision_tree__min_samples_split=200;, score=-0.637 total time=   1.3s\n",
      "[CV 2/3; 35/36] START decision_tree__max_depth=10, decision_tree__max_leaf_nodes=1000, decision_tree__min_impurity_decrease=0.1, decision_tree__min_samples_split=200\n",
      "[CV 2/3; 35/36] END decision_tree__max_depth=10, decision_tree__max_leaf_nodes=1000, decision_tree__min_impurity_decrease=0.1, decision_tree__min_samples_split=200;, score=-0.626 total time=   2.2s\n",
      "[CV 3/3; 35/36] START decision_tree__max_depth=10, decision_tree__max_leaf_nodes=1000, decision_tree__min_impurity_decrease=0.1, decision_tree__min_samples_split=200\n",
      "[CV 3/3; 35/36] END decision_tree__max_depth=10, decision_tree__max_leaf_nodes=1000, decision_tree__min_impurity_decrease=0.1, decision_tree__min_samples_split=200;, score=-0.630 total time=   3.1s\n",
      "[CV 1/3; 36/36] START decision_tree__max_depth=10, decision_tree__max_leaf_nodes=1000, decision_tree__min_impurity_decrease=0.1, decision_tree__min_samples_split=50000\n",
      "[CV 1/3; 36/36] END decision_tree__max_depth=10, decision_tree__max_leaf_nodes=1000, decision_tree__min_impurity_decrease=0.1, decision_tree__min_samples_split=50000;, score=-0.779 total time=   1.2s\n",
      "[CV 2/3; 36/36] START decision_tree__max_depth=10, decision_tree__max_leaf_nodes=1000, decision_tree__min_impurity_decrease=0.1, decision_tree__min_samples_split=50000\n",
      "[CV 2/3; 36/36] END decision_tree__max_depth=10, decision_tree__max_leaf_nodes=1000, decision_tree__min_impurity_decrease=0.1, decision_tree__min_samples_split=50000;, score=-0.626 total time=   2.2s\n",
      "[CV 3/3; 36/36] START decision_tree__max_depth=10, decision_tree__max_leaf_nodes=1000, decision_tree__min_impurity_decrease=0.1, decision_tree__min_samples_split=50000\n",
      "[CV 3/3; 36/36] END decision_tree__max_depth=10, decision_tree__max_leaf_nodes=1000, decision_tree__min_impurity_decrease=0.1, decision_tree__min_samples_split=50000;, score=-0.630 total time=   3.0s\n",
      "Best parameter (CV score=-0.47928):\n",
      "{'decision_tree__max_depth': 10, 'decision_tree__max_leaf_nodes': 100, 'decision_tree__min_impurity_decrease': 0, 'decision_tree__min_samples_split': 200}\n",
      "Качество лучшей модели на финальном тесте: -0.47302671004457075\n"
     ]
    }
   ],
   "source": [
    "### Попробуем контролировать обобщающую способность такой модели!\n",
    "\n",
    "from sklearn.model_selection import GridSearchCV\n",
    "\n",
    "param_grid = {\n",
    "    \"decision_tree__max_depth\": [3, 5, 10],\n",
    "    \"decision_tree__min_samples_split\": [10, 200, 50000],\n",
    "    \"decision_tree__min_impurity_decrease\": [0, 0.1],\n",
    "    \"decision_tree__max_leaf_nodes\": [100, 1000]\n",
    "}\n",
    "\n",
    "### Передадим в GridSearchCV\n",
    "\n",
    "search = GridSearchCV(pipe_dt, \n",
    "                      param_grid, \n",
    "                      cv=splitter,\n",
    "                      scoring='neg_mean_squared_error',\n",
    "                      verbose=10)\n",
    "\n",
    "search.fit(X_train, y_train)\n",
    "\n",
    "print(f\"Best parameter (CV score={search.best_score_:.5f}):\")\n",
    "print(search.best_params_)\n",
    "\n",
    "print(f\"Качество лучшей модели на финальном тесте: {search.score(X_test, y_test)}\")"
   ]
  },
  {
   "cell_type": "markdown",
   "id": "eb433baa",
   "metadata": {},
   "source": [
    "### Обучение стекинга"
   ]
  },
  {
   "cell_type": "code",
   "execution_count": 16,
   "id": "5922bfdf",
   "metadata": {},
   "outputs": [],
   "source": [
    "from sklearn.ensemble import StackingRegressor\n",
    "from sklearn.linear_model import Lasso\n",
    "from sklearn.neighbors import KNeighborsRegressor\n",
    "\n",
    "pipe_dt = Pipeline([(\"column_transformer\",\n",
    "                     col_transform),\n",
    "                  \n",
    "                    (\"decision_tree\", \n",
    "                     DecisionTreeRegressor())])\n",
    "\n",
    "pipe_lr = Pipeline([(\"column_transformer\",\n",
    "                     col_transform),\n",
    "                  \n",
    "                    (\"Lasso\", \n",
    "                     Lasso())])\n",
    "\n",
    "pipe_knn = Pipeline([(\"column_transformer\",\n",
    "                      col_transform),\n",
    "\n",
    "                     (\"knn\", \n",
    "                      KNeighborsRegressor())])\n",
    " \n",
    "estimators = [\n",
    "    (\"dt\", pipe_dt),\n",
    "    (\"lr\", pipe_lr),\n",
    "    (\"knn\", pipe_knn)\n",
    "]\n",
    "\n",
    "final_estimator = DecisionTreeRegressor(max_depth=3)\n",
    "\n",
    "### Base learners are fitted on the full X\n",
    "### while the final estimator is trained\n",
    "### using cross-validated predictions of the base learners\n",
    "### using cross_val_predict.\n",
    "\n",
    "stacking_model = StackingRegressor(\n",
    "    estimators=estimators,\n",
    "    final_estimator=final_estimator,\n",
    "    cv=2\n",
    ")"
   ]
  },
  {
   "cell_type": "code",
   "execution_count": 17,
   "id": "3632b695",
   "metadata": {},
   "outputs": [
    {
     "data": {
      "text/html": [
       "<style>#sk-container-id-3 {color: black;background-color: white;}#sk-container-id-3 pre{padding: 0;}#sk-container-id-3 div.sk-toggleable {background-color: white;}#sk-container-id-3 label.sk-toggleable__label {cursor: pointer;display: block;width: 100%;margin-bottom: 0;padding: 0.3em;box-sizing: border-box;text-align: center;}#sk-container-id-3 label.sk-toggleable__label-arrow:before {content: \"▸\";float: left;margin-right: 0.25em;color: #696969;}#sk-container-id-3 label.sk-toggleable__label-arrow:hover:before {color: black;}#sk-container-id-3 div.sk-estimator:hover label.sk-toggleable__label-arrow:before {color: black;}#sk-container-id-3 div.sk-toggleable__content {max-height: 0;max-width: 0;overflow: hidden;text-align: left;background-color: #f0f8ff;}#sk-container-id-3 div.sk-toggleable__content pre {margin: 0.2em;color: black;border-radius: 0.25em;background-color: #f0f8ff;}#sk-container-id-3 input.sk-toggleable__control:checked~div.sk-toggleable__content {max-height: 200px;max-width: 100%;overflow: auto;}#sk-container-id-3 input.sk-toggleable__control:checked~label.sk-toggleable__label-arrow:before {content: \"▾\";}#sk-container-id-3 div.sk-estimator input.sk-toggleable__control:checked~label.sk-toggleable__label {background-color: #d4ebff;}#sk-container-id-3 div.sk-label input.sk-toggleable__control:checked~label.sk-toggleable__label {background-color: #d4ebff;}#sk-container-id-3 input.sk-hidden--visually {border: 0;clip: rect(1px 1px 1px 1px);clip: rect(1px, 1px, 1px, 1px);height: 1px;margin: -1px;overflow: hidden;padding: 0;position: absolute;width: 1px;}#sk-container-id-3 div.sk-estimator {font-family: monospace;background-color: #f0f8ff;border: 1px dotted black;border-radius: 0.25em;box-sizing: border-box;margin-bottom: 0.5em;}#sk-container-id-3 div.sk-estimator:hover {background-color: #d4ebff;}#sk-container-id-3 div.sk-parallel-item::after {content: \"\";width: 100%;border-bottom: 1px solid gray;flex-grow: 1;}#sk-container-id-3 div.sk-label:hover label.sk-toggleable__label {background-color: #d4ebff;}#sk-container-id-3 div.sk-serial::before {content: \"\";position: absolute;border-left: 1px solid gray;box-sizing: border-box;top: 0;bottom: 0;left: 50%;z-index: 0;}#sk-container-id-3 div.sk-serial {display: flex;flex-direction: column;align-items: center;background-color: white;padding-right: 0.2em;padding-left: 0.2em;position: relative;}#sk-container-id-3 div.sk-item {position: relative;z-index: 1;}#sk-container-id-3 div.sk-parallel {display: flex;align-items: stretch;justify-content: center;background-color: white;position: relative;}#sk-container-id-3 div.sk-item::before, #sk-container-id-3 div.sk-parallel-item::before {content: \"\";position: absolute;border-left: 1px solid gray;box-sizing: border-box;top: 0;bottom: 0;left: 50%;z-index: -1;}#sk-container-id-3 div.sk-parallel-item {display: flex;flex-direction: column;z-index: 1;position: relative;background-color: white;}#sk-container-id-3 div.sk-parallel-item:first-child::after {align-self: flex-end;width: 50%;}#sk-container-id-3 div.sk-parallel-item:last-child::after {align-self: flex-start;width: 50%;}#sk-container-id-3 div.sk-parallel-item:only-child::after {width: 0;}#sk-container-id-3 div.sk-dashed-wrapped {border: 1px dashed gray;margin: 0 0.4em 0.5em 0.4em;box-sizing: border-box;padding-bottom: 0.4em;background-color: white;}#sk-container-id-3 div.sk-label label {font-family: monospace;font-weight: bold;display: inline-block;line-height: 1.2em;}#sk-container-id-3 div.sk-label-container {text-align: center;}#sk-container-id-3 div.sk-container {/* jupyter's `normalize.less` sets `[hidden] { display: none; }` but bootstrap.min.css set `[hidden] { display: none !important; }` so we also need the `!important` here to be able to override the default hidden behavior on the sphinx rendered scikit-learn.org. See: https://github.com/scikit-learn/scikit-learn/issues/21755 */display: inline-block !important;position: relative;}#sk-container-id-3 div.sk-text-repr-fallback {display: none;}</style><div id=\"sk-container-id-3\" class=\"sk-top-container\"><div class=\"sk-text-repr-fallback\"><pre>StackingRegressor(cv=2,\n",
       "                  estimators=[(&#x27;dt&#x27;,\n",
       "                               Pipeline(steps=[(&#x27;column_transformer&#x27;,\n",
       "                                                ColumnTransformer(transformers=[(&#x27;OneHotEncoder&#x27;,\n",
       "                                                                                 OneHotEncoder(),\n",
       "                                                                                 [2,\n",
       "                                                                                  11,\n",
       "                                                                                  13]),\n",
       "                                                                                (&#x27;MeanTargetEncoder&#x27;,\n",
       "                                                                                 TargetEncoder(),\n",
       "                                                                                 [0,\n",
       "                                                                                  1,\n",
       "                                                                                  3,\n",
       "                                                                                  5,\n",
       "                                                                                  6,\n",
       "                                                                                  7,\n",
       "                                                                                  8,\n",
       "                                                                                  9,\n",
       "                                                                                  10,\n",
       "                                                                                  12,\n",
       "                                                                                  14,\n",
       "                                                                                  15,\n",
       "                                                                                  16]),\n",
       "                                                                                (&#x27;StandardScaler&#x27;,\n",
       "                                                                                 StandardScaler(),\n",
       "                                                                                 [4])])),\n",
       "                                               (&#x27;decision_tree&#x27;,\n",
       "                                                DecisionTreeRegressor())])),\n",
       "                              (&#x27;lr&#x27;,\n",
       "                               Pipeline(steps=[(&#x27;column_trans...\n",
       "                                                                                 StandardScaler(),\n",
       "                                                                                 [4])])),\n",
       "                                               (&#x27;Lasso&#x27;, Lasso())])),\n",
       "                              (&#x27;knn&#x27;,\n",
       "                               Pipeline(steps=[(&#x27;column_transformer&#x27;,\n",
       "                                                ColumnTransformer(transformers=[(&#x27;OneHotEncoder&#x27;,\n",
       "                                                                                 OneHotEncoder(),\n",
       "                                                                                 [2,\n",
       "                                                                                  11,\n",
       "                                                                                  13]),\n",
       "                                                                                (&#x27;MeanTargetEncoder&#x27;,\n",
       "                                                                                 TargetEncoder(),\n",
       "                                                                                 [0,\n",
       "                                                                                  1,\n",
       "                                                                                  3,\n",
       "                                                                                  5,\n",
       "                                                                                  6,\n",
       "                                                                                  7,\n",
       "                                                                                  8,\n",
       "                                                                                  9,\n",
       "                                                                                  10,\n",
       "                                                                                  12,\n",
       "                                                                                  14,\n",
       "                                                                                  15,\n",
       "                                                                                  16]),\n",
       "                                                                                (&#x27;StandardScaler&#x27;,\n",
       "                                                                                 StandardScaler(),\n",
       "                                                                                 [4])])),\n",
       "                                               (&#x27;knn&#x27;,\n",
       "                                                KNeighborsRegressor())]))],\n",
       "                  final_estimator=DecisionTreeRegressor(max_depth=3))</pre><b>In a Jupyter environment, please rerun this cell to show the HTML representation or trust the notebook. <br />On GitHub, the HTML representation is unable to render, please try loading this page with nbviewer.org.</b></div><div class=\"sk-container\" hidden><div class=\"sk-item sk-dashed-wrapped\"><div class=\"sk-label-container\"><div class=\"sk-label sk-toggleable\"><input class=\"sk-toggleable__control sk-hidden--visually\" id=\"sk-estimator-id-17\" type=\"checkbox\" ><label for=\"sk-estimator-id-17\" class=\"sk-toggleable__label sk-toggleable__label-arrow\">StackingRegressor</label><div class=\"sk-toggleable__content\"><pre>StackingRegressor(cv=2,\n",
       "                  estimators=[(&#x27;dt&#x27;,\n",
       "                               Pipeline(steps=[(&#x27;column_transformer&#x27;,\n",
       "                                                ColumnTransformer(transformers=[(&#x27;OneHotEncoder&#x27;,\n",
       "                                                                                 OneHotEncoder(),\n",
       "                                                                                 [2,\n",
       "                                                                                  11,\n",
       "                                                                                  13]),\n",
       "                                                                                (&#x27;MeanTargetEncoder&#x27;,\n",
       "                                                                                 TargetEncoder(),\n",
       "                                                                                 [0,\n",
       "                                                                                  1,\n",
       "                                                                                  3,\n",
       "                                                                                  5,\n",
       "                                                                                  6,\n",
       "                                                                                  7,\n",
       "                                                                                  8,\n",
       "                                                                                  9,\n",
       "                                                                                  10,\n",
       "                                                                                  12,\n",
       "                                                                                  14,\n",
       "                                                                                  15,\n",
       "                                                                                  16]),\n",
       "                                                                                (&#x27;StandardScaler&#x27;,\n",
       "                                                                                 StandardScaler(),\n",
       "                                                                                 [4])])),\n",
       "                                               (&#x27;decision_tree&#x27;,\n",
       "                                                DecisionTreeRegressor())])),\n",
       "                              (&#x27;lr&#x27;,\n",
       "                               Pipeline(steps=[(&#x27;column_trans...\n",
       "                                                                                 StandardScaler(),\n",
       "                                                                                 [4])])),\n",
       "                                               (&#x27;Lasso&#x27;, Lasso())])),\n",
       "                              (&#x27;knn&#x27;,\n",
       "                               Pipeline(steps=[(&#x27;column_transformer&#x27;,\n",
       "                                                ColumnTransformer(transformers=[(&#x27;OneHotEncoder&#x27;,\n",
       "                                                                                 OneHotEncoder(),\n",
       "                                                                                 [2,\n",
       "                                                                                  11,\n",
       "                                                                                  13]),\n",
       "                                                                                (&#x27;MeanTargetEncoder&#x27;,\n",
       "                                                                                 TargetEncoder(),\n",
       "                                                                                 [0,\n",
       "                                                                                  1,\n",
       "                                                                                  3,\n",
       "                                                                                  5,\n",
       "                                                                                  6,\n",
       "                                                                                  7,\n",
       "                                                                                  8,\n",
       "                                                                                  9,\n",
       "                                                                                  10,\n",
       "                                                                                  12,\n",
       "                                                                                  14,\n",
       "                                                                                  15,\n",
       "                                                                                  16]),\n",
       "                                                                                (&#x27;StandardScaler&#x27;,\n",
       "                                                                                 StandardScaler(),\n",
       "                                                                                 [4])])),\n",
       "                                               (&#x27;knn&#x27;,\n",
       "                                                KNeighborsRegressor())]))],\n",
       "                  final_estimator=DecisionTreeRegressor(max_depth=3))</pre></div></div></div><div class=\"sk-serial\"><div class=\"sk-item\"><div class=\"sk-parallel\"><div class=\"sk-parallel-item\"><div class=\"sk-item\"><div class=\"sk-label-container\"><div class=\"sk-label sk-toggleable\"><label>dt</label></div></div><div class=\"sk-serial\"><div class=\"sk-item\"><div class=\"sk-serial\"><div class=\"sk-item sk-dashed-wrapped\"><div class=\"sk-label-container\"><div class=\"sk-label sk-toggleable\"><input class=\"sk-toggleable__control sk-hidden--visually\" id=\"sk-estimator-id-18\" type=\"checkbox\" ><label for=\"sk-estimator-id-18\" class=\"sk-toggleable__label sk-toggleable__label-arrow\">column_transformer: ColumnTransformer</label><div class=\"sk-toggleable__content\"><pre>ColumnTransformer(transformers=[(&#x27;OneHotEncoder&#x27;, OneHotEncoder(), [2, 11, 13]),\n",
       "                                (&#x27;MeanTargetEncoder&#x27;, TargetEncoder(),\n",
       "                                 [0, 1, 3, 5, 6, 7, 8, 9, 10, 12, 14, 15, 16]),\n",
       "                                (&#x27;StandardScaler&#x27;, StandardScaler(), [4])])</pre></div></div></div><div class=\"sk-parallel\"><div class=\"sk-parallel-item\"><div class=\"sk-item\"><div class=\"sk-label-container\"><div class=\"sk-label sk-toggleable\"><input class=\"sk-toggleable__control sk-hidden--visually\" id=\"sk-estimator-id-19\" type=\"checkbox\" ><label for=\"sk-estimator-id-19\" class=\"sk-toggleable__label sk-toggleable__label-arrow\">OneHotEncoder</label><div class=\"sk-toggleable__content\"><pre>[2, 11, 13]</pre></div></div></div><div class=\"sk-serial\"><div class=\"sk-item\"><div class=\"sk-estimator sk-toggleable\"><input class=\"sk-toggleable__control sk-hidden--visually\" id=\"sk-estimator-id-20\" type=\"checkbox\" ><label for=\"sk-estimator-id-20\" class=\"sk-toggleable__label sk-toggleable__label-arrow\">OneHotEncoder</label><div class=\"sk-toggleable__content\"><pre>OneHotEncoder()</pre></div></div></div></div></div></div><div class=\"sk-parallel-item\"><div class=\"sk-item\"><div class=\"sk-label-container\"><div class=\"sk-label sk-toggleable\"><input class=\"sk-toggleable__control sk-hidden--visually\" id=\"sk-estimator-id-21\" type=\"checkbox\" ><label for=\"sk-estimator-id-21\" class=\"sk-toggleable__label sk-toggleable__label-arrow\">MeanTargetEncoder</label><div class=\"sk-toggleable__content\"><pre>[0, 1, 3, 5, 6, 7, 8, 9, 10, 12, 14, 15, 16]</pre></div></div></div><div class=\"sk-serial\"><div class=\"sk-item\"><div class=\"sk-estimator sk-toggleable\"><input class=\"sk-toggleable__control sk-hidden--visually\" id=\"sk-estimator-id-22\" type=\"checkbox\" ><label for=\"sk-estimator-id-22\" class=\"sk-toggleable__label sk-toggleable__label-arrow\">TargetEncoder</label><div class=\"sk-toggleable__content\"><pre>TargetEncoder()</pre></div></div></div></div></div></div><div class=\"sk-parallel-item\"><div class=\"sk-item\"><div class=\"sk-label-container\"><div class=\"sk-label sk-toggleable\"><input class=\"sk-toggleable__control sk-hidden--visually\" id=\"sk-estimator-id-23\" type=\"checkbox\" ><label for=\"sk-estimator-id-23\" class=\"sk-toggleable__label sk-toggleable__label-arrow\">StandardScaler</label><div class=\"sk-toggleable__content\"><pre>[4]</pre></div></div></div><div class=\"sk-serial\"><div class=\"sk-item\"><div class=\"sk-estimator sk-toggleable\"><input class=\"sk-toggleable__control sk-hidden--visually\" id=\"sk-estimator-id-24\" type=\"checkbox\" ><label for=\"sk-estimator-id-24\" class=\"sk-toggleable__label sk-toggleable__label-arrow\">StandardScaler</label><div class=\"sk-toggleable__content\"><pre>StandardScaler()</pre></div></div></div></div></div></div></div></div><div class=\"sk-item\"><div class=\"sk-estimator sk-toggleable\"><input class=\"sk-toggleable__control sk-hidden--visually\" id=\"sk-estimator-id-25\" type=\"checkbox\" ><label for=\"sk-estimator-id-25\" class=\"sk-toggleable__label sk-toggleable__label-arrow\">DecisionTreeRegressor</label><div class=\"sk-toggleable__content\"><pre>DecisionTreeRegressor()</pre></div></div></div></div></div></div></div></div><div class=\"sk-parallel-item\"><div class=\"sk-item\"><div class=\"sk-label-container\"><div class=\"sk-label sk-toggleable\"><label>lr</label></div></div><div class=\"sk-serial\"><div class=\"sk-item\"><div class=\"sk-serial\"><div class=\"sk-item sk-dashed-wrapped\"><div class=\"sk-label-container\"><div class=\"sk-label sk-toggleable\"><input class=\"sk-toggleable__control sk-hidden--visually\" id=\"sk-estimator-id-26\" type=\"checkbox\" ><label for=\"sk-estimator-id-26\" class=\"sk-toggleable__label sk-toggleable__label-arrow\">column_transformer: ColumnTransformer</label><div class=\"sk-toggleable__content\"><pre>ColumnTransformer(transformers=[(&#x27;OneHotEncoder&#x27;, OneHotEncoder(), [2, 11, 13]),\n",
       "                                (&#x27;MeanTargetEncoder&#x27;, TargetEncoder(),\n",
       "                                 [0, 1, 3, 5, 6, 7, 8, 9, 10, 12, 14, 15, 16]),\n",
       "                                (&#x27;StandardScaler&#x27;, StandardScaler(), [4])])</pre></div></div></div><div class=\"sk-parallel\"><div class=\"sk-parallel-item\"><div class=\"sk-item\"><div class=\"sk-label-container\"><div class=\"sk-label sk-toggleable\"><input class=\"sk-toggleable__control sk-hidden--visually\" id=\"sk-estimator-id-27\" type=\"checkbox\" ><label for=\"sk-estimator-id-27\" class=\"sk-toggleable__label sk-toggleable__label-arrow\">OneHotEncoder</label><div class=\"sk-toggleable__content\"><pre>[2, 11, 13]</pre></div></div></div><div class=\"sk-serial\"><div class=\"sk-item\"><div class=\"sk-estimator sk-toggleable\"><input class=\"sk-toggleable__control sk-hidden--visually\" id=\"sk-estimator-id-28\" type=\"checkbox\" ><label for=\"sk-estimator-id-28\" class=\"sk-toggleable__label sk-toggleable__label-arrow\">OneHotEncoder</label><div class=\"sk-toggleable__content\"><pre>OneHotEncoder()</pre></div></div></div></div></div></div><div class=\"sk-parallel-item\"><div class=\"sk-item\"><div class=\"sk-label-container\"><div class=\"sk-label sk-toggleable\"><input class=\"sk-toggleable__control sk-hidden--visually\" id=\"sk-estimator-id-29\" type=\"checkbox\" ><label for=\"sk-estimator-id-29\" class=\"sk-toggleable__label sk-toggleable__label-arrow\">MeanTargetEncoder</label><div class=\"sk-toggleable__content\"><pre>[0, 1, 3, 5, 6, 7, 8, 9, 10, 12, 14, 15, 16]</pre></div></div></div><div class=\"sk-serial\"><div class=\"sk-item\"><div class=\"sk-estimator sk-toggleable\"><input class=\"sk-toggleable__control sk-hidden--visually\" id=\"sk-estimator-id-30\" type=\"checkbox\" ><label for=\"sk-estimator-id-30\" class=\"sk-toggleable__label sk-toggleable__label-arrow\">TargetEncoder</label><div class=\"sk-toggleable__content\"><pre>TargetEncoder()</pre></div></div></div></div></div></div><div class=\"sk-parallel-item\"><div class=\"sk-item\"><div class=\"sk-label-container\"><div class=\"sk-label sk-toggleable\"><input class=\"sk-toggleable__control sk-hidden--visually\" id=\"sk-estimator-id-31\" type=\"checkbox\" ><label for=\"sk-estimator-id-31\" class=\"sk-toggleable__label sk-toggleable__label-arrow\">StandardScaler</label><div class=\"sk-toggleable__content\"><pre>[4]</pre></div></div></div><div class=\"sk-serial\"><div class=\"sk-item\"><div class=\"sk-estimator sk-toggleable\"><input class=\"sk-toggleable__control sk-hidden--visually\" id=\"sk-estimator-id-32\" type=\"checkbox\" ><label for=\"sk-estimator-id-32\" class=\"sk-toggleable__label sk-toggleable__label-arrow\">StandardScaler</label><div class=\"sk-toggleable__content\"><pre>StandardScaler()</pre></div></div></div></div></div></div></div></div><div class=\"sk-item\"><div class=\"sk-estimator sk-toggleable\"><input class=\"sk-toggleable__control sk-hidden--visually\" id=\"sk-estimator-id-33\" type=\"checkbox\" ><label for=\"sk-estimator-id-33\" class=\"sk-toggleable__label sk-toggleable__label-arrow\">Lasso</label><div class=\"sk-toggleable__content\"><pre>Lasso()</pre></div></div></div></div></div></div></div></div><div class=\"sk-parallel-item\"><div class=\"sk-item\"><div class=\"sk-label-container\"><div class=\"sk-label sk-toggleable\"><label>knn</label></div></div><div class=\"sk-serial\"><div class=\"sk-item\"><div class=\"sk-serial\"><div class=\"sk-item sk-dashed-wrapped\"><div class=\"sk-label-container\"><div class=\"sk-label sk-toggleable\"><input class=\"sk-toggleable__control sk-hidden--visually\" id=\"sk-estimator-id-34\" type=\"checkbox\" ><label for=\"sk-estimator-id-34\" class=\"sk-toggleable__label sk-toggleable__label-arrow\">column_transformer: ColumnTransformer</label><div class=\"sk-toggleable__content\"><pre>ColumnTransformer(transformers=[(&#x27;OneHotEncoder&#x27;, OneHotEncoder(), [2, 11, 13]),\n",
       "                                (&#x27;MeanTargetEncoder&#x27;, TargetEncoder(),\n",
       "                                 [0, 1, 3, 5, 6, 7, 8, 9, 10, 12, 14, 15, 16]),\n",
       "                                (&#x27;StandardScaler&#x27;, StandardScaler(), [4])])</pre></div></div></div><div class=\"sk-parallel\"><div class=\"sk-parallel-item\"><div class=\"sk-item\"><div class=\"sk-label-container\"><div class=\"sk-label sk-toggleable\"><input class=\"sk-toggleable__control sk-hidden--visually\" id=\"sk-estimator-id-35\" type=\"checkbox\" ><label for=\"sk-estimator-id-35\" class=\"sk-toggleable__label sk-toggleable__label-arrow\">OneHotEncoder</label><div class=\"sk-toggleable__content\"><pre>[2, 11, 13]</pre></div></div></div><div class=\"sk-serial\"><div class=\"sk-item\"><div class=\"sk-estimator sk-toggleable\"><input class=\"sk-toggleable__control sk-hidden--visually\" id=\"sk-estimator-id-36\" type=\"checkbox\" ><label for=\"sk-estimator-id-36\" class=\"sk-toggleable__label sk-toggleable__label-arrow\">OneHotEncoder</label><div class=\"sk-toggleable__content\"><pre>OneHotEncoder()</pre></div></div></div></div></div></div><div class=\"sk-parallel-item\"><div class=\"sk-item\"><div class=\"sk-label-container\"><div class=\"sk-label sk-toggleable\"><input class=\"sk-toggleable__control sk-hidden--visually\" id=\"sk-estimator-id-37\" type=\"checkbox\" ><label for=\"sk-estimator-id-37\" class=\"sk-toggleable__label sk-toggleable__label-arrow\">MeanTargetEncoder</label><div class=\"sk-toggleable__content\"><pre>[0, 1, 3, 5, 6, 7, 8, 9, 10, 12, 14, 15, 16]</pre></div></div></div><div class=\"sk-serial\"><div class=\"sk-item\"><div class=\"sk-estimator sk-toggleable\"><input class=\"sk-toggleable__control sk-hidden--visually\" id=\"sk-estimator-id-38\" type=\"checkbox\" ><label for=\"sk-estimator-id-38\" class=\"sk-toggleable__label sk-toggleable__label-arrow\">TargetEncoder</label><div class=\"sk-toggleable__content\"><pre>TargetEncoder()</pre></div></div></div></div></div></div><div class=\"sk-parallel-item\"><div class=\"sk-item\"><div class=\"sk-label-container\"><div class=\"sk-label sk-toggleable\"><input class=\"sk-toggleable__control sk-hidden--visually\" id=\"sk-estimator-id-39\" type=\"checkbox\" ><label for=\"sk-estimator-id-39\" class=\"sk-toggleable__label sk-toggleable__label-arrow\">StandardScaler</label><div class=\"sk-toggleable__content\"><pre>[4]</pre></div></div></div><div class=\"sk-serial\"><div class=\"sk-item\"><div class=\"sk-estimator sk-toggleable\"><input class=\"sk-toggleable__control sk-hidden--visually\" id=\"sk-estimator-id-40\" type=\"checkbox\" ><label for=\"sk-estimator-id-40\" class=\"sk-toggleable__label sk-toggleable__label-arrow\">StandardScaler</label><div class=\"sk-toggleable__content\"><pre>StandardScaler()</pre></div></div></div></div></div></div></div></div><div class=\"sk-item\"><div class=\"sk-estimator sk-toggleable\"><input class=\"sk-toggleable__control sk-hidden--visually\" id=\"sk-estimator-id-41\" type=\"checkbox\" ><label for=\"sk-estimator-id-41\" class=\"sk-toggleable__label sk-toggleable__label-arrow\">KNeighborsRegressor</label><div class=\"sk-toggleable__content\"><pre>KNeighborsRegressor()</pre></div></div></div></div></div></div></div></div></div></div><div class=\"sk-item\"><div class=\"sk-parallel\"><div class=\"sk-parallel-item\"><div class=\"sk-item\"><div class=\"sk-label-container\"><div class=\"sk-label sk-toggleable\"><label>final_estimator</label></div></div><div class=\"sk-serial\"><div class=\"sk-item\"><div class=\"sk-estimator sk-toggleable\"><input class=\"sk-toggleable__control sk-hidden--visually\" id=\"sk-estimator-id-42\" type=\"checkbox\" ><label for=\"sk-estimator-id-42\" class=\"sk-toggleable__label sk-toggleable__label-arrow\">DecisionTreeRegressor</label><div class=\"sk-toggleable__content\"><pre>DecisionTreeRegressor(max_depth=3)</pre></div></div></div></div></div></div></div></div></div></div></div></div>"
      ],
      "text/plain": [
       "StackingRegressor(cv=2,\n",
       "                  estimators=[('dt',\n",
       "                               Pipeline(steps=[('column_transformer',\n",
       "                                                ColumnTransformer(transformers=[('OneHotEncoder',\n",
       "                                                                                 OneHotEncoder(),\n",
       "                                                                                 [2,\n",
       "                                                                                  11,\n",
       "                                                                                  13]),\n",
       "                                                                                ('MeanTargetEncoder',\n",
       "                                                                                 TargetEncoder(),\n",
       "                                                                                 [0,\n",
       "                                                                                  1,\n",
       "                                                                                  3,\n",
       "                                                                                  5,\n",
       "                                                                                  6,\n",
       "                                                                                  7,\n",
       "                                                                                  8,\n",
       "                                                                                  9,\n",
       "                                                                                  10,\n",
       "                                                                                  12,\n",
       "                                                                                  14,\n",
       "                                                                                  15,\n",
       "                                                                                  16]),\n",
       "                                                                                ('StandardScaler',\n",
       "                                                                                 StandardScaler(),\n",
       "                                                                                 [4])])),\n",
       "                                               ('decision_tree',\n",
       "                                                DecisionTreeRegressor())])),\n",
       "                              ('lr',\n",
       "                               Pipeline(steps=[('column_trans...\n",
       "                                                                                 StandardScaler(),\n",
       "                                                                                 [4])])),\n",
       "                                               ('Lasso', Lasso())])),\n",
       "                              ('knn',\n",
       "                               Pipeline(steps=[('column_transformer',\n",
       "                                                ColumnTransformer(transformers=[('OneHotEncoder',\n",
       "                                                                                 OneHotEncoder(),\n",
       "                                                                                 [2,\n",
       "                                                                                  11,\n",
       "                                                                                  13]),\n",
       "                                                                                ('MeanTargetEncoder',\n",
       "                                                                                 TargetEncoder(),\n",
       "                                                                                 [0,\n",
       "                                                                                  1,\n",
       "                                                                                  3,\n",
       "                                                                                  5,\n",
       "                                                                                  6,\n",
       "                                                                                  7,\n",
       "                                                                                  8,\n",
       "                                                                                  9,\n",
       "                                                                                  10,\n",
       "                                                                                  12,\n",
       "                                                                                  14,\n",
       "                                                                                  15,\n",
       "                                                                                  16]),\n",
       "                                                                                ('StandardScaler',\n",
       "                                                                                 StandardScaler(),\n",
       "                                                                                 [4])])),\n",
       "                                               ('knn',\n",
       "                                                KNeighborsRegressor())]))],\n",
       "                  final_estimator=DecisionTreeRegressor(max_depth=3))"
      ]
     },
     "execution_count": 17,
     "metadata": {},
     "output_type": "execute_result"
    }
   ],
   "source": [
    "stacking_model.fit(X_train, y_train)"
   ]
  },
  {
   "cell_type": "code",
   "execution_count": 18,
   "id": "2f0ad1ec",
   "metadata": {},
   "outputs": [
    {
     "name": "stdout",
     "output_type": "stream",
     "text": [
      "Качество на трейне: 0.314\n",
      "Качество на тесте: 0.513\n"
     ]
    }
   ],
   "source": [
    "### Замерим качество работы такой модели\n",
    "### Возьмем MSLE\n",
    "\n",
    "train_preds = stacking_model.predict(X_train)\n",
    "test_preds = stacking_model.predict(X_test)\n",
    "\n",
    "train_error = np.mean((train_preds - y_train)**2)\n",
    "test_error = np.mean((test_preds - y_test)**2)\n",
    "\n",
    "\n",
    "print(f\"Качество на трейне: {train_error.round(3)}\")\n",
    "print(f\"Качество на тесте: {test_error.round(3)}\")"
   ]
  },
  {
   "cell_type": "markdown",
   "id": "80c294b8",
   "metadata": {},
   "source": [
    "### Обучение бэггинга"
   ]
  },
  {
   "cell_type": "code",
   "execution_count": 19,
   "id": "0be0cc36",
   "metadata": {},
   "outputs": [
    {
     "data": {
      "text/html": [
       "<style>#sk-container-id-4 {color: black;background-color: white;}#sk-container-id-4 pre{padding: 0;}#sk-container-id-4 div.sk-toggleable {background-color: white;}#sk-container-id-4 label.sk-toggleable__label {cursor: pointer;display: block;width: 100%;margin-bottom: 0;padding: 0.3em;box-sizing: border-box;text-align: center;}#sk-container-id-4 label.sk-toggleable__label-arrow:before {content: \"▸\";float: left;margin-right: 0.25em;color: #696969;}#sk-container-id-4 label.sk-toggleable__label-arrow:hover:before {color: black;}#sk-container-id-4 div.sk-estimator:hover label.sk-toggleable__label-arrow:before {color: black;}#sk-container-id-4 div.sk-toggleable__content {max-height: 0;max-width: 0;overflow: hidden;text-align: left;background-color: #f0f8ff;}#sk-container-id-4 div.sk-toggleable__content pre {margin: 0.2em;color: black;border-radius: 0.25em;background-color: #f0f8ff;}#sk-container-id-4 input.sk-toggleable__control:checked~div.sk-toggleable__content {max-height: 200px;max-width: 100%;overflow: auto;}#sk-container-id-4 input.sk-toggleable__control:checked~label.sk-toggleable__label-arrow:before {content: \"▾\";}#sk-container-id-4 div.sk-estimator input.sk-toggleable__control:checked~label.sk-toggleable__label {background-color: #d4ebff;}#sk-container-id-4 div.sk-label input.sk-toggleable__control:checked~label.sk-toggleable__label {background-color: #d4ebff;}#sk-container-id-4 input.sk-hidden--visually {border: 0;clip: rect(1px 1px 1px 1px);clip: rect(1px, 1px, 1px, 1px);height: 1px;margin: -1px;overflow: hidden;padding: 0;position: absolute;width: 1px;}#sk-container-id-4 div.sk-estimator {font-family: monospace;background-color: #f0f8ff;border: 1px dotted black;border-radius: 0.25em;box-sizing: border-box;margin-bottom: 0.5em;}#sk-container-id-4 div.sk-estimator:hover {background-color: #d4ebff;}#sk-container-id-4 div.sk-parallel-item::after {content: \"\";width: 100%;border-bottom: 1px solid gray;flex-grow: 1;}#sk-container-id-4 div.sk-label:hover label.sk-toggleable__label {background-color: #d4ebff;}#sk-container-id-4 div.sk-serial::before {content: \"\";position: absolute;border-left: 1px solid gray;box-sizing: border-box;top: 0;bottom: 0;left: 50%;z-index: 0;}#sk-container-id-4 div.sk-serial {display: flex;flex-direction: column;align-items: center;background-color: white;padding-right: 0.2em;padding-left: 0.2em;position: relative;}#sk-container-id-4 div.sk-item {position: relative;z-index: 1;}#sk-container-id-4 div.sk-parallel {display: flex;align-items: stretch;justify-content: center;background-color: white;position: relative;}#sk-container-id-4 div.sk-item::before, #sk-container-id-4 div.sk-parallel-item::before {content: \"\";position: absolute;border-left: 1px solid gray;box-sizing: border-box;top: 0;bottom: 0;left: 50%;z-index: -1;}#sk-container-id-4 div.sk-parallel-item {display: flex;flex-direction: column;z-index: 1;position: relative;background-color: white;}#sk-container-id-4 div.sk-parallel-item:first-child::after {align-self: flex-end;width: 50%;}#sk-container-id-4 div.sk-parallel-item:last-child::after {align-self: flex-start;width: 50%;}#sk-container-id-4 div.sk-parallel-item:only-child::after {width: 0;}#sk-container-id-4 div.sk-dashed-wrapped {border: 1px dashed gray;margin: 0 0.4em 0.5em 0.4em;box-sizing: border-box;padding-bottom: 0.4em;background-color: white;}#sk-container-id-4 div.sk-label label {font-family: monospace;font-weight: bold;display: inline-block;line-height: 1.2em;}#sk-container-id-4 div.sk-label-container {text-align: center;}#sk-container-id-4 div.sk-container {/* jupyter's `normalize.less` sets `[hidden] { display: none; }` but bootstrap.min.css set `[hidden] { display: none !important; }` so we also need the `!important` here to be able to override the default hidden behavior on the sphinx rendered scikit-learn.org. See: https://github.com/scikit-learn/scikit-learn/issues/21755 */display: inline-block !important;position: relative;}#sk-container-id-4 div.sk-text-repr-fallback {display: none;}</style><div id=\"sk-container-id-4\" class=\"sk-top-container\"><div class=\"sk-text-repr-fallback\"><pre>BaggingRegressor(base_estimator=Pipeline(steps=[(&#x27;column_transformer&#x27;,\n",
       "                                                 ColumnTransformer(transformers=[(&#x27;OneHotEncoder&#x27;,\n",
       "                                                                                  OneHotEncoder(),\n",
       "                                                                                  [2,\n",
       "                                                                                   11,\n",
       "                                                                                   13]),\n",
       "                                                                                 (&#x27;MeanTargetEncoder&#x27;,\n",
       "                                                                                  TargetEncoder(),\n",
       "                                                                                  [0,\n",
       "                                                                                   1,\n",
       "                                                                                   3,\n",
       "                                                                                   5,\n",
       "                                                                                   6,\n",
       "                                                                                   7,\n",
       "                                                                                   8,\n",
       "                                                                                   9,\n",
       "                                                                                   10,\n",
       "                                                                                   12,\n",
       "                                                                                   14,\n",
       "                                                                                   15,\n",
       "                                                                                   16]),\n",
       "                                                                                 (&#x27;StandardScaler&#x27;,\n",
       "                                                                                  StandardScaler(),\n",
       "                                                                                  [4])])),\n",
       "                                                (&#x27;decision_tree&#x27;,\n",
       "                                                 DecisionTreeRegressor(max_depth=10))]),\n",
       "                 random_state=32)</pre><b>In a Jupyter environment, please rerun this cell to show the HTML representation or trust the notebook. <br />On GitHub, the HTML representation is unable to render, please try loading this page with nbviewer.org.</b></div><div class=\"sk-container\" hidden><div class=\"sk-item sk-dashed-wrapped\"><div class=\"sk-label-container\"><div class=\"sk-label sk-toggleable\"><input class=\"sk-toggleable__control sk-hidden--visually\" id=\"sk-estimator-id-43\" type=\"checkbox\" ><label for=\"sk-estimator-id-43\" class=\"sk-toggleable__label sk-toggleable__label-arrow\">BaggingRegressor</label><div class=\"sk-toggleable__content\"><pre>BaggingRegressor(base_estimator=Pipeline(steps=[(&#x27;column_transformer&#x27;,\n",
       "                                                 ColumnTransformer(transformers=[(&#x27;OneHotEncoder&#x27;,\n",
       "                                                                                  OneHotEncoder(),\n",
       "                                                                                  [2,\n",
       "                                                                                   11,\n",
       "                                                                                   13]),\n",
       "                                                                                 (&#x27;MeanTargetEncoder&#x27;,\n",
       "                                                                                  TargetEncoder(),\n",
       "                                                                                  [0,\n",
       "                                                                                   1,\n",
       "                                                                                   3,\n",
       "                                                                                   5,\n",
       "                                                                                   6,\n",
       "                                                                                   7,\n",
       "                                                                                   8,\n",
       "                                                                                   9,\n",
       "                                                                                   10,\n",
       "                                                                                   12,\n",
       "                                                                                   14,\n",
       "                                                                                   15,\n",
       "                                                                                   16]),\n",
       "                                                                                 (&#x27;StandardScaler&#x27;,\n",
       "                                                                                  StandardScaler(),\n",
       "                                                                                  [4])])),\n",
       "                                                (&#x27;decision_tree&#x27;,\n",
       "                                                 DecisionTreeRegressor(max_depth=10))]),\n",
       "                 random_state=32)</pre></div></div></div><div class=\"sk-parallel\"><div class=\"sk-parallel-item\"><div class=\"sk-item\"><div class=\"sk-label-container\"><div class=\"sk-label sk-toggleable\"><input class=\"sk-toggleable__control sk-hidden--visually\" id=\"sk-estimator-id-44\" type=\"checkbox\" ><label for=\"sk-estimator-id-44\" class=\"sk-toggleable__label sk-toggleable__label-arrow\">base_estimator: Pipeline</label><div class=\"sk-toggleable__content\"><pre>Pipeline(steps=[(&#x27;column_transformer&#x27;,\n",
       "                 ColumnTransformer(transformers=[(&#x27;OneHotEncoder&#x27;,\n",
       "                                                  OneHotEncoder(),\n",
       "                                                  [2, 11, 13]),\n",
       "                                                 (&#x27;MeanTargetEncoder&#x27;,\n",
       "                                                  TargetEncoder(),\n",
       "                                                  [0, 1, 3, 5, 6, 7, 8, 9, 10,\n",
       "                                                   12, 14, 15, 16]),\n",
       "                                                 (&#x27;StandardScaler&#x27;,\n",
       "                                                  StandardScaler(), [4])])),\n",
       "                (&#x27;decision_tree&#x27;, DecisionTreeRegressor(max_depth=10))])</pre></div></div></div><div class=\"sk-serial\"><div class=\"sk-item\"><div class=\"sk-serial\"><div class=\"sk-item sk-dashed-wrapped\"><div class=\"sk-label-container\"><div class=\"sk-label sk-toggleable\"><input class=\"sk-toggleable__control sk-hidden--visually\" id=\"sk-estimator-id-45\" type=\"checkbox\" ><label for=\"sk-estimator-id-45\" class=\"sk-toggleable__label sk-toggleable__label-arrow\">column_transformer: ColumnTransformer</label><div class=\"sk-toggleable__content\"><pre>ColumnTransformer(transformers=[(&#x27;OneHotEncoder&#x27;, OneHotEncoder(), [2, 11, 13]),\n",
       "                                (&#x27;MeanTargetEncoder&#x27;, TargetEncoder(),\n",
       "                                 [0, 1, 3, 5, 6, 7, 8, 9, 10, 12, 14, 15, 16]),\n",
       "                                (&#x27;StandardScaler&#x27;, StandardScaler(), [4])])</pre></div></div></div><div class=\"sk-parallel\"><div class=\"sk-parallel-item\"><div class=\"sk-item\"><div class=\"sk-label-container\"><div class=\"sk-label sk-toggleable\"><input class=\"sk-toggleable__control sk-hidden--visually\" id=\"sk-estimator-id-46\" type=\"checkbox\" ><label for=\"sk-estimator-id-46\" class=\"sk-toggleable__label sk-toggleable__label-arrow\">OneHotEncoder</label><div class=\"sk-toggleable__content\"><pre>[2, 11, 13]</pre></div></div></div><div class=\"sk-serial\"><div class=\"sk-item\"><div class=\"sk-estimator sk-toggleable\"><input class=\"sk-toggleable__control sk-hidden--visually\" id=\"sk-estimator-id-47\" type=\"checkbox\" ><label for=\"sk-estimator-id-47\" class=\"sk-toggleable__label sk-toggleable__label-arrow\">OneHotEncoder</label><div class=\"sk-toggleable__content\"><pre>OneHotEncoder()</pre></div></div></div></div></div></div><div class=\"sk-parallel-item\"><div class=\"sk-item\"><div class=\"sk-label-container\"><div class=\"sk-label sk-toggleable\"><input class=\"sk-toggleable__control sk-hidden--visually\" id=\"sk-estimator-id-48\" type=\"checkbox\" ><label for=\"sk-estimator-id-48\" class=\"sk-toggleable__label sk-toggleable__label-arrow\">MeanTargetEncoder</label><div class=\"sk-toggleable__content\"><pre>[0, 1, 3, 5, 6, 7, 8, 9, 10, 12, 14, 15, 16]</pre></div></div></div><div class=\"sk-serial\"><div class=\"sk-item\"><div class=\"sk-estimator sk-toggleable\"><input class=\"sk-toggleable__control sk-hidden--visually\" id=\"sk-estimator-id-49\" type=\"checkbox\" ><label for=\"sk-estimator-id-49\" class=\"sk-toggleable__label sk-toggleable__label-arrow\">TargetEncoder</label><div class=\"sk-toggleable__content\"><pre>TargetEncoder()</pre></div></div></div></div></div></div><div class=\"sk-parallel-item\"><div class=\"sk-item\"><div class=\"sk-label-container\"><div class=\"sk-label sk-toggleable\"><input class=\"sk-toggleable__control sk-hidden--visually\" id=\"sk-estimator-id-50\" type=\"checkbox\" ><label for=\"sk-estimator-id-50\" class=\"sk-toggleable__label sk-toggleable__label-arrow\">StandardScaler</label><div class=\"sk-toggleable__content\"><pre>[4]</pre></div></div></div><div class=\"sk-serial\"><div class=\"sk-item\"><div class=\"sk-estimator sk-toggleable\"><input class=\"sk-toggleable__control sk-hidden--visually\" id=\"sk-estimator-id-51\" type=\"checkbox\" ><label for=\"sk-estimator-id-51\" class=\"sk-toggleable__label sk-toggleable__label-arrow\">StandardScaler</label><div class=\"sk-toggleable__content\"><pre>StandardScaler()</pre></div></div></div></div></div></div></div></div><div class=\"sk-item\"><div class=\"sk-estimator sk-toggleable\"><input class=\"sk-toggleable__control sk-hidden--visually\" id=\"sk-estimator-id-52\" type=\"checkbox\" ><label for=\"sk-estimator-id-52\" class=\"sk-toggleable__label sk-toggleable__label-arrow\">DecisionTreeRegressor</label><div class=\"sk-toggleable__content\"><pre>DecisionTreeRegressor(max_depth=10)</pre></div></div></div></div></div></div></div></div></div></div></div></div>"
      ],
      "text/plain": [
       "BaggingRegressor(base_estimator=Pipeline(steps=[('column_transformer',\n",
       "                                                 ColumnTransformer(transformers=[('OneHotEncoder',\n",
       "                                                                                  OneHotEncoder(),\n",
       "                                                                                  [2,\n",
       "                                                                                   11,\n",
       "                                                                                   13]),\n",
       "                                                                                 ('MeanTargetEncoder',\n",
       "                                                                                  TargetEncoder(),\n",
       "                                                                                  [0,\n",
       "                                                                                   1,\n",
       "                                                                                   3,\n",
       "                                                                                   5,\n",
       "                                                                                   6,\n",
       "                                                                                   7,\n",
       "                                                                                   8,\n",
       "                                                                                   9,\n",
       "                                                                                   10,\n",
       "                                                                                   12,\n",
       "                                                                                   14,\n",
       "                                                                                   15,\n",
       "                                                                                   16]),\n",
       "                                                                                 ('StandardScaler',\n",
       "                                                                                  StandardScaler(),\n",
       "                                                                                  [4])])),\n",
       "                                                ('decision_tree',\n",
       "                                                 DecisionTreeRegressor(max_depth=10))]),\n",
       "                 random_state=32)"
      ]
     },
     "execution_count": 19,
     "metadata": {},
     "output_type": "execute_result"
    }
   ],
   "source": [
    "from sklearn.ensemble import BaggingRegressor\n",
    "\n",
    "base_pipe = Pipeline([(\"column_transformer\",\n",
    "                       col_transform),\n",
    "                  \n",
    "                     (\"decision_tree\", \n",
    "                      DecisionTreeRegressor(max_depth=10))])\n",
    "\n",
    "bagging = BaggingRegressor(base_estimator=base_pipe,\n",
    "                            n_estimators=10, random_state=32)\n",
    "\n",
    "bagging.fit(X_train, y_train)"
   ]
  },
  {
   "cell_type": "code",
   "execution_count": 20,
   "id": "7cb837b2",
   "metadata": {},
   "outputs": [
    {
     "name": "stdout",
     "output_type": "stream",
     "text": [
      "Качество на трейне: 0.402\n",
      "Качество на тесте: 0.457\n"
     ]
    }
   ],
   "source": [
    "### Замерим качество работы такой модели\n",
    "### Возьмем MSLE\n",
    "\n",
    "train_preds = bagging.predict(X_train)\n",
    "test_preds = bagging.predict(X_test)\n",
    "\n",
    "train_error = np.mean((train_preds - y_train)**2)\n",
    "test_error = np.mean((test_preds - y_test)**2)\n",
    "\n",
    "\n",
    "print(f\"Качество на трейне: {train_error.round(3)}\")\n",
    "print(f\"Качество на тесте: {test_error.round(3)}\")"
   ]
  },
  {
   "cell_type": "code",
   "execution_count": 21,
   "id": "43a08368",
   "metadata": {},
   "outputs": [],
   "source": [
    "### Построим обучающие кривые:\n",
    "\n",
    "train_losses = []\n",
    "test_losses = []\n",
    "\n",
    "for i in range(1, 21):\n",
    "    \n",
    "    bagging = BaggingRegressor(base_estimator=base_pipe,\n",
    "                               n_estimators=i, random_state=32)\n",
    "\n",
    "    bagging.fit(X_train, y_train)\n",
    "    \n",
    "    train_preds = bagging.predict(X_train)\n",
    "    test_preds = bagging.predict(X_test)\n",
    "\n",
    "    train_error = np.mean((train_preds - y_train)**2)\n",
    "    test_error = np.mean((test_preds - y_test)**2)\n",
    "\n",
    "    train_losses.append(train_error)\n",
    "    test_losses.append(test_error)"
   ]
  },
  {
   "cell_type": "code",
   "execution_count": 22,
   "id": "80363157",
   "metadata": {},
   "outputs": [
    {
     "data": {
      "image/png": "[encoded data removed]",
      "text/plain": [
       "<Figure size 1600x1000 with 1 Axes>"
      ]
     },
     "metadata": {},
     "output_type": "display_data"
    }
   ],
   "source": [
    "fig = plt.figure()\n",
    "fig.set_size_inches(16, 10)\n",
    "\n",
    "plt.plot(train_losses)\n",
    "plt.plot(test_losses)\n",
    "\n",
    "plt.legend(['Ошибка на трейне', 'Ошибка на тесте'])\n",
    "plt.show()"
   ]
  },
  {
   "cell_type": "markdown",
   "id": "13ffda84",
   "metadata": {},
   "source": [
    "### RandomForest"
   ]
  },
  {
   "cell_type": "code",
   "execution_count": 23,
   "id": "33427b59",
   "metadata": {},
   "outputs": [
    {
     "name": "stderr",
     "output_type": "stream",
     "text": [
      "[Parallel(n_jobs=1)]: Using backend SequentialBackend with 1 concurrent workers.\n",
      "[Parallel(n_jobs=1)]: Done 100 out of 100 | elapsed:   53.5s finished\n"
     ]
    },
    {
     "data": {
      "text/html": [
       "<style>#sk-container-id-5 {color: black;background-color: white;}#sk-container-id-5 pre{padding: 0;}#sk-container-id-5 div.sk-toggleable {background-color: white;}#sk-container-id-5 label.sk-toggleable__label {cursor: pointer;display: block;width: 100%;margin-bottom: 0;padding: 0.3em;box-sizing: border-box;text-align: center;}#sk-container-id-5 label.sk-toggleable__label-arrow:before {content: \"▸\";float: left;margin-right: 0.25em;color: #696969;}#sk-container-id-5 label.sk-toggleable__label-arrow:hover:before {color: black;}#sk-container-id-5 div.sk-estimator:hover label.sk-toggleable__label-arrow:before {color: black;}#sk-container-id-5 div.sk-toggleable__content {max-height: 0;max-width: 0;overflow: hidden;text-align: left;background-color: #f0f8ff;}#sk-container-id-5 div.sk-toggleable__content pre {margin: 0.2em;color: black;border-radius: 0.25em;background-color: #f0f8ff;}#sk-container-id-5 input.sk-toggleable__control:checked~div.sk-toggleable__content {max-height: 200px;max-width: 100%;overflow: auto;}#sk-container-id-5 input.sk-toggleable__control:checked~label.sk-toggleable__label-arrow:before {content: \"▾\";}#sk-container-id-5 div.sk-estimator input.sk-toggleable__control:checked~label.sk-toggleable__label {background-color: #d4ebff;}#sk-container-id-5 div.sk-label input.sk-toggleable__control:checked~label.sk-toggleable__label {background-color: #d4ebff;}#sk-container-id-5 input.sk-hidden--visually {border: 0;clip: rect(1px 1px 1px 1px);clip: rect(1px, 1px, 1px, 1px);height: 1px;margin: -1px;overflow: hidden;padding: 0;position: absolute;width: 1px;}#sk-container-id-5 div.sk-estimator {font-family: monospace;background-color: #f0f8ff;border: 1px dotted black;border-radius: 0.25em;box-sizing: border-box;margin-bottom: 0.5em;}#sk-container-id-5 div.sk-estimator:hover {background-color: #d4ebff;}#sk-container-id-5 div.sk-parallel-item::after {content: \"\";width: 100%;border-bottom: 1px solid gray;flex-grow: 1;}#sk-container-id-5 div.sk-label:hover label.sk-toggleable__label {background-color: #d4ebff;}#sk-container-id-5 div.sk-serial::before {content: \"\";position: absolute;border-left: 1px solid gray;box-sizing: border-box;top: 0;bottom: 0;left: 50%;z-index: 0;}#sk-container-id-5 div.sk-serial {display: flex;flex-direction: column;align-items: center;background-color: white;padding-right: 0.2em;padding-left: 0.2em;position: relative;}#sk-container-id-5 div.sk-item {position: relative;z-index: 1;}#sk-container-id-5 div.sk-parallel {display: flex;align-items: stretch;justify-content: center;background-color: white;position: relative;}#sk-container-id-5 div.sk-item::before, #sk-container-id-5 div.sk-parallel-item::before {content: \"\";position: absolute;border-left: 1px solid gray;box-sizing: border-box;top: 0;bottom: 0;left: 50%;z-index: -1;}#sk-container-id-5 div.sk-parallel-item {display: flex;flex-direction: column;z-index: 1;position: relative;background-color: white;}#sk-container-id-5 div.sk-parallel-item:first-child::after {align-self: flex-end;width: 50%;}#sk-container-id-5 div.sk-parallel-item:last-child::after {align-self: flex-start;width: 50%;}#sk-container-id-5 div.sk-parallel-item:only-child::after {width: 0;}#sk-container-id-5 div.sk-dashed-wrapped {border: 1px dashed gray;margin: 0 0.4em 0.5em 0.4em;box-sizing: border-box;padding-bottom: 0.4em;background-color: white;}#sk-container-id-5 div.sk-label label {font-family: monospace;font-weight: bold;display: inline-block;line-height: 1.2em;}#sk-container-id-5 div.sk-label-container {text-align: center;}#sk-container-id-5 div.sk-container {/* jupyter's `normalize.less` sets `[hidden] { display: none; }` but bootstrap.min.css set `[hidden] { display: none !important; }` so we also need the `!important` here to be able to override the default hidden behavior on the sphinx rendered scikit-learn.org. See: https://github.com/scikit-learn/scikit-learn/issues/21755 */display: inline-block !important;position: relative;}#sk-container-id-5 div.sk-text-repr-fallback {display: none;}</style><div id=\"sk-container-id-5\" class=\"sk-top-container\"><div class=\"sk-text-repr-fallback\"><pre>Pipeline(steps=[(&#x27;column_transformer&#x27;,\n",
       "                 ColumnTransformer(transformers=[(&#x27;OneHotEncoder&#x27;,\n",
       "                                                  OneHotEncoder(),\n",
       "                                                  [2, 11, 13]),\n",
       "                                                 (&#x27;MeanTargetEncoder&#x27;,\n",
       "                                                  TargetEncoder(),\n",
       "                                                  [0, 1, 3, 5, 6, 7, 8, 9, 10,\n",
       "                                                   12, 14, 15, 16]),\n",
       "                                                 (&#x27;StandardScaler&#x27;,\n",
       "                                                  StandardScaler(), [4])])),\n",
       "                (&#x27;decision_tree&#x27;,\n",
       "                 RandomForestRegressor(max_depth=10, verbose=1))])</pre><b>In a Jupyter environment, please rerun this cell to show the HTML representation or trust the notebook. <br />On GitHub, the HTML representation is unable to render, please try loading this page with nbviewer.org.</b></div><div class=\"sk-container\" hidden><div class=\"sk-item sk-dashed-wrapped\"><div class=\"sk-label-container\"><div class=\"sk-label sk-toggleable\"><input class=\"sk-toggleable__control sk-hidden--visually\" id=\"sk-estimator-id-53\" type=\"checkbox\" ><label for=\"sk-estimator-id-53\" class=\"sk-toggleable__label sk-toggleable__label-arrow\">Pipeline</label><div class=\"sk-toggleable__content\"><pre>Pipeline(steps=[(&#x27;column_transformer&#x27;,\n",
       "                 ColumnTransformer(transformers=[(&#x27;OneHotEncoder&#x27;,\n",
       "                                                  OneHotEncoder(),\n",
       "                                                  [2, 11, 13]),\n",
       "                                                 (&#x27;MeanTargetEncoder&#x27;,\n",
       "                                                  TargetEncoder(),\n",
       "                                                  [0, 1, 3, 5, 6, 7, 8, 9, 10,\n",
       "                                                   12, 14, 15, 16]),\n",
       "                                                 (&#x27;StandardScaler&#x27;,\n",
       "                                                  StandardScaler(), [4])])),\n",
       "                (&#x27;decision_tree&#x27;,\n",
       "                 RandomForestRegressor(max_depth=10, verbose=1))])</pre></div></div></div><div class=\"sk-serial\"><div class=\"sk-item sk-dashed-wrapped\"><div class=\"sk-label-container\"><div class=\"sk-label sk-toggleable\"><input class=\"sk-toggleable__control sk-hidden--visually\" id=\"sk-estimator-id-54\" type=\"checkbox\" ><label for=\"sk-estimator-id-54\" class=\"sk-toggleable__label sk-toggleable__label-arrow\">column_transformer: ColumnTransformer</label><div class=\"sk-toggleable__content\"><pre>ColumnTransformer(transformers=[(&#x27;OneHotEncoder&#x27;, OneHotEncoder(), [2, 11, 13]),\n",
       "                                (&#x27;MeanTargetEncoder&#x27;, TargetEncoder(),\n",
       "                                 [0, 1, 3, 5, 6, 7, 8, 9, 10, 12, 14, 15, 16]),\n",
       "                                (&#x27;StandardScaler&#x27;, StandardScaler(), [4])])</pre></div></div></div><div class=\"sk-parallel\"><div class=\"sk-parallel-item\"><div class=\"sk-item\"><div class=\"sk-label-container\"><div class=\"sk-label sk-toggleable\"><input class=\"sk-toggleable__control sk-hidden--visually\" id=\"sk-estimator-id-55\" type=\"checkbox\" ><label for=\"sk-estimator-id-55\" class=\"sk-toggleable__label sk-toggleable__label-arrow\">OneHotEncoder</label><div class=\"sk-toggleable__content\"><pre>[2, 11, 13]</pre></div></div></div><div class=\"sk-serial\"><div class=\"sk-item\"><div class=\"sk-estimator sk-toggleable\"><input class=\"sk-toggleable__control sk-hidden--visually\" id=\"sk-estimator-id-56\" type=\"checkbox\" ><label for=\"sk-estimator-id-56\" class=\"sk-toggleable__label sk-toggleable__label-arrow\">OneHotEncoder</label><div class=\"sk-toggleable__content\"><pre>OneHotEncoder()</pre></div></div></div></div></div></div><div class=\"sk-parallel-item\"><div class=\"sk-item\"><div class=\"sk-label-container\"><div class=\"sk-label sk-toggleable\"><input class=\"sk-toggleable__control sk-hidden--visually\" id=\"sk-estimator-id-57\" type=\"checkbox\" ><label for=\"sk-estimator-id-57\" class=\"sk-toggleable__label sk-toggleable__label-arrow\">MeanTargetEncoder</label><div class=\"sk-toggleable__content\"><pre>[0, 1, 3, 5, 6, 7, 8, 9, 10, 12, 14, 15, 16]</pre></div></div></div><div class=\"sk-serial\"><div class=\"sk-item\"><div class=\"sk-estimator sk-toggleable\"><input class=\"sk-toggleable__control sk-hidden--visually\" id=\"sk-estimator-id-58\" type=\"checkbox\" ><label for=\"sk-estimator-id-58\" class=\"sk-toggleable__label sk-toggleable__label-arrow\">TargetEncoder</label><div class=\"sk-toggleable__content\"><pre>TargetEncoder()</pre></div></div></div></div></div></div><div class=\"sk-parallel-item\"><div class=\"sk-item\"><div class=\"sk-label-container\"><div class=\"sk-label sk-toggleable\"><input class=\"sk-toggleable__control sk-hidden--visually\" id=\"sk-estimator-id-59\" type=\"checkbox\" ><label for=\"sk-estimator-id-59\" class=\"sk-toggleable__label sk-toggleable__label-arrow\">StandardScaler</label><div class=\"sk-toggleable__content\"><pre>[4]</pre></div></div></div><div class=\"sk-serial\"><div class=\"sk-item\"><div class=\"sk-estimator sk-toggleable\"><input class=\"sk-toggleable__control sk-hidden--visually\" id=\"sk-estimator-id-60\" type=\"checkbox\" ><label for=\"sk-estimator-id-60\" class=\"sk-toggleable__label sk-toggleable__label-arrow\">StandardScaler</label><div class=\"sk-toggleable__content\"><pre>StandardScaler()</pre></div></div></div></div></div></div></div></div><div class=\"sk-item\"><div class=\"sk-estimator sk-toggleable\"><input class=\"sk-toggleable__control sk-hidden--visually\" id=\"sk-estimator-id-61\" type=\"checkbox\" ><label for=\"sk-estimator-id-61\" class=\"sk-toggleable__label sk-toggleable__label-arrow\">RandomForestRegressor</label><div class=\"sk-toggleable__content\"><pre>RandomForestRegressor(max_depth=10, verbose=1)</pre></div></div></div></div></div></div></div>"
      ],
      "text/plain": [
       "Pipeline(steps=[('column_transformer',\n",
       "                 ColumnTransformer(transformers=[('OneHotEncoder',\n",
       "                                                  OneHotEncoder(),\n",
       "                                                  [2, 11, 13]),\n",
       "                                                 ('MeanTargetEncoder',\n",
       "                                                  TargetEncoder(),\n",
       "                                                  [0, 1, 3, 5, 6, 7, 8, 9, 10,\n",
       "                                                   12, 14, 15, 16]),\n",
       "                                                 ('StandardScaler',\n",
       "                                                  StandardScaler(), [4])])),\n",
       "                ('decision_tree',\n",
       "                 RandomForestRegressor(max_depth=10, verbose=1))])"
      ]
     },
     "execution_count": 23,
     "metadata": {},
     "output_type": "execute_result"
    }
   ],
   "source": [
    "from sklearn.ensemble import RandomForestRegressor\n",
    "\n",
    "RandomForest_pipe = Pipeline([(\"column_transformer\",\n",
    "                               col_transform),\n",
    "                  \n",
    "                              (\"decision_tree\", \n",
    "                               RandomForestRegressor(max_depth=10,\n",
    "                                                     verbose=1))])\n",
    "\n",
    "RandomForest_pipe.fit(X_train, y_train)"
   ]
  },
  {
   "cell_type": "code",
   "execution_count": 24,
   "id": "c5b09da3",
   "metadata": {},
   "outputs": [
    {
     "name": "stderr",
     "output_type": "stream",
     "text": [
      "[Parallel(n_jobs=1)]: Using backend SequentialBackend with 1 concurrent workers.\n",
      "[Parallel(n_jobs=1)]: Done 100 out of 100 | elapsed:    1.4s finished\n",
      "[Parallel(n_jobs=1)]: Using backend SequentialBackend with 1 concurrent workers.\n"
     ]
    },
    {
     "name": "stdout",
     "output_type": "stream",
     "text": [
      "Качество на трейне: 0.401\n",
      "Качество на тесте: 0.458\n"
     ]
    },
    {
     "name": "stderr",
     "output_type": "stream",
     "text": [
      "[Parallel(n_jobs=1)]: Done 100 out of 100 | elapsed:    0.1s finished\n"
     ]
    }
   ],
   "source": [
    "### Замерим качество работы такой модели\n",
    "### Возьмем MSLE\n",
    "\n",
    "train_preds = RandomForest_pipe.predict(X_train)\n",
    "test_preds = RandomForest_pipe.predict(X_test)\n",
    "\n",
    "train_error = np.mean((train_preds - y_train)**2)\n",
    "test_error = np.mean((test_preds - y_test)**2)\n",
    "\n",
    "\n",
    "print(f\"Качество на трейне: {train_error.round(3)}\")\n",
    "print(f\"Качество на тесте: {test_error.round(3)}\")"
   ]
  },
  {
   "cell_type": "code",
   "execution_count": 25,
   "id": "a5d9ec31",
   "metadata": {},
   "outputs": [
    {
     "name": "stdout",
     "output_type": "stream",
     "text": [
      "Fitting 3 folds for each of 12 candidates, totalling 36 fits\n",
      "[CV 1/3; 1/12] START decision_tree__max_depth=10, decision_tree__n_estimators=50\n"
     ]
    },
    {
     "name": "stderr",
     "output_type": "stream",
     "text": [
      "[Parallel(n_jobs=1)]: Using backend SequentialBackend with 1 concurrent workers.\n",
      "[Parallel(n_jobs=1)]: Done  50 out of  50 | elapsed:    6.1s finished\n",
      "[Parallel(n_jobs=1)]: Using backend SequentialBackend with 1 concurrent workers.\n",
      "[Parallel(n_jobs=1)]: Done  50 out of  50 | elapsed:    0.2s finished\n"
     ]
    },
    {
     "name": "stdout",
     "output_type": "stream",
     "text": [
      "[CV 1/3; 1/12] END decision_tree__max_depth=10, decision_tree__n_estimators=50;, score=-0.479 total time=   7.5s\n",
      "[CV 2/3; 1/12] START decision_tree__max_depth=10, decision_tree__n_estimators=50\n"
     ]
    },
    {
     "name": "stderr",
     "output_type": "stream",
     "text": [
      "[Parallel(n_jobs=1)]: Using backend SequentialBackend with 1 concurrent workers.\n",
      "[Parallel(n_jobs=1)]: Done  50 out of  50 | elapsed:   12.4s finished\n",
      "[Parallel(n_jobs=1)]: Using backend SequentialBackend with 1 concurrent workers.\n",
      "[Parallel(n_jobs=1)]: Done  50 out of  50 | elapsed:    0.2s finished\n"
     ]
    },
    {
     "name": "stdout",
     "output_type": "stream",
     "text": [
      "[CV 2/3; 1/12] END decision_tree__max_depth=10, decision_tree__n_estimators=50;, score=-0.457 total time=  14.8s\n",
      "[CV 3/3; 1/12] START decision_tree__max_depth=10, decision_tree__n_estimators=50\n"
     ]
    },
    {
     "name": "stderr",
     "output_type": "stream",
     "text": [
      "[Parallel(n_jobs=1)]: Using backend SequentialBackend with 1 concurrent workers.\n",
      "[Parallel(n_jobs=1)]: Done  50 out of  50 | elapsed:   19.4s finished\n",
      "[Parallel(n_jobs=1)]: Using backend SequentialBackend with 1 concurrent workers.\n",
      "[Parallel(n_jobs=1)]: Done  50 out of  50 | elapsed:    0.2s finished\n"
     ]
    },
    {
     "name": "stdout",
     "output_type": "stream",
     "text": [
      "[CV 3/3; 1/12] END decision_tree__max_depth=10, decision_tree__n_estimators=50;, score=-0.449 total time=  22.7s\n",
      "[CV 1/3; 2/12] START decision_tree__max_depth=10, decision_tree__n_estimators=225\n"
     ]
    },
    {
     "name": "stderr",
     "output_type": "stream",
     "text": [
      "[Parallel(n_jobs=1)]: Using backend SequentialBackend with 1 concurrent workers.\n",
      "[Parallel(n_jobs=1)]: Done 225 out of 225 | elapsed:   27.8s finished\n",
      "[Parallel(n_jobs=1)]: Using backend SequentialBackend with 1 concurrent workers.\n",
      "[Parallel(n_jobs=1)]: Done 225 out of 225 | elapsed:    0.8s finished\n"
     ]
    },
    {
     "name": "stdout",
     "output_type": "stream",
     "text": [
      "[CV 1/3; 2/12] END decision_tree__max_depth=10, decision_tree__n_estimators=225;, score=-0.478 total time=  30.0s\n",
      "[CV 2/3; 2/12] START decision_tree__max_depth=10, decision_tree__n_estimators=225\n"
     ]
    },
    {
     "name": "stderr",
     "output_type": "stream",
     "text": [
      "[Parallel(n_jobs=1)]: Using backend SequentialBackend with 1 concurrent workers.\n",
      "[Parallel(n_jobs=1)]: Done 225 out of 225 | elapsed:   57.6s finished\n",
      "[Parallel(n_jobs=1)]: Using backend SequentialBackend with 1 concurrent workers.\n",
      "[Parallel(n_jobs=1)]: Done 225 out of 225 | elapsed:    0.9s finished\n"
     ]
    },
    {
     "name": "stdout",
     "output_type": "stream",
     "text": [
      "[CV 2/3; 2/12] END decision_tree__max_depth=10, decision_tree__n_estimators=225;, score=-0.456 total time= 1.0min\n",
      "[CV 3/3; 2/12] START decision_tree__max_depth=10, decision_tree__n_estimators=225\n"
     ]
    },
    {
     "name": "stderr",
     "output_type": "stream",
     "text": [
      "[Parallel(n_jobs=1)]: Using backend SequentialBackend with 1 concurrent workers.\n",
      "[Parallel(n_jobs=1)]: Done 225 out of 225 | elapsed:  1.4min finished\n",
      "[Parallel(n_jobs=1)]: Using backend SequentialBackend with 1 concurrent workers.\n",
      "[Parallel(n_jobs=1)]: Done 225 out of 225 | elapsed:    0.9s finished\n"
     ]
    },
    {
     "name": "stdout",
     "output_type": "stream",
     "text": [
      "[CV 3/3; 2/12] END decision_tree__max_depth=10, decision_tree__n_estimators=225;, score=-0.449 total time= 1.5min\n",
      "[CV 1/3; 3/12] START decision_tree__max_depth=10, decision_tree__n_estimators=400\n"
     ]
    },
    {
     "name": "stderr",
     "output_type": "stream",
     "text": [
      "[Parallel(n_jobs=1)]: Using backend SequentialBackend with 1 concurrent workers.\n",
      "[Parallel(n_jobs=1)]: Done 400 out of 400 | elapsed:   48.5s finished\n",
      "[Parallel(n_jobs=1)]: Using backend SequentialBackend with 1 concurrent workers.\n",
      "[Parallel(n_jobs=1)]: Done 400 out of 400 | elapsed:    1.5s finished\n"
     ]
    },
    {
     "name": "stdout",
     "output_type": "stream",
     "text": [
      "[CV 1/3; 3/12] END decision_tree__max_depth=10, decision_tree__n_estimators=400;, score=-0.477 total time=  51.4s\n",
      "[CV 2/3; 3/12] START decision_tree__max_depth=10, decision_tree__n_estimators=400\n"
     ]
    },
    {
     "name": "stderr",
     "output_type": "stream",
     "text": [
      "[Parallel(n_jobs=1)]: Using backend SequentialBackend with 1 concurrent workers.\n",
      "[Parallel(n_jobs=1)]: Done 400 out of 400 | elapsed:  1.7min finished\n",
      "[Parallel(n_jobs=1)]: Using backend SequentialBackend with 1 concurrent workers.\n",
      "[Parallel(n_jobs=1)]: Done 400 out of 400 | elapsed:    1.5s finished\n"
     ]
    },
    {
     "name": "stdout",
     "output_type": "stream",
     "text": [
      "[CV 2/3; 3/12] END decision_tree__max_depth=10, decision_tree__n_estimators=400;, score=-0.456 total time= 1.7min\n",
      "[CV 3/3; 3/12] START decision_tree__max_depth=10, decision_tree__n_estimators=400\n"
     ]
    },
    {
     "name": "stderr",
     "output_type": "stream",
     "text": [
      "[Parallel(n_jobs=1)]: Using backend SequentialBackend with 1 concurrent workers.\n",
      "[Parallel(n_jobs=1)]: Done 400 out of 400 | elapsed:  2.4min finished\n",
      "[Parallel(n_jobs=1)]: Using backend SequentialBackend with 1 concurrent workers.\n",
      "[Parallel(n_jobs=1)]: Done 400 out of 400 | elapsed:    1.5s finished\n"
     ]
    },
    {
     "name": "stdout",
     "output_type": "stream",
     "text": [
      "[CV 3/3; 3/12] END decision_tree__max_depth=10, decision_tree__n_estimators=400;, score=-0.449 total time= 2.5min\n",
      "[CV 1/3; 4/12] START decision_tree__max_depth=23, decision_tree__n_estimators=50\n"
     ]
    },
    {
     "name": "stderr",
     "output_type": "stream",
     "text": [
      "[Parallel(n_jobs=1)]: Using backend SequentialBackend with 1 concurrent workers.\n",
      "[Parallel(n_jobs=1)]: Done  50 out of  50 | elapsed:   11.8s finished\n",
      "[Parallel(n_jobs=1)]: Using backend SequentialBackend with 1 concurrent workers.\n",
      "[Parallel(n_jobs=1)]: Done  50 out of  50 | elapsed:    0.5s finished\n"
     ]
    },
    {
     "name": "stdout",
     "output_type": "stream",
     "text": [
      "[CV 1/3; 4/12] END decision_tree__max_depth=23, decision_tree__n_estimators=50;, score=-0.484 total time=  13.5s\n",
      "[CV 2/3; 4/12] START decision_tree__max_depth=23, decision_tree__n_estimators=50\n"
     ]
    },
    {
     "name": "stderr",
     "output_type": "stream",
     "text": [
      "[Parallel(n_jobs=1)]: Using backend SequentialBackend with 1 concurrent workers.\n",
      "[Parallel(n_jobs=1)]: Done  50 out of  50 | elapsed:   24.8s finished\n",
      "[Parallel(n_jobs=1)]: Using backend SequentialBackend with 1 concurrent workers.\n",
      "[Parallel(n_jobs=1)]: Done  50 out of  50 | elapsed:    0.6s finished\n"
     ]
    },
    {
     "name": "stdout",
     "output_type": "stream",
     "text": [
      "[CV 2/3; 4/12] END decision_tree__max_depth=23, decision_tree__n_estimators=50;, score=-0.452 total time=  27.5s\n",
      "[CV 3/3; 4/12] START decision_tree__max_depth=23, decision_tree__n_estimators=50\n"
     ]
    },
    {
     "name": "stderr",
     "output_type": "stream",
     "text": [
      "[Parallel(n_jobs=1)]: Using backend SequentialBackend with 1 concurrent workers.\n",
      "[Parallel(n_jobs=1)]: Done  50 out of  50 | elapsed:   38.9s finished\n",
      "[Parallel(n_jobs=1)]: Using backend SequentialBackend with 1 concurrent workers.\n",
      "[Parallel(n_jobs=1)]: Done  50 out of  50 | elapsed:    0.7s finished\n"
     ]
    },
    {
     "name": "stdout",
     "output_type": "stream",
     "text": [
      "[CV 3/3; 4/12] END decision_tree__max_depth=23, decision_tree__n_estimators=50;, score=-0.439 total time=  42.6s\n",
      "[CV 1/3; 5/12] START decision_tree__max_depth=23, decision_tree__n_estimators=225\n"
     ]
    },
    {
     "name": "stderr",
     "output_type": "stream",
     "text": [
      "[Parallel(n_jobs=1)]: Using backend SequentialBackend with 1 concurrent workers.\n",
      "[Parallel(n_jobs=1)]: Done 225 out of 225 | elapsed:   53.5s finished\n",
      "[Parallel(n_jobs=1)]: Using backend SequentialBackend with 1 concurrent workers.\n",
      "[Parallel(n_jobs=1)]: Done 225 out of 225 | elapsed:    2.3s finished\n"
     ]
    },
    {
     "name": "stdout",
     "output_type": "stream",
     "text": [
      "[CV 1/3; 5/12] END decision_tree__max_depth=23, decision_tree__n_estimators=225;, score=-0.478 total time=  57.1s\n",
      "[CV 2/3; 5/12] START decision_tree__max_depth=23, decision_tree__n_estimators=225\n"
     ]
    },
    {
     "name": "stderr",
     "output_type": "stream",
     "text": [
      "[Parallel(n_jobs=1)]: Using backend SequentialBackend with 1 concurrent workers.\n",
      "[Parallel(n_jobs=1)]: Done 225 out of 225 | elapsed:  1.9min finished\n",
      "[Parallel(n_jobs=1)]: Using backend SequentialBackend with 1 concurrent workers.\n",
      "[Parallel(n_jobs=1)]: Done 225 out of 225 | elapsed:    3.0s finished\n"
     ]
    },
    {
     "name": "stdout",
     "output_type": "stream",
     "text": [
      "[CV 2/3; 5/12] END decision_tree__max_depth=23, decision_tree__n_estimators=225;, score=-0.447 total time= 1.9min\n",
      "[CV 3/3; 5/12] START decision_tree__max_depth=23, decision_tree__n_estimators=225\n"
     ]
    },
    {
     "name": "stderr",
     "output_type": "stream",
     "text": [
      "[Parallel(n_jobs=1)]: Using backend SequentialBackend with 1 concurrent workers.\n",
      "[Parallel(n_jobs=1)]: Done 225 out of 225 | elapsed:  2.8min finished\n",
      "[Parallel(n_jobs=1)]: Using backend SequentialBackend with 1 concurrent workers.\n",
      "[Parallel(n_jobs=1)]: Done 225 out of 225 | elapsed:    3.0s finished\n"
     ]
    },
    {
     "name": "stdout",
     "output_type": "stream",
     "text": [
      "[CV 3/3; 5/12] END decision_tree__max_depth=23, decision_tree__n_estimators=225;, score=-0.434 total time= 2.9min\n",
      "[CV 1/3; 6/12] START decision_tree__max_depth=23, decision_tree__n_estimators=400\n"
     ]
    },
    {
     "name": "stderr",
     "output_type": "stream",
     "text": [
      "[Parallel(n_jobs=1)]: Using backend SequentialBackend with 1 concurrent workers.\n",
      "[Parallel(n_jobs=1)]: Done 400 out of 400 | elapsed:  1.6min finished\n",
      "[Parallel(n_jobs=1)]: Using backend SequentialBackend with 1 concurrent workers.\n",
      "[Parallel(n_jobs=1)]: Done 400 out of 400 | elapsed:    4.1s finished\n"
     ]
    },
    {
     "name": "stdout",
     "output_type": "stream",
     "text": [
      "[CV 1/3; 6/12] END decision_tree__max_depth=23, decision_tree__n_estimators=400;, score=-0.477 total time= 1.6min\n",
      "[CV 2/3; 6/12] START decision_tree__max_depth=23, decision_tree__n_estimators=400\n"
     ]
    },
    {
     "name": "stderr",
     "output_type": "stream",
     "text": [
      "[Parallel(n_jobs=1)]: Using backend SequentialBackend with 1 concurrent workers.\n",
      "[Parallel(n_jobs=1)]: Done 400 out of 400 | elapsed:  3.2min finished\n",
      "[Parallel(n_jobs=1)]: Using backend SequentialBackend with 1 concurrent workers.\n",
      "[Parallel(n_jobs=1)]: Done 400 out of 400 | elapsed:    4.7s finished\n"
     ]
    },
    {
     "name": "stdout",
     "output_type": "stream",
     "text": [
      "[CV 2/3; 6/12] END decision_tree__max_depth=23, decision_tree__n_estimators=400;, score=-0.446 total time= 3.3min\n",
      "[CV 3/3; 6/12] START decision_tree__max_depth=23, decision_tree__n_estimators=400\n"
     ]
    },
    {
     "name": "stderr",
     "output_type": "stream",
     "text": [
      "[Parallel(n_jobs=1)]: Using backend SequentialBackend with 1 concurrent workers.\n",
      "[Parallel(n_jobs=1)]: Done 400 out of 400 | elapsed:  4.9min finished\n",
      "[Parallel(n_jobs=1)]: Using backend SequentialBackend with 1 concurrent workers.\n",
      "[Parallel(n_jobs=1)]: Done 400 out of 400 | elapsed:    5.2s finished\n"
     ]
    },
    {
     "name": "stdout",
     "output_type": "stream",
     "text": [
      "[CV 3/3; 6/12] END decision_tree__max_depth=23, decision_tree__n_estimators=400;, score=-0.433 total time= 5.0min\n",
      "[CV 1/3; 7/12] START decision_tree__max_depth=37, decision_tree__n_estimators=50\n"
     ]
    },
    {
     "name": "stderr",
     "output_type": "stream",
     "text": [
      "[Parallel(n_jobs=1)]: Using backend SequentialBackend with 1 concurrent workers.\n",
      "[Parallel(n_jobs=1)]: Done  50 out of  50 | elapsed:   12.1s finished\n",
      "[Parallel(n_jobs=1)]: Using backend SequentialBackend with 1 concurrent workers.\n",
      "[Parallel(n_jobs=1)]: Done  50 out of  50 | elapsed:    0.5s finished\n"
     ]
    },
    {
     "name": "stdout",
     "output_type": "stream",
     "text": [
      "[CV 1/3; 7/12] END decision_tree__max_depth=37, decision_tree__n_estimators=50;, score=-0.487 total time=  13.9s\n",
      "[CV 2/3; 7/12] START decision_tree__max_depth=37, decision_tree__n_estimators=50\n"
     ]
    },
    {
     "name": "stderr",
     "output_type": "stream",
     "text": [
      "[Parallel(n_jobs=1)]: Using backend SequentialBackend with 1 concurrent workers.\n",
      "[Parallel(n_jobs=1)]: Done  50 out of  50 | elapsed:   26.2s finished\n",
      "[Parallel(n_jobs=1)]: Using backend SequentialBackend with 1 concurrent workers.\n",
      "[Parallel(n_jobs=1)]: Done  50 out of  50 | elapsed:    0.7s finished\n"
     ]
    },
    {
     "name": "stdout",
     "output_type": "stream",
     "text": [
      "[CV 2/3; 7/12] END decision_tree__max_depth=37, decision_tree__n_estimators=50;, score=-0.455 total time=  28.9s\n",
      "[CV 3/3; 7/12] START decision_tree__max_depth=37, decision_tree__n_estimators=50\n"
     ]
    },
    {
     "name": "stderr",
     "output_type": "stream",
     "text": [
      "[Parallel(n_jobs=1)]: Using backend SequentialBackend with 1 concurrent workers.\n",
      "[Parallel(n_jobs=1)]: Done  50 out of  50 | elapsed:   41.1s finished\n",
      "[Parallel(n_jobs=1)]: Using backend SequentialBackend with 1 concurrent workers.\n",
      "[Parallel(n_jobs=1)]: Done  50 out of  50 | elapsed:    1.0s finished\n"
     ]
    },
    {
     "name": "stdout",
     "output_type": "stream",
     "text": [
      "[CV 3/3; 7/12] END decision_tree__max_depth=37, decision_tree__n_estimators=50;, score=-0.444 total time=  45.0s\n",
      "[CV 1/3; 8/12] START decision_tree__max_depth=37, decision_tree__n_estimators=225\n"
     ]
    },
    {
     "name": "stderr",
     "output_type": "stream",
     "text": [
      "[Parallel(n_jobs=1)]: Using backend SequentialBackend with 1 concurrent workers.\n",
      "[Parallel(n_jobs=1)]: Done 225 out of 225 | elapsed:   56.6s finished\n",
      "[Parallel(n_jobs=1)]: Using backend SequentialBackend with 1 concurrent workers.\n",
      "[Parallel(n_jobs=1)]: Done 225 out of 225 | elapsed:    2.4s finished\n"
     ]
    },
    {
     "name": "stdout",
     "output_type": "stream",
     "text": [
      "[CV 1/3; 8/12] END decision_tree__max_depth=37, decision_tree__n_estimators=225;, score=-0.479 total time= 1.0min\n",
      "[CV 2/3; 8/12] START decision_tree__max_depth=37, decision_tree__n_estimators=225\n"
     ]
    },
    {
     "name": "stderr",
     "output_type": "stream",
     "text": [
      "[Parallel(n_jobs=1)]: Using backend SequentialBackend with 1 concurrent workers.\n",
      "[Parallel(n_jobs=1)]: Done 225 out of 225 | elapsed:  2.0min finished\n",
      "[Parallel(n_jobs=1)]: Using backend SequentialBackend with 1 concurrent workers.\n",
      "[Parallel(n_jobs=1)]: Done 225 out of 225 | elapsed:    3.1s finished\n"
     ]
    },
    {
     "name": "stdout",
     "output_type": "stream",
     "text": [
      "[CV 2/3; 8/12] END decision_tree__max_depth=37, decision_tree__n_estimators=225;, score=-0.449 total time= 2.0min\n",
      "[CV 3/3; 8/12] START decision_tree__max_depth=37, decision_tree__n_estimators=225\n"
     ]
    },
    {
     "name": "stderr",
     "output_type": "stream",
     "text": [
      "[Parallel(n_jobs=1)]: Using backend SequentialBackend with 1 concurrent workers.\n",
      "[Parallel(n_jobs=1)]: Done 225 out of 225 | elapsed:  3.1min finished\n",
      "[Parallel(n_jobs=1)]: Using backend SequentialBackend with 1 concurrent workers.\n",
      "[Parallel(n_jobs=1)]: Done 225 out of 225 | elapsed:    3.8s finished\n"
     ]
    },
    {
     "name": "stdout",
     "output_type": "stream",
     "text": [
      "[CV 3/3; 8/12] END decision_tree__max_depth=37, decision_tree__n_estimators=225;, score=-0.436 total time= 3.2min\n",
      "[CV 1/3; 9/12] START decision_tree__max_depth=37, decision_tree__n_estimators=400\n"
     ]
    },
    {
     "name": "stderr",
     "output_type": "stream",
     "text": [
      "[Parallel(n_jobs=1)]: Using backend SequentialBackend with 1 concurrent workers.\n",
      "[Parallel(n_jobs=1)]: Done 400 out of 400 | elapsed:  1.6min finished\n",
      "[Parallel(n_jobs=1)]: Using backend SequentialBackend with 1 concurrent workers.\n",
      "[Parallel(n_jobs=1)]: Done 400 out of 400 | elapsed:    4.2s finished\n"
     ]
    },
    {
     "name": "stdout",
     "output_type": "stream",
     "text": [
      "[CV 1/3; 9/12] END decision_tree__max_depth=37, decision_tree__n_estimators=400;, score=-0.478 total time= 1.7min\n",
      "[CV 2/3; 9/12] START decision_tree__max_depth=37, decision_tree__n_estimators=400\n"
     ]
    },
    {
     "name": "stderr",
     "output_type": "stream",
     "text": [
      "[Parallel(n_jobs=1)]: Using backend SequentialBackend with 1 concurrent workers.\n",
      "[Parallel(n_jobs=1)]: Done 400 out of 400 | elapsed:  3.5min finished\n",
      "[Parallel(n_jobs=1)]: Using backend SequentialBackend with 1 concurrent workers.\n",
      "[Parallel(n_jobs=1)]: Done 400 out of 400 | elapsed:    5.4s finished\n"
     ]
    },
    {
     "name": "stdout",
     "output_type": "stream",
     "text": [
      "[CV 2/3; 9/12] END decision_tree__max_depth=37, decision_tree__n_estimators=400;, score=-0.448 total time= 3.6min\n",
      "[CV 3/3; 9/12] START decision_tree__max_depth=37, decision_tree__n_estimators=400\n"
     ]
    },
    {
     "name": "stderr",
     "output_type": "stream",
     "text": [
      "[Parallel(n_jobs=1)]: Using backend SequentialBackend with 1 concurrent workers.\n",
      "[Parallel(n_jobs=1)]: Done 400 out of 400 | elapsed:  5.5min finished\n",
      "[Parallel(n_jobs=1)]: Using backend SequentialBackend with 1 concurrent workers.\n",
      "[Parallel(n_jobs=1)]: Done 400 out of 400 | elapsed:    9.8s finished\n"
     ]
    },
    {
     "name": "stdout",
     "output_type": "stream",
     "text": [
      "[CV 3/3; 9/12] END decision_tree__max_depth=37, decision_tree__n_estimators=400;, score=-0.435 total time= 5.7min\n",
      "[CV 1/3; 10/12] START decision_tree__max_depth=51, decision_tree__n_estimators=50\n"
     ]
    },
    {
     "name": "stderr",
     "output_type": "stream",
     "text": [
      "[Parallel(n_jobs=1)]: Using backend SequentialBackend with 1 concurrent workers.\n",
      "[Parallel(n_jobs=1)]: Done  50 out of  50 | elapsed:   12.2s finished\n",
      "[Parallel(n_jobs=1)]: Using backend SequentialBackend with 1 concurrent workers.\n",
      "[Parallel(n_jobs=1)]: Done  50 out of  50 | elapsed:    0.5s finished\n"
     ]
    },
    {
     "name": "stdout",
     "output_type": "stream",
     "text": [
      "[CV 1/3; 10/12] END decision_tree__max_depth=51, decision_tree__n_estimators=50;, score=-0.486 total time=  13.9s\n",
      "[CV 2/3; 10/12] START decision_tree__max_depth=51, decision_tree__n_estimators=50\n"
     ]
    },
    {
     "name": "stderr",
     "output_type": "stream",
     "text": [
      "[Parallel(n_jobs=1)]: Using backend SequentialBackend with 1 concurrent workers.\n",
      "[Parallel(n_jobs=1)]: Done  50 out of  50 | elapsed:   25.9s finished\n",
      "[Parallel(n_jobs=1)]: Using backend SequentialBackend with 1 concurrent workers.\n",
      "[Parallel(n_jobs=1)]: Done  50 out of  50 | elapsed:    0.7s finished\n"
     ]
    },
    {
     "name": "stdout",
     "output_type": "stream",
     "text": [
      "[CV 2/3; 10/12] END decision_tree__max_depth=51, decision_tree__n_estimators=50;, score=-0.457 total time=  28.6s\n",
      "[CV 3/3; 10/12] START decision_tree__max_depth=51, decision_tree__n_estimators=50\n"
     ]
    },
    {
     "name": "stderr",
     "output_type": "stream",
     "text": [
      "[Parallel(n_jobs=1)]: Using backend SequentialBackend with 1 concurrent workers.\n",
      "[Parallel(n_jobs=1)]: Done  50 out of  50 | elapsed:   40.8s finished\n",
      "[Parallel(n_jobs=1)]: Using backend SequentialBackend with 1 concurrent workers.\n",
      "[Parallel(n_jobs=1)]: Done  50 out of  50 | elapsed:    0.8s finished\n"
     ]
    },
    {
     "name": "stdout",
     "output_type": "stream",
     "text": [
      "[CV 3/3; 10/12] END decision_tree__max_depth=51, decision_tree__n_estimators=50;, score=-0.443 total time=  44.5s\n",
      "[CV 1/3; 11/12] START decision_tree__max_depth=51, decision_tree__n_estimators=225\n"
     ]
    },
    {
     "name": "stderr",
     "output_type": "stream",
     "text": [
      "[Parallel(n_jobs=1)]: Using backend SequentialBackend with 1 concurrent workers.\n",
      "[Parallel(n_jobs=1)]: Done 225 out of 225 | elapsed:   54.5s finished\n",
      "[Parallel(n_jobs=1)]: Using backend SequentialBackend with 1 concurrent workers.\n",
      "[Parallel(n_jobs=1)]: Done 225 out of 225 | elapsed:    2.4s finished\n"
     ]
    },
    {
     "name": "stdout",
     "output_type": "stream",
     "text": [
      "[CV 1/3; 11/12] END decision_tree__max_depth=51, decision_tree__n_estimators=225;, score=-0.479 total time=  58.1s\n",
      "[CV 2/3; 11/12] START decision_tree__max_depth=51, decision_tree__n_estimators=225\n"
     ]
    },
    {
     "name": "stderr",
     "output_type": "stream",
     "text": [
      "[Parallel(n_jobs=1)]: Using backend SequentialBackend with 1 concurrent workers.\n",
      "[Parallel(n_jobs=1)]: Done 225 out of 225 | elapsed:  1.9min finished\n",
      "[Parallel(n_jobs=1)]: Using backend SequentialBackend with 1 concurrent workers.\n",
      "[Parallel(n_jobs=1)]: Done 225 out of 225 | elapsed:    3.0s finished\n"
     ]
    },
    {
     "name": "stdout",
     "output_type": "stream",
     "text": [
      "[CV 2/3; 11/12] END decision_tree__max_depth=51, decision_tree__n_estimators=225;, score=-0.448 total time= 2.0min\n",
      "[CV 3/3; 11/12] START decision_tree__max_depth=51, decision_tree__n_estimators=225\n"
     ]
    },
    {
     "name": "stderr",
     "output_type": "stream",
     "text": [
      "[Parallel(n_jobs=1)]: Using backend SequentialBackend with 1 concurrent workers.\n",
      "[Parallel(n_jobs=1)]: Done 225 out of 225 | elapsed:  3.0min finished\n",
      "[Parallel(n_jobs=1)]: Using backend SequentialBackend with 1 concurrent workers.\n",
      "[Parallel(n_jobs=1)]: Done 225 out of 225 | elapsed:    4.0s finished\n"
     ]
    },
    {
     "name": "stdout",
     "output_type": "stream",
     "text": [
      "[CV 3/3; 11/12] END decision_tree__max_depth=51, decision_tree__n_estimators=225;, score=-0.436 total time= 3.2min\n",
      "[CV 1/3; 12/12] START decision_tree__max_depth=51, decision_tree__n_estimators=400\n"
     ]
    },
    {
     "name": "stderr",
     "output_type": "stream",
     "text": [
      "[Parallel(n_jobs=1)]: Using backend SequentialBackend with 1 concurrent workers.\n",
      "[Parallel(n_jobs=1)]: Done 400 out of 400 | elapsed:  1.6min finished\n",
      "[Parallel(n_jobs=1)]: Using backend SequentialBackend with 1 concurrent workers.\n",
      "[Parallel(n_jobs=1)]: Done 400 out of 400 | elapsed:    4.2s finished\n"
     ]
    },
    {
     "name": "stdout",
     "output_type": "stream",
     "text": [
      "[CV 1/3; 12/12] END decision_tree__max_depth=51, decision_tree__n_estimators=400;, score=-0.478 total time= 1.7min\n",
      "[CV 2/3; 12/12] START decision_tree__max_depth=51, decision_tree__n_estimators=400\n"
     ]
    },
    {
     "name": "stderr",
     "output_type": "stream",
     "text": [
      "[Parallel(n_jobs=1)]: Using backend SequentialBackend with 1 concurrent workers.\n",
      "[Parallel(n_jobs=1)]: Done 400 out of 400 | elapsed:  3.5min finished\n",
      "[Parallel(n_jobs=1)]: Using backend SequentialBackend with 1 concurrent workers.\n",
      "[Parallel(n_jobs=1)]: Done 400 out of 400 | elapsed:    5.4s finished\n"
     ]
    },
    {
     "name": "stdout",
     "output_type": "stream",
     "text": [
      "[CV 2/3; 12/12] END decision_tree__max_depth=51, decision_tree__n_estimators=400;, score=-0.448 total time= 3.6min\n",
      "[CV 3/3; 12/12] START decision_tree__max_depth=51, decision_tree__n_estimators=400\n"
     ]
    },
    {
     "name": "stderr",
     "output_type": "stream",
     "text": [
      "[Parallel(n_jobs=1)]: Using backend SequentialBackend with 1 concurrent workers.\n",
      "[Parallel(n_jobs=1)]: Done 400 out of 400 | elapsed:  5.4min finished\n",
      "[Parallel(n_jobs=1)]: Using backend SequentialBackend with 1 concurrent workers.\n",
      "[Parallel(n_jobs=1)]: Done 400 out of 400 | elapsed:    7.3s finished\n"
     ]
    },
    {
     "name": "stdout",
     "output_type": "stream",
     "text": [
      "[CV 3/3; 12/12] END decision_tree__max_depth=51, decision_tree__n_estimators=400;, score=-0.435 total time= 5.6min\n"
     ]
    },
    {
     "name": "stderr",
     "output_type": "stream",
     "text": [
      "[Parallel(n_jobs=1)]: Using backend SequentialBackend with 1 concurrent workers.\n",
      "[Parallel(n_jobs=1)]: Done 400 out of 400 | elapsed:  6.2min finished\n",
      "[Parallel(n_jobs=1)]: Using backend SequentialBackend with 1 concurrent workers.\n"
     ]
    },
    {
     "name": "stdout",
     "output_type": "stream",
     "text": [
      "Best parameter (CV score=-0.45213):\n",
      "{'decision_tree__max_depth': 23, 'decision_tree__n_estimators': 400}\n",
      "Качество лучшей модели на финальном тесте: -0.44254849357833875\n"
     ]
    },
    {
     "name": "stderr",
     "output_type": "stream",
     "text": [
      "[Parallel(n_jobs=1)]: Done 400 out of 400 | elapsed:    1.4s finished\n"
     ]
    }
   ],
   "source": [
    "from sklearn.model_selection import GridSearchCV\n",
    "\n",
    "n_estimators = [int(x) for x in np.linspace(start = 50, stop = 400, num = 3)]\n",
    "max_depth = [int(x) for x in np.linspace(10, 51, num = 4)]\n",
    "\n",
    "\n",
    "param_grid =  {'decision_tree__n_estimators': n_estimators,\n",
    "               'decision_tree__max_depth': max_depth\n",
    "              }\n",
    "\n",
    "### Передадим в GridSearchCV\n",
    "\n",
    "search = GridSearchCV(RandomForest_pipe, \n",
    "                      param_grid, \n",
    "                      cv=splitter,\n",
    "                      scoring='neg_mean_squared_error',\n",
    "                      verbose=10)\n",
    "\n",
    "search.fit(X_train, y_train)\n",
    "\n",
    "print(f\"Best parameter (CV score={search.best_score_:.5f}):\")\n",
    "print(search.best_params_)\n",
    "\n",
    "print(f\"Качество лучшей модели на финальном тесте: {search.score(X_test, y_test)}\")"
   ]
  },
  {
   "cell_type": "markdown",
   "id": "9f41e707",
   "metadata": {},
   "source": [
    "### Укорочение ряда и выделение новых фичей: трюки победителей"
   ]
  },
  {
   "cell_type": "code",
   "execution_count": 26,
   "id": "a7a5569a",
   "metadata": {},
   "outputs": [
    {
     "ename": "FileNotFoundError",
     "evalue": "[Errno 2] No such file or directory: 'train.csv'",
     "output_type": "error",
     "traceback": [
      "\u001b[0;31m---------------------------------------------------------------------------\u001b[0m",
      "\u001b[0;31mFileNotFoundError\u001b[0m                         Traceback (most recent call last)",
      "Input \u001b[0;32mIn [26]\u001b[0m, in \u001b[0;36m<cell line: 3>\u001b[0;34m()\u001b[0m\n\u001b[1;32m      1\u001b[0m \u001b[38;5;66;03m### Грузим часть данных после 2017-01-01\u001b[39;00m\n\u001b[0;32m----> 3\u001b[0m df_train \u001b[38;5;241m=\u001b[39m \u001b[43mpd\u001b[49m\u001b[38;5;241;43m.\u001b[39;49m\u001b[43mread_csv\u001b[49m\u001b[43m(\u001b[49m\n\u001b[1;32m      4\u001b[0m \u001b[43m    \u001b[49m\u001b[38;5;124;43m'\u001b[39;49m\u001b[38;5;124;43mtrain.csv\u001b[39;49m\u001b[38;5;124;43m'\u001b[39;49m\u001b[43m,\u001b[49m\u001b[43m \u001b[49m\u001b[43musecols\u001b[49m\u001b[38;5;241;43m=\u001b[39;49m\u001b[43m[\u001b[49m\u001b[38;5;241;43m1\u001b[39;49m\u001b[43m,\u001b[49m\u001b[43m \u001b[49m\u001b[38;5;241;43m2\u001b[39;49m\u001b[43m,\u001b[49m\u001b[43m \u001b[49m\u001b[38;5;241;43m3\u001b[39;49m\u001b[43m,\u001b[49m\u001b[43m \u001b[49m\u001b[38;5;241;43m4\u001b[39;49m\u001b[43m,\u001b[49m\u001b[43m \u001b[49m\u001b[38;5;241;43m5\u001b[39;49m\u001b[43m]\u001b[49m\u001b[43m,\u001b[49m\n\u001b[1;32m      5\u001b[0m \u001b[43m    \u001b[49m\u001b[43mdtype\u001b[49m\u001b[38;5;241;43m=\u001b[39;49m\u001b[43m{\u001b[49m\u001b[38;5;124;43m'\u001b[39;49m\u001b[38;5;124;43monpromotion\u001b[39;49m\u001b[38;5;124;43m'\u001b[39;49m\u001b[43m:\u001b[49m\u001b[43m \u001b[49m\u001b[38;5;28;43mbool\u001b[39;49m\u001b[43m}\u001b[49m\u001b[43m,\u001b[49m\n\u001b[1;32m      6\u001b[0m \u001b[43m    \u001b[49m\u001b[43mconverters\u001b[49m\u001b[38;5;241;43m=\u001b[39;49m\u001b[43m{\u001b[49m\u001b[38;5;124;43m'\u001b[39;49m\u001b[38;5;124;43munit_sales\u001b[39;49m\u001b[38;5;124;43m'\u001b[39;49m\u001b[43m:\u001b[49m\u001b[43m \u001b[49m\u001b[38;5;28;43;01mlambda\u001b[39;49;00m\u001b[43m \u001b[49m\u001b[43mu\u001b[49m\u001b[43m:\u001b[49m\u001b[43m \u001b[49m\u001b[43mnp\u001b[49m\u001b[38;5;241;43m.\u001b[39;49m\u001b[43mlog1p\u001b[49m\u001b[43m(\u001b[49m\n\u001b[1;32m      7\u001b[0m \u001b[43m        \u001b[49m\u001b[38;5;28;43mfloat\u001b[39;49m\u001b[43m(\u001b[49m\u001b[43mu\u001b[49m\u001b[43m)\u001b[49m\u001b[43m)\u001b[49m\u001b[43m \u001b[49m\u001b[38;5;28;43;01mif\u001b[39;49;00m\u001b[43m \u001b[49m\u001b[38;5;28;43mfloat\u001b[39;49m\u001b[43m(\u001b[49m\u001b[43mu\u001b[49m\u001b[43m)\u001b[49m\u001b[43m \u001b[49m\u001b[38;5;241;43m>\u001b[39;49m\u001b[43m \u001b[49m\u001b[38;5;241;43m0\u001b[39;49m\u001b[43m \u001b[49m\u001b[38;5;28;43;01melse\u001b[39;49;00m\u001b[43m \u001b[49m\u001b[38;5;241;43m0\u001b[39;49m\u001b[43m}\u001b[49m\u001b[43m,\u001b[49m\n\u001b[1;32m      8\u001b[0m \u001b[43m    \u001b[49m\u001b[43mparse_dates\u001b[49m\u001b[38;5;241;43m=\u001b[39;49m\u001b[43m[\u001b[49m\u001b[38;5;124;43m\"\u001b[39;49m\u001b[38;5;124;43mdate\u001b[39;49m\u001b[38;5;124;43m\"\u001b[39;49m\u001b[43m]\u001b[49m\u001b[43m,\u001b[49m\n\u001b[1;32m      9\u001b[0m \u001b[43m    \u001b[49m\u001b[43mskiprows\u001b[49m\u001b[38;5;241;43m=\u001b[39;49m\u001b[38;5;28;43mrange\u001b[39;49m\u001b[43m(\u001b[49m\u001b[38;5;241;43m1\u001b[39;49m\u001b[43m,\u001b[49m\u001b[43m \u001b[49m\u001b[38;5;241;43m66458909\u001b[39;49m\u001b[43m)\u001b[49m\u001b[43m  \u001b[49m\u001b[38;5;66;43;03m# 2016-01-01\u001b[39;49;00m\n\u001b[1;32m     10\u001b[0m \u001b[43m)\u001b[49m\n\u001b[1;32m     12\u001b[0m df_train \u001b[38;5;241m=\u001b[39m df_train\u001b[38;5;241m.\u001b[39mloc[df_train\u001b[38;5;241m.\u001b[39mdate\u001b[38;5;241m>\u001b[39m\u001b[38;5;241m=\u001b[39mpd\u001b[38;5;241m.\u001b[39mdatetime(\u001b[38;5;241m2017\u001b[39m,\u001b[38;5;241m1\u001b[39m,\u001b[38;5;241m1\u001b[39m)]\n\u001b[1;32m     14\u001b[0m \u001b[38;5;66;03m### Для каждого (товар-магазин) на каждый день составим продажи\u001b[39;00m\n",
      "File \u001b[0;32m/Library/Frameworks/Python.framework/Versions/3.10/lib/python3.10/site-packages/pandas/util/_decorators.py:211\u001b[0m, in \u001b[0;36mdeprecate_kwarg.<locals>._deprecate_kwarg.<locals>.wrapper\u001b[0;34m(*args, **kwargs)\u001b[0m\n\u001b[1;32m    209\u001b[0m     \u001b[38;5;28;01melse\u001b[39;00m:\n\u001b[1;32m    210\u001b[0m         kwargs[new_arg_name] \u001b[38;5;241m=\u001b[39m new_arg_value\n\u001b[0;32m--> 211\u001b[0m \u001b[38;5;28;01mreturn\u001b[39;00m \u001b[43mfunc\u001b[49m\u001b[43m(\u001b[49m\u001b[38;5;241;43m*\u001b[39;49m\u001b[43margs\u001b[49m\u001b[43m,\u001b[49m\u001b[43m \u001b[49m\u001b[38;5;241;43m*\u001b[39;49m\u001b[38;5;241;43m*\u001b[39;49m\u001b[43mkwargs\u001b[49m\u001b[43m)\u001b[49m\n",
      "File \u001b[0;32m/Library/Frameworks/Python.framework/Versions/3.10/lib/python3.10/site-packages/pandas/util/_decorators.py:331\u001b[0m, in \u001b[0;36mdeprecate_nonkeyword_arguments.<locals>.decorate.<locals>.wrapper\u001b[0;34m(*args, **kwargs)\u001b[0m\n\u001b[1;32m    325\u001b[0m \u001b[38;5;28;01mif\u001b[39;00m \u001b[38;5;28mlen\u001b[39m(args) \u001b[38;5;241m>\u001b[39m num_allow_args:\n\u001b[1;32m    326\u001b[0m     warnings\u001b[38;5;241m.\u001b[39mwarn(\n\u001b[1;32m    327\u001b[0m         msg\u001b[38;5;241m.\u001b[39mformat(arguments\u001b[38;5;241m=\u001b[39m_format_argument_list(allow_args)),\n\u001b[1;32m    328\u001b[0m         \u001b[38;5;167;01mFutureWarning\u001b[39;00m,\n\u001b[1;32m    329\u001b[0m         stacklevel\u001b[38;5;241m=\u001b[39mfind_stack_level(),\n\u001b[1;32m    330\u001b[0m     )\n\u001b[0;32m--> 331\u001b[0m \u001b[38;5;28;01mreturn\u001b[39;00m \u001b[43mfunc\u001b[49m\u001b[43m(\u001b[49m\u001b[38;5;241;43m*\u001b[39;49m\u001b[43margs\u001b[49m\u001b[43m,\u001b[49m\u001b[43m \u001b[49m\u001b[38;5;241;43m*\u001b[39;49m\u001b[38;5;241;43m*\u001b[39;49m\u001b[43mkwargs\u001b[49m\u001b[43m)\u001b[49m\n",
      "File \u001b[0;32m/Library/Frameworks/Python.framework/Versions/3.10/lib/python3.10/site-packages/pandas/io/parsers/readers.py:950\u001b[0m, in \u001b[0;36mread_csv\u001b[0;34m(filepath_or_buffer, sep, delimiter, header, names, index_col, usecols, squeeze, prefix, mangle_dupe_cols, dtype, engine, converters, true_values, false_values, skipinitialspace, skiprows, skipfooter, nrows, na_values, keep_default_na, na_filter, verbose, skip_blank_lines, parse_dates, infer_datetime_format, keep_date_col, date_parser, dayfirst, cache_dates, iterator, chunksize, compression, thousands, decimal, lineterminator, quotechar, quoting, doublequote, escapechar, comment, encoding, encoding_errors, dialect, error_bad_lines, warn_bad_lines, on_bad_lines, delim_whitespace, low_memory, memory_map, float_precision, storage_options)\u001b[0m\n\u001b[1;32m    935\u001b[0m kwds_defaults \u001b[38;5;241m=\u001b[39m _refine_defaults_read(\n\u001b[1;32m    936\u001b[0m     dialect,\n\u001b[1;32m    937\u001b[0m     delimiter,\n\u001b[0;32m   (...)\u001b[0m\n\u001b[1;32m    946\u001b[0m     defaults\u001b[38;5;241m=\u001b[39m{\u001b[38;5;124m\"\u001b[39m\u001b[38;5;124mdelimiter\u001b[39m\u001b[38;5;124m\"\u001b[39m: \u001b[38;5;124m\"\u001b[39m\u001b[38;5;124m,\u001b[39m\u001b[38;5;124m\"\u001b[39m},\n\u001b[1;32m    947\u001b[0m )\n\u001b[1;32m    948\u001b[0m kwds\u001b[38;5;241m.\u001b[39mupdate(kwds_defaults)\n\u001b[0;32m--> 950\u001b[0m \u001b[38;5;28;01mreturn\u001b[39;00m \u001b[43m_read\u001b[49m\u001b[43m(\u001b[49m\u001b[43mfilepath_or_buffer\u001b[49m\u001b[43m,\u001b[49m\u001b[43m \u001b[49m\u001b[43mkwds\u001b[49m\u001b[43m)\u001b[49m\n",
      "File \u001b[0;32m/Library/Frameworks/Python.framework/Versions/3.10/lib/python3.10/site-packages/pandas/io/parsers/readers.py:605\u001b[0m, in \u001b[0;36m_read\u001b[0;34m(filepath_or_buffer, kwds)\u001b[0m\n\u001b[1;32m    602\u001b[0m _validate_names(kwds\u001b[38;5;241m.\u001b[39mget(\u001b[38;5;124m\"\u001b[39m\u001b[38;5;124mnames\u001b[39m\u001b[38;5;124m\"\u001b[39m, \u001b[38;5;28;01mNone\u001b[39;00m))\n\u001b[1;32m    604\u001b[0m \u001b[38;5;66;03m# Create the parser.\u001b[39;00m\n\u001b[0;32m--> 605\u001b[0m parser \u001b[38;5;241m=\u001b[39m \u001b[43mTextFileReader\u001b[49m\u001b[43m(\u001b[49m\u001b[43mfilepath_or_buffer\u001b[49m\u001b[43m,\u001b[49m\u001b[43m \u001b[49m\u001b[38;5;241;43m*\u001b[39;49m\u001b[38;5;241;43m*\u001b[39;49m\u001b[43mkwds\u001b[49m\u001b[43m)\u001b[49m\n\u001b[1;32m    607\u001b[0m \u001b[38;5;28;01mif\u001b[39;00m chunksize \u001b[38;5;129;01mor\u001b[39;00m iterator:\n\u001b[1;32m    608\u001b[0m     \u001b[38;5;28;01mreturn\u001b[39;00m parser\n",
      "File \u001b[0;32m/Library/Frameworks/Python.framework/Versions/3.10/lib/python3.10/site-packages/pandas/io/parsers/readers.py:1442\u001b[0m, in \u001b[0;36mTextFileReader.__init__\u001b[0;34m(self, f, engine, **kwds)\u001b[0m\n\u001b[1;32m   1439\u001b[0m     \u001b[38;5;28mself\u001b[39m\u001b[38;5;241m.\u001b[39moptions[\u001b[38;5;124m\"\u001b[39m\u001b[38;5;124mhas_index_names\u001b[39m\u001b[38;5;124m\"\u001b[39m] \u001b[38;5;241m=\u001b[39m kwds[\u001b[38;5;124m\"\u001b[39m\u001b[38;5;124mhas_index_names\u001b[39m\u001b[38;5;124m\"\u001b[39m]\n\u001b[1;32m   1441\u001b[0m \u001b[38;5;28mself\u001b[39m\u001b[38;5;241m.\u001b[39mhandles: IOHandles \u001b[38;5;241m|\u001b[39m \u001b[38;5;28;01mNone\u001b[39;00m \u001b[38;5;241m=\u001b[39m \u001b[38;5;28;01mNone\u001b[39;00m\n\u001b[0;32m-> 1442\u001b[0m \u001b[38;5;28mself\u001b[39m\u001b[38;5;241m.\u001b[39m_engine \u001b[38;5;241m=\u001b[39m \u001b[38;5;28;43mself\u001b[39;49m\u001b[38;5;241;43m.\u001b[39;49m\u001b[43m_make_engine\u001b[49m\u001b[43m(\u001b[49m\u001b[43mf\u001b[49m\u001b[43m,\u001b[49m\u001b[43m \u001b[49m\u001b[38;5;28;43mself\u001b[39;49m\u001b[38;5;241;43m.\u001b[39;49m\u001b[43mengine\u001b[49m\u001b[43m)\u001b[49m\n",
      "File \u001b[0;32m/Library/Frameworks/Python.framework/Versions/3.10/lib/python3.10/site-packages/pandas/io/parsers/readers.py:1735\u001b[0m, in \u001b[0;36mTextFileReader._make_engine\u001b[0;34m(self, f, engine)\u001b[0m\n\u001b[1;32m   1733\u001b[0m     \u001b[38;5;28;01mif\u001b[39;00m \u001b[38;5;124m\"\u001b[39m\u001b[38;5;124mb\u001b[39m\u001b[38;5;124m\"\u001b[39m \u001b[38;5;129;01mnot\u001b[39;00m \u001b[38;5;129;01min\u001b[39;00m mode:\n\u001b[1;32m   1734\u001b[0m         mode \u001b[38;5;241m+\u001b[39m\u001b[38;5;241m=\u001b[39m \u001b[38;5;124m\"\u001b[39m\u001b[38;5;124mb\u001b[39m\u001b[38;5;124m\"\u001b[39m\n\u001b[0;32m-> 1735\u001b[0m \u001b[38;5;28mself\u001b[39m\u001b[38;5;241m.\u001b[39mhandles \u001b[38;5;241m=\u001b[39m \u001b[43mget_handle\u001b[49m\u001b[43m(\u001b[49m\n\u001b[1;32m   1736\u001b[0m \u001b[43m    \u001b[49m\u001b[43mf\u001b[49m\u001b[43m,\u001b[49m\n\u001b[1;32m   1737\u001b[0m \u001b[43m    \u001b[49m\u001b[43mmode\u001b[49m\u001b[43m,\u001b[49m\n\u001b[1;32m   1738\u001b[0m \u001b[43m    \u001b[49m\u001b[43mencoding\u001b[49m\u001b[38;5;241;43m=\u001b[39;49m\u001b[38;5;28;43mself\u001b[39;49m\u001b[38;5;241;43m.\u001b[39;49m\u001b[43moptions\u001b[49m\u001b[38;5;241;43m.\u001b[39;49m\u001b[43mget\u001b[49m\u001b[43m(\u001b[49m\u001b[38;5;124;43m\"\u001b[39;49m\u001b[38;5;124;43mencoding\u001b[39;49m\u001b[38;5;124;43m\"\u001b[39;49m\u001b[43m,\u001b[49m\u001b[43m \u001b[49m\u001b[38;5;28;43;01mNone\u001b[39;49;00m\u001b[43m)\u001b[49m\u001b[43m,\u001b[49m\n\u001b[1;32m   1739\u001b[0m \u001b[43m    \u001b[49m\u001b[43mcompression\u001b[49m\u001b[38;5;241;43m=\u001b[39;49m\u001b[38;5;28;43mself\u001b[39;49m\u001b[38;5;241;43m.\u001b[39;49m\u001b[43moptions\u001b[49m\u001b[38;5;241;43m.\u001b[39;49m\u001b[43mget\u001b[49m\u001b[43m(\u001b[49m\u001b[38;5;124;43m\"\u001b[39;49m\u001b[38;5;124;43mcompression\u001b[39;49m\u001b[38;5;124;43m\"\u001b[39;49m\u001b[43m,\u001b[49m\u001b[43m \u001b[49m\u001b[38;5;28;43;01mNone\u001b[39;49;00m\u001b[43m)\u001b[49m\u001b[43m,\u001b[49m\n\u001b[1;32m   1740\u001b[0m \u001b[43m    \u001b[49m\u001b[43mmemory_map\u001b[49m\u001b[38;5;241;43m=\u001b[39;49m\u001b[38;5;28;43mself\u001b[39;49m\u001b[38;5;241;43m.\u001b[39;49m\u001b[43moptions\u001b[49m\u001b[38;5;241;43m.\u001b[39;49m\u001b[43mget\u001b[49m\u001b[43m(\u001b[49m\u001b[38;5;124;43m\"\u001b[39;49m\u001b[38;5;124;43mmemory_map\u001b[39;49m\u001b[38;5;124;43m\"\u001b[39;49m\u001b[43m,\u001b[49m\u001b[43m \u001b[49m\u001b[38;5;28;43;01mFalse\u001b[39;49;00m\u001b[43m)\u001b[49m\u001b[43m,\u001b[49m\n\u001b[1;32m   1741\u001b[0m \u001b[43m    \u001b[49m\u001b[43mis_text\u001b[49m\u001b[38;5;241;43m=\u001b[39;49m\u001b[43mis_text\u001b[49m\u001b[43m,\u001b[49m\n\u001b[1;32m   1742\u001b[0m \u001b[43m    \u001b[49m\u001b[43merrors\u001b[49m\u001b[38;5;241;43m=\u001b[39;49m\u001b[38;5;28;43mself\u001b[39;49m\u001b[38;5;241;43m.\u001b[39;49m\u001b[43moptions\u001b[49m\u001b[38;5;241;43m.\u001b[39;49m\u001b[43mget\u001b[49m\u001b[43m(\u001b[49m\u001b[38;5;124;43m\"\u001b[39;49m\u001b[38;5;124;43mencoding_errors\u001b[39;49m\u001b[38;5;124;43m\"\u001b[39;49m\u001b[43m,\u001b[49m\u001b[43m \u001b[49m\u001b[38;5;124;43m\"\u001b[39;49m\u001b[38;5;124;43mstrict\u001b[39;49m\u001b[38;5;124;43m\"\u001b[39;49m\u001b[43m)\u001b[49m\u001b[43m,\u001b[49m\n\u001b[1;32m   1743\u001b[0m \u001b[43m    \u001b[49m\u001b[43mstorage_options\u001b[49m\u001b[38;5;241;43m=\u001b[39;49m\u001b[38;5;28;43mself\u001b[39;49m\u001b[38;5;241;43m.\u001b[39;49m\u001b[43moptions\u001b[49m\u001b[38;5;241;43m.\u001b[39;49m\u001b[43mget\u001b[49m\u001b[43m(\u001b[49m\u001b[38;5;124;43m\"\u001b[39;49m\u001b[38;5;124;43mstorage_options\u001b[39;49m\u001b[38;5;124;43m\"\u001b[39;49m\u001b[43m,\u001b[49m\u001b[43m \u001b[49m\u001b[38;5;28;43;01mNone\u001b[39;49;00m\u001b[43m)\u001b[49m\u001b[43m,\u001b[49m\n\u001b[1;32m   1744\u001b[0m \u001b[43m\u001b[49m\u001b[43m)\u001b[49m\n\u001b[1;32m   1745\u001b[0m \u001b[38;5;28;01massert\u001b[39;00m \u001b[38;5;28mself\u001b[39m\u001b[38;5;241m.\u001b[39mhandles \u001b[38;5;129;01mis\u001b[39;00m \u001b[38;5;129;01mnot\u001b[39;00m \u001b[38;5;28;01mNone\u001b[39;00m\n\u001b[1;32m   1746\u001b[0m f \u001b[38;5;241m=\u001b[39m \u001b[38;5;28mself\u001b[39m\u001b[38;5;241m.\u001b[39mhandles\u001b[38;5;241m.\u001b[39mhandle\n",
      "File \u001b[0;32m/Library/Frameworks/Python.framework/Versions/3.10/lib/python3.10/site-packages/pandas/io/common.py:856\u001b[0m, in \u001b[0;36mget_handle\u001b[0;34m(path_or_buf, mode, encoding, compression, memory_map, is_text, errors, storage_options)\u001b[0m\n\u001b[1;32m    851\u001b[0m \u001b[38;5;28;01melif\u001b[39;00m \u001b[38;5;28misinstance\u001b[39m(handle, \u001b[38;5;28mstr\u001b[39m):\n\u001b[1;32m    852\u001b[0m     \u001b[38;5;66;03m# Check whether the filename is to be opened in binary mode.\u001b[39;00m\n\u001b[1;32m    853\u001b[0m     \u001b[38;5;66;03m# Binary mode does not support 'encoding' and 'newline'.\u001b[39;00m\n\u001b[1;32m    854\u001b[0m     \u001b[38;5;28;01mif\u001b[39;00m ioargs\u001b[38;5;241m.\u001b[39mencoding \u001b[38;5;129;01mand\u001b[39;00m \u001b[38;5;124m\"\u001b[39m\u001b[38;5;124mb\u001b[39m\u001b[38;5;124m\"\u001b[39m \u001b[38;5;129;01mnot\u001b[39;00m \u001b[38;5;129;01min\u001b[39;00m ioargs\u001b[38;5;241m.\u001b[39mmode:\n\u001b[1;32m    855\u001b[0m         \u001b[38;5;66;03m# Encoding\u001b[39;00m\n\u001b[0;32m--> 856\u001b[0m         handle \u001b[38;5;241m=\u001b[39m \u001b[38;5;28;43mopen\u001b[39;49m\u001b[43m(\u001b[49m\n\u001b[1;32m    857\u001b[0m \u001b[43m            \u001b[49m\u001b[43mhandle\u001b[49m\u001b[43m,\u001b[49m\n\u001b[1;32m    858\u001b[0m \u001b[43m            \u001b[49m\u001b[43mioargs\u001b[49m\u001b[38;5;241;43m.\u001b[39;49m\u001b[43mmode\u001b[49m\u001b[43m,\u001b[49m\n\u001b[1;32m    859\u001b[0m \u001b[43m            \u001b[49m\u001b[43mencoding\u001b[49m\u001b[38;5;241;43m=\u001b[39;49m\u001b[43mioargs\u001b[49m\u001b[38;5;241;43m.\u001b[39;49m\u001b[43mencoding\u001b[49m\u001b[43m,\u001b[49m\n\u001b[1;32m    860\u001b[0m \u001b[43m            \u001b[49m\u001b[43merrors\u001b[49m\u001b[38;5;241;43m=\u001b[39;49m\u001b[43merrors\u001b[49m\u001b[43m,\u001b[49m\n\u001b[1;32m    861\u001b[0m \u001b[43m            \u001b[49m\u001b[43mnewline\u001b[49m\u001b[38;5;241;43m=\u001b[39;49m\u001b[38;5;124;43m\"\u001b[39;49m\u001b[38;5;124;43m\"\u001b[39;49m\u001b[43m,\u001b[49m\n\u001b[1;32m    862\u001b[0m \u001b[43m        \u001b[49m\u001b[43m)\u001b[49m\n\u001b[1;32m    863\u001b[0m     \u001b[38;5;28;01melse\u001b[39;00m:\n\u001b[1;32m    864\u001b[0m         \u001b[38;5;66;03m# Binary mode\u001b[39;00m\n\u001b[1;32m    865\u001b[0m         handle \u001b[38;5;241m=\u001b[39m \u001b[38;5;28mopen\u001b[39m(handle, ioargs\u001b[38;5;241m.\u001b[39mmode)\n",
      "\u001b[0;31mFileNotFoundError\u001b[0m: [Errno 2] No such file or directory: 'train.csv'"
     ]
    }
   ],
   "source": [
    "### Грузим часть данных после 2017-01-01\n",
    "\n",
    "df_train = pd.read_csv(\n",
    "    'train.csv', usecols=[1, 2, 3, 4, 5],\n",
    "    dtype={'onpromotion': bool},\n",
    "    converters={'unit_sales': lambda u: np.log1p(\n",
    "        float(u)) if float(u) > 0 else 0},\n",
    "    parse_dates=[\"date\"],\n",
    "    skiprows=range(1, 66458909)  # 2016-01-01\n",
    ")\n",
    "\n",
    "df_train = df_train.loc[df_train.date>=pd.datetime(2017,1,1)]\n",
    "\n",
    "### Для каждого (товар-магазин) на каждый день составим продажи\n",
    "\n",
    "df_2017 = df_train.set_index(\n",
    "    [\"store_nbr\", \"item_nbr\", \"date\"])[[\"unit_sales\"]].unstack(\n",
    "        level=-1).fillna(0)\n",
    "df_2017.columns = df_2017.columns.get_level_values(1)"
   ]
  },
  {
   "cell_type": "code",
   "execution_count": null,
   "id": "2ea5b77a",
   "metadata": {},
   "outputs": [],
   "source": [
    "df_2017.head()"
   ]
  },
  {
   "cell_type": "code",
   "execution_count": null,
   "id": "a064c209",
   "metadata": {},
   "outputs": [],
   "source": [
    "### Аналогично можно посмотреть на наличие промо-акций\n",
    "\n",
    "promo_2017 = df_train.set_index(\n",
    "    [\"store_nbr\", \"item_nbr\", \"date\"])[[\"onpromotion\"]].unstack(\n",
    "        level=-1).fillna(False)\n",
    "\n",
    "promo_2017.columns = promo_2017.columns.get_level_values(1)"
   ]
  },
  {
   "cell_type": "code",
   "execution_count": null,
   "id": "0e0bce0f",
   "metadata": {},
   "outputs": [],
   "source": [
    "promo_2017.head()"
   ]
  },
  {
   "cell_type": "code",
   "execution_count": null,
   "id": "2b1c069f",
   "metadata": {},
   "outputs": [],
   "source": [
    "from datetime import date, timedelta\n",
    "\n",
    "def get_timespan(df, dt, minus, periods, freq='D'):\n",
    "    return df[pd.date_range(dt - timedelta(days=minus), periods=periods, freq=freq)]\n",
    "\n",
    "control_date = date(2017, 5, 1)\n",
    "\n",
    "get_timespan(df_2017, control_date, 5, 5)"
   ]
  },
  {
   "cell_type": "code",
   "execution_count": null,
   "id": "2d949ead",
   "metadata": {},
   "outputs": [],
   "source": [
    "### Например, можно выбрать какую-то контрольную дату\n",
    "### Посчитать от нее для каждой пары товар-магазин\n",
    "### Количество дней, когда были ненулевые продажи\n",
    "\n",
    "tmp = get_timespan(df_2017, control_date, 7, 7)\n",
    "\n",
    "(tmp > 0).sum(axis=1)"
   ]
  },
  {
   "cell_type": "code",
   "execution_count": null,
   "id": "482d473b",
   "metadata": {},
   "outputs": [],
   "source": [
    "### Или количество дней из последних n штук\n",
    "### Когда проводилась промо-акция на пару товар-магазин\n",
    "### От выбранной даты\n",
    "\n",
    "tmp = get_timespan(promo_2017, control_date, 60, 60)\n",
    "\n",
    "tmp.sum(axis=1)"
   ]
  },
  {
   "cell_type": "code",
   "execution_count": null,
   "id": "141d8772",
   "metadata": {},
   "outputs": [],
   "source": [
    "def prepare_dataset(df, promo_df, t2017, name_prefix=None):\n",
    "    \n",
    "    ### Посчитаем количество промо-акцкий за последние \n",
    "    ### 14, 60, 140 дней от контрольной даты\n",
    "    \n",
    "    X = {\n",
    "        \"promo_14_2017\": get_timespan(promo_df, t2017, 14, 14).sum(axis=1).values,\n",
    "        \"promo_60_2017\": get_timespan(promo_df, t2017, 60, 60).sum(axis=1).values,\n",
    "    }\n",
    "\n",
    "    ### Посчитаем для разного окна\n",
    "    ### Различные статистики по продажам\n",
    "    ### Среднее изменение продаж от дня к дню, \n",
    "    ### Медианы продаж, максимальные и минимальные значения,\n",
    "    ### Взвешенные средние и т.д.\n",
    "    \n",
    "    for i in [3, 7, 14, 30, 60]:\n",
    "        tmp = get_timespan(df, t2017, i, i)\n",
    "        X['diff_%s_mean' % i] = tmp.diff(axis=1).mean(axis=1).values\n",
    "        X['mean_%s_decay' % i] = (tmp * np.power(0.9, np.arange(i)[::-1])).sum(axis=1).values\n",
    "        X['mean_%s' % i] = tmp.mean(axis=1).values\n",
    "        X['median_%s' % i] = tmp.median(axis=1).values\n",
    "        X['min_%s' % i] = tmp.min(axis=1).values\n",
    "        X['max_%s' % i] = tmp.max(axis=1).values\n",
    "        X['std_%s' % i] = tmp.std(axis=1).values\n",
    "        \n",
    "    ### Посчитаем аналогичные статистики\n",
    "    ### Только для даты, на неделю раньше,\n",
    "    ### Чем контрольная\n",
    "    \n",
    "    for i in [3, 7, 14, 30, 60]:\n",
    "        tmp = get_timespan(df, t2017 + timedelta(days=-7), i, i)\n",
    "        X['diff_%s_mean_2' % i] = tmp.diff(axis=1).mean(axis=1).values\n",
    "        X['mean_%s_decay_2' % i] = (tmp * np.power(0.9, np.arange(i)[::-1])).sum(axis=1).values\n",
    "        X['mean_%s_2' % i] = tmp.mean(axis=1).values\n",
    "        X['median_%s_2' % i] = tmp.median(axis=1).values\n",
    "        X['min_%s_2' % i] = tmp.min(axis=1).values\n",
    "        X['max_%s_2' % i] = tmp.max(axis=1).values\n",
    "        X['std_%s_2' % i] = tmp.std(axis=1).values\n",
    "\n",
    "    ### Посчитаем фичи, описывающие\n",
    "    ### Количество дней ненулевых продаж за выбранный период\n",
    "    ### Дни с первой и последней продажи\n",
    "    ### И аналогичные статистики по промо-акциям\n",
    "    \n",
    "    for i in [7, 14, 30, 60]:\n",
    "        tmp = get_timespan(df, t2017, i, i)\n",
    "        X['has_sales_days_in_last_%s' % i] = (tmp > 0).sum(axis=1).values\n",
    "        X['last_has_sales_day_in_last_%s' % i] = i - ((tmp > 0) * np.arange(i)).max(axis=1).values\n",
    "        X['first_has_sales_day_in_last_%s' % i] = ((tmp > 0) * np.arange(i, 0, -1)).max(axis=1).values\n",
    "\n",
    "        tmp = get_timespan(promo_df, t2017, i, i)\n",
    "        X['has_promo_days_in_last_%s' % i] = (tmp > 0).sum(axis=1).values\n",
    "        X['last_has_promo_day_in_last_%s' % i] = i - ((tmp > 0) * np.arange(i)).max(axis=1).values\n",
    "        X['first_has_promo_day_in_last_%s' % i] = ((tmp > 0) * np.arange(i, 0, -1)).max(axis=1).values\n",
    "\n",
    "    X = pd.DataFrame(X)\n",
    "    \n",
    "    return X"
   ]
  },
  {
   "cell_type": "code",
   "execution_count": null,
   "id": "f414ea2e",
   "metadata": {},
   "outputs": [],
   "source": [
    "new_features = prepare_dataset(df_2017, promo_2017, control_date)\n",
    "\n",
    "new_features.index = promo_2017.index\n",
    "\n",
    "new_features"
   ]
  },
  {
   "cell_type": "code",
   "execution_count": null,
   "id": "3e78832a",
   "metadata": {},
   "outputs": [],
   "source": [
    "### Вернемся к нашей задаче\n",
    "\n",
    "X = df.drop(\"unit_sales\", axis=1)\n",
    "y = df[\"unit_sales\"]\n",
    "\n",
    "### Будем считать MSLE\n",
    "\n",
    "y = y.apply(np.log1p)\n",
    "\n",
    "### Добавим новые фичи \n",
    "\n",
    "New_X = pd.merge(X,\n",
    "                 new_features.reset_index(),\n",
    "                 on=['store_nbr', 'item_nbr'],\n",
    "                 how='left'\n",
    "                )\n",
    "\n",
    "New_X.head()"
   ]
  },
  {
   "cell_type": "code",
   "execution_count": null,
   "id": "b69edec4",
   "metadata": {},
   "outputs": [],
   "source": [
    "## Отделим валидацию от теста по времени!\n",
    "\n",
    "X_test, X_train = New_X[New_X.date >= '2017-06-01'], New_X[(New_X.date < '2017-06-01')&(New_X.date >= '2017-01-01')]\n",
    "\n",
    "y_test, y_train = y[y.index.isin(X_test.index)], y[y.index.isin(X_train.index)]\n",
    "\n",
    "### Уберем колонку с датой\n",
    "\n",
    "X_test = X_test.drop('date', axis=1)\n",
    "X_train = X_train.drop('date', axis=1)\n",
    "New_X = New_X.drop('date', axis=1)\n",
    "\n",
    "object_cols = ['store_nbr', 'item_nbr', 'onpromotion', 'month',\n",
    "               'city', 'state', 'type', 'cluster', 'family',\n",
    "               'class', 'perishable', 'holiday_type', 'locale',\n",
    "               'locale_name', 'description', 'transferred']\n",
    "\n",
    "X_test[object_cols] = X_test[object_cols].astype(object)\n",
    "X_train[object_cols] = X_train[object_cols].astype(object)"
   ]
  },
  {
   "cell_type": "code",
   "execution_count": null,
   "id": "2dd3c025",
   "metadata": {},
   "outputs": [],
   "source": [
    "y_test.to_csv('y_test_updated.csv', index=False)\n",
    "y_train.to_csv('y_train_updated.csv', index=False)\n",
    "\n",
    "X_test.to_csv('X_test_updated.csv', index=False)\n",
    "X_train.to_csv('X_train_updated.csv', index=False)"
   ]
  },
  {
   "cell_type": "code",
   "execution_count": null,
   "id": "ce2c4f26",
   "metadata": {},
   "outputs": [],
   "source": []
  },
  {
   "cell_type": "code",
   "execution_count": null,
   "id": "a31fa376",
   "metadata": {},
   "outputs": [],
   "source": []
  },
  {
   "cell_type": "code",
   "execution_count": null,
   "id": "0043fd5f",
   "metadata": {},
   "outputs": [],
   "source": [
    "### Запишем заранее колонки для OHE\n",
    "### и счетчиков\n",
    "### а также вещественные колонки\n",
    "\n",
    "\n",
    "cols_for_ohe = [x for x in object_cols if X_train[x].nunique() < 5]\n",
    "cols_for_mte = [x for x in object_cols if X_train[x].nunique() >= 5]\n",
    "numeric_cols = list(X_train.select_dtypes(exclude='object').columns)\n",
    "\n",
    "### сохраним индексы этих колонок\n",
    "\n",
    "cols_for_ohe_idx = [list(X_train.columns).index(col) for col in cols_for_ohe]\n",
    "cols_for_mte_idx = [list(X_train.columns).index(col) for col in cols_for_mte]\n",
    "numeric_cols_idx = [list(X_train.columns).index(col) for col in numeric_cols]"
   ]
  },
  {
   "cell_type": "code",
   "execution_count": null,
   "id": "0dd74ebd",
   "metadata": {},
   "outputs": [],
   "source": [
    "t = [('OneHotEncoder', OneHotEncoder(), cols_for_ohe_idx),\n",
    "     ('MeanTargetEncoder', TargetEncoder(), cols_for_mte_idx),\n",
    "     ('StandardScaler', StandardScaler(), numeric_cols_idx)]\n",
    "\n",
    "col_transform = ColumnTransformer(transformers=t)"
   ]
  },
  {
   "cell_type": "code",
   "execution_count": null,
   "id": "3d7d0ada",
   "metadata": {},
   "outputs": [],
   "source": [
    "### Зафитим модель на новых данных\n",
    "### И замерим качество на тесте и на трейне\n",
    "\n",
    "RandomForest_best_pipe = Pipeline([(\"column_transformer\",\n",
    "                                    col_transform),\n",
    "                  \n",
    "                                   (\"decision_tree\", \n",
    "                                    RandomForestRegressor(max_depth=23,\n",
    "                                                          n_estimators=500,\n",
    "                                                          verbose=1))])\n",
    "\n",
    "RandomForest_best_pipe.fit(X_train, y_train)"
   ]
  },
  {
   "cell_type": "code",
   "execution_count": null,
   "id": "c35f43f2",
   "metadata": {},
   "outputs": [],
   "source": [
    "### Замерим качество работы такой модели\n",
    "### Возьмем MSLE\n",
    "\n",
    "train_preds = RandomForest_best_pipe.predict(X_train)\n",
    "test_preds = RandomForest_best_pipe.predict(X_test)\n",
    "\n",
    "train_error = np.mean((train_preds - y_train)**2)\n",
    "test_error = np.mean((test_preds - y_test)**2)\n",
    "\n",
    "\n",
    "print(f\"Качество на трейне: {train_error.round(3)}\")\n",
    "print(f\"Качество на тесте: {test_error.round(3)}\")"
   ]
  }
 ],
 "metadata": {
  "kernelspec": {
   "display_name": "Python 3 (ipykernel)",
   "language": "python",
   "name": "python3"
  },
  "language_info": {
   "codemirror_mode": {
    "name": "ipython",
    "version": 3
   },
   "file_extension": ".py",
   "mimetype": "text/x-python",
   "name": "python",
   "nbconvert_exporter": "python",
   "pygments_lexer": "ipython3",
   "version": "3.10.6"
  }
 },
 "nbformat": 4,
 "nbformat_minor": 5
}
