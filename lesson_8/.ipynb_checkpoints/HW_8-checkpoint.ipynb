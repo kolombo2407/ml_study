{
 "cells": [
  {
   "cell_type": "markdown",
   "id": "4d798a1e",
   "metadata": {},
   "source": [
    "### В данной домашней работе Вам предстоит отработать следующие 2 навыка: работа с пропущенными значениями и анализ выбросов."
   ]
  },
  {
   "cell_type": "code",
   "execution_count": 1,
   "id": "39ca6ab8",
   "metadata": {},
   "outputs": [],
   "source": [
    "import numpy as np\n",
    "import pandas as pd\n",
    "\n",
    "data = pd.read_csv('processed_data_with_new_features.csv', index_col='id')"
   ]
  },
  {
   "cell_type": "code",
   "execution_count": 2,
   "id": "060a3f39",
   "metadata": {},
   "outputs": [
    {
     "data": {
      "text/html": [
       "<div>\n",
       "<style scoped>\n",
       "    .dataframe tbody tr th:only-of-type {\n",
       "        vertical-align: middle;\n",
       "    }\n",
       "\n",
       "    .dataframe tbody tr th {\n",
       "        vertical-align: top;\n",
       "    }\n",
       "\n",
       "    .dataframe thead th {\n",
       "        text-align: right;\n",
       "    }\n",
       "</style>\n",
       "<table border=\"1\" class=\"dataframe\">\n",
       "  <thead>\n",
       "    <tr style=\"text-align: right;\">\n",
       "      <th></th>\n",
       "      <th>vendor_id</th>\n",
       "      <th>passenger_count</th>\n",
       "      <th>store_and_fwd_flag</th>\n",
       "      <th>distance_km</th>\n",
       "      <th>log_trip_duration</th>\n",
       "      <th>anomaly</th>\n",
       "      <th>traffic_jam</th>\n",
       "      <th>day_of_week_1</th>\n",
       "      <th>day_of_week_2</th>\n",
       "      <th>day_of_week_3</th>\n",
       "      <th>...</th>\n",
       "      <th>hour_19</th>\n",
       "      <th>hour_20</th>\n",
       "      <th>hour_21</th>\n",
       "      <th>hour_22</th>\n",
       "      <th>hour_23</th>\n",
       "      <th>month_2</th>\n",
       "      <th>month_3</th>\n",
       "      <th>month_4</th>\n",
       "      <th>month_5</th>\n",
       "      <th>month_6</th>\n",
       "    </tr>\n",
       "    <tr>\n",
       "      <th>id</th>\n",
       "      <th></th>\n",
       "      <th></th>\n",
       "      <th></th>\n",
       "      <th></th>\n",
       "      <th></th>\n",
       "      <th></th>\n",
       "      <th></th>\n",
       "      <th></th>\n",
       "      <th></th>\n",
       "      <th></th>\n",
       "      <th></th>\n",
       "      <th></th>\n",
       "      <th></th>\n",
       "      <th></th>\n",
       "      <th></th>\n",
       "      <th></th>\n",
       "      <th></th>\n",
       "      <th></th>\n",
       "      <th></th>\n",
       "      <th></th>\n",
       "      <th></th>\n",
       "    </tr>\n",
       "  </thead>\n",
       "  <tbody>\n",
       "    <tr>\n",
       "      <th>id2875421</th>\n",
       "      <td>1</td>\n",
       "      <td>930.399753</td>\n",
       "      <td>0</td>\n",
       "      <td>1.500479</td>\n",
       "      <td>6.122493</td>\n",
       "      <td>0</td>\n",
       "      <td>0</td>\n",
       "      <td>0</td>\n",
       "      <td>0</td>\n",
       "      <td>0</td>\n",
       "      <td>...</td>\n",
       "      <td>0</td>\n",
       "      <td>0</td>\n",
       "      <td>0</td>\n",
       "      <td>0</td>\n",
       "      <td>0</td>\n",
       "      <td>0</td>\n",
       "      <td>1</td>\n",
       "      <td>0</td>\n",
       "      <td>0</td>\n",
       "      <td>0</td>\n",
       "    </tr>\n",
       "    <tr>\n",
       "      <th>id2377394</th>\n",
       "      <td>0</td>\n",
       "      <td>930.399753</td>\n",
       "      <td>0</td>\n",
       "      <td>1.807119</td>\n",
       "      <td>6.498282</td>\n",
       "      <td>0</td>\n",
       "      <td>0</td>\n",
       "      <td>0</td>\n",
       "      <td>0</td>\n",
       "      <td>0</td>\n",
       "      <td>...</td>\n",
       "      <td>0</td>\n",
       "      <td>0</td>\n",
       "      <td>0</td>\n",
       "      <td>0</td>\n",
       "      <td>0</td>\n",
       "      <td>0</td>\n",
       "      <td>0</td>\n",
       "      <td>0</td>\n",
       "      <td>0</td>\n",
       "      <td>1</td>\n",
       "    </tr>\n",
       "    <tr>\n",
       "      <th>id3858529</th>\n",
       "      <td>1</td>\n",
       "      <td>NaN</td>\n",
       "      <td>0</td>\n",
       "      <td>6.392080</td>\n",
       "      <td>7.661527</td>\n",
       "      <td>0</td>\n",
       "      <td>1</td>\n",
       "      <td>1</td>\n",
       "      <td>0</td>\n",
       "      <td>0</td>\n",
       "      <td>...</td>\n",
       "      <td>0</td>\n",
       "      <td>0</td>\n",
       "      <td>0</td>\n",
       "      <td>0</td>\n",
       "      <td>0</td>\n",
       "      <td>0</td>\n",
       "      <td>0</td>\n",
       "      <td>0</td>\n",
       "      <td>0</td>\n",
       "      <td>0</td>\n",
       "    </tr>\n",
       "    <tr>\n",
       "      <th>id3504673</th>\n",
       "      <td>1</td>\n",
       "      <td>NaN</td>\n",
       "      <td>0</td>\n",
       "      <td>1.487155</td>\n",
       "      <td>6.063785</td>\n",
       "      <td>0</td>\n",
       "      <td>0</td>\n",
       "      <td>0</td>\n",
       "      <td>1</td>\n",
       "      <td>0</td>\n",
       "      <td>...</td>\n",
       "      <td>1</td>\n",
       "      <td>0</td>\n",
       "      <td>0</td>\n",
       "      <td>0</td>\n",
       "      <td>0</td>\n",
       "      <td>0</td>\n",
       "      <td>0</td>\n",
       "      <td>1</td>\n",
       "      <td>0</td>\n",
       "      <td>0</td>\n",
       "    </tr>\n",
       "    <tr>\n",
       "      <th>id2181028</th>\n",
       "      <td>1</td>\n",
       "      <td>930.399753</td>\n",
       "      <td>0</td>\n",
       "      <td>1.189925</td>\n",
       "      <td>6.077642</td>\n",
       "      <td>0</td>\n",
       "      <td>0</td>\n",
       "      <td>0</td>\n",
       "      <td>0</td>\n",
       "      <td>0</td>\n",
       "      <td>...</td>\n",
       "      <td>0</td>\n",
       "      <td>0</td>\n",
       "      <td>0</td>\n",
       "      <td>0</td>\n",
       "      <td>0</td>\n",
       "      <td>0</td>\n",
       "      <td>1</td>\n",
       "      <td>0</td>\n",
       "      <td>0</td>\n",
       "      <td>0</td>\n",
       "    </tr>\n",
       "  </tbody>\n",
       "</table>\n",
       "<p>5 rows × 41 columns</p>\n",
       "</div>"
      ],
      "text/plain": [
       "           vendor_id  passenger_count  store_and_fwd_flag  distance_km  \\\n",
       "id                                                                       \n",
       "id2875421          1       930.399753                   0     1.500479   \n",
       "id2377394          0       930.399753                   0     1.807119   \n",
       "id3858529          1              NaN                   0     6.392080   \n",
       "id3504673          1              NaN                   0     1.487155   \n",
       "id2181028          1       930.399753                   0     1.189925   \n",
       "\n",
       "           log_trip_duration  anomaly  traffic_jam  day_of_week_1  \\\n",
       "id                                                                  \n",
       "id2875421           6.122493        0            0              0   \n",
       "id2377394           6.498282        0            0              0   \n",
       "id3858529           7.661527        0            1              1   \n",
       "id3504673           6.063785        0            0              0   \n",
       "id2181028           6.077642        0            0              0   \n",
       "\n",
       "           day_of_week_2  day_of_week_3  ...  hour_19  hour_20  hour_21  \\\n",
       "id                                       ...                              \n",
       "id2875421              0              0  ...        0        0        0   \n",
       "id2377394              0              0  ...        0        0        0   \n",
       "id3858529              0              0  ...        0        0        0   \n",
       "id3504673              1              0  ...        1        0        0   \n",
       "id2181028              0              0  ...        0        0        0   \n",
       "\n",
       "           hour_22  hour_23  month_2  month_3  month_4  month_5  month_6  \n",
       "id                                                                        \n",
       "id2875421        0        0        0        1        0        0        0  \n",
       "id2377394        0        0        0        0        0        0        1  \n",
       "id3858529        0        0        0        0        0        0        0  \n",
       "id3504673        0        0        0        0        1        0        0  \n",
       "id2181028        0        0        0        1        0        0        0  \n",
       "\n",
       "[5 rows x 41 columns]"
      ]
     },
     "execution_count": 2,
     "metadata": {},
     "output_type": "execute_result"
    }
   ],
   "source": [
    "data.head()"
   ]
  },
  {
   "cell_type": "markdown",
   "id": "e8e4d653",
   "metadata": {},
   "source": [
    "Никудышный гном случайно пролил кофе на папку с данными и кодом. К несчастью, из-за этого они с братьями потеряли кучу информации в столбиках **passenger_count** и **distance_km**."
   ]
  },
  {
   "cell_type": "code",
   "execution_count": 5,
   "id": "7a2b6e1b",
   "metadata": {},
   "outputs": [
    {
     "ename": "AttributeError",
     "evalue": "'Series' object has no attribute 'isnan'",
     "output_type": "error",
     "traceback": [
      "\u001b[0;31m---------------------------------------------------------------------------\u001b[0m",
      "\u001b[0;31mAttributeError\u001b[0m                            Traceback (most recent call last)",
      "Input \u001b[0;32mIn [5]\u001b[0m, in \u001b[0;36m<cell line: 4>\u001b[0;34m()\u001b[0m\n\u001b[1;32m      1\u001b[0m \u001b[38;5;66;03m### Выведите количество пропусков в данных колонках\u001b[39;00m\n\u001b[1;32m      2\u001b[0m \u001b[38;5;66;03m### На всякий случай, проверьте целостность данных в остальных\u001b[39;00m\n\u001b[0;32m----> 4\u001b[0m \u001b[38;5;28mprint\u001b[39m(\u001b[43mdata\u001b[49m\u001b[43m[\u001b[49m\u001b[38;5;124;43m'\u001b[39;49m\u001b[38;5;124;43mpassenger_count\u001b[39;49m\u001b[38;5;124;43m'\u001b[39;49m\u001b[43m]\u001b[49m\u001b[38;5;241;43m.\u001b[39;49m\u001b[43misnan\u001b[49m()\u001b[38;5;241m.\u001b[39mcount(), data[\u001b[38;5;124m'\u001b[39m\u001b[38;5;124mdistance_km\u001b[39m\u001b[38;5;124m'\u001b[39m]\u001b[38;5;241m.\u001b[39misnan()\u001b[38;5;241m.\u001b[39mcount())\n",
      "File \u001b[0;32m/Library/Frameworks/Python.framework/Versions/3.10/lib/python3.10/site-packages/pandas/core/generic.py:5902\u001b[0m, in \u001b[0;36mNDFrame.__getattr__\u001b[0;34m(self, name)\u001b[0m\n\u001b[1;32m   5895\u001b[0m \u001b[38;5;28;01mif\u001b[39;00m (\n\u001b[1;32m   5896\u001b[0m     name \u001b[38;5;129;01mnot\u001b[39;00m \u001b[38;5;129;01min\u001b[39;00m \u001b[38;5;28mself\u001b[39m\u001b[38;5;241m.\u001b[39m_internal_names_set\n\u001b[1;32m   5897\u001b[0m     \u001b[38;5;129;01mand\u001b[39;00m name \u001b[38;5;129;01mnot\u001b[39;00m \u001b[38;5;129;01min\u001b[39;00m \u001b[38;5;28mself\u001b[39m\u001b[38;5;241m.\u001b[39m_metadata\n\u001b[1;32m   5898\u001b[0m     \u001b[38;5;129;01mand\u001b[39;00m name \u001b[38;5;129;01mnot\u001b[39;00m \u001b[38;5;129;01min\u001b[39;00m \u001b[38;5;28mself\u001b[39m\u001b[38;5;241m.\u001b[39m_accessors\n\u001b[1;32m   5899\u001b[0m     \u001b[38;5;129;01mand\u001b[39;00m \u001b[38;5;28mself\u001b[39m\u001b[38;5;241m.\u001b[39m_info_axis\u001b[38;5;241m.\u001b[39m_can_hold_identifiers_and_holds_name(name)\n\u001b[1;32m   5900\u001b[0m ):\n\u001b[1;32m   5901\u001b[0m     \u001b[38;5;28;01mreturn\u001b[39;00m \u001b[38;5;28mself\u001b[39m[name]\n\u001b[0;32m-> 5902\u001b[0m \u001b[38;5;28;01mreturn\u001b[39;00m \u001b[38;5;28;43mobject\u001b[39;49m\u001b[38;5;241;43m.\u001b[39;49m\u001b[38;5;21;43m__getattribute__\u001b[39;49m\u001b[43m(\u001b[49m\u001b[38;5;28;43mself\u001b[39;49m\u001b[43m,\u001b[49m\u001b[43m \u001b[49m\u001b[43mname\u001b[49m\u001b[43m)\u001b[49m\n",
      "\u001b[0;31mAttributeError\u001b[0m: 'Series' object has no attribute 'isnan'"
     ]
    }
   ],
   "source": [
    "### Выведите количество пропусков в данных колонках\n",
    "### На всякий случай, проверьте целостность данных в остальных\n",
    "\n",
    "print(data['passenger_count'].isnan().count(), data['distance_km'].isnan().count())"
   ]
  },
  {
   "cell_type": "markdown",
   "id": "bf581e79",
   "metadata": {},
   "source": [
    "Начнем с **passenger_count**. Вообще говоря, изначально это была категориальная колонка, к которой мы применили технику OneHotEncoder. Чтобы избавиться от пропусков в данных, конечно, можно просто убрать все объекты, в которых есть пропуски, но тогда мы потеряем ценную информацию. \n",
    "\n",
    "Воспользуйтесь относительно простым приемом из лекции: в указанной колонке заполните пропуски самым *популярным* значением среди неотсутствующих."
   ]
  },
  {
   "cell_type": "code",
   "execution_count": 4,
   "id": "d4f62e66",
   "metadata": {},
   "outputs": [],
   "source": [
    "### Your code is here"
   ]
  },
  {
   "cell_type": "markdown",
   "id": "c03ebf22",
   "metadata": {},
   "source": [
    "С колонкой **distance_km** поступим более интересным способом!\n",
    "\n",
    "Чтобы заполнить пропуск в данной колонке для того или иного объекта, можно находить наиболее похожий на него объект и подглядывать в его значение **distance_km**. Для того, чтобы понять, насколько объекты похожи друг на друга, необходимо использовать Евклидово расстояние между этими самыми объектами в пространстве всех признаков!\n",
    "\n",
    "С учетом количества объектов в нашем датасете и признаков, посчитать попарные расстояния будет мега-сложно. Поэтому давайте называть объекты похожими, если они принадлежат одной категории, составленной из следующих колонок:\n",
    "\n",
    "1. vendor_id\n",
    "2. store_and_fwd_flag\n",
    "3. traffic_jam\n",
    "4. month_2\n",
    "5. month_3\n",
    "6. month_4\n",
    "7. month_5\n",
    "8. month_6\n",
    "\n",
    "Внутри каждой группы найдите среднее значение признака **distance_km** и заполните NaN'ы в объектах с пропуском в соответствии с тем, к какой категории относится данный объект. Похожее упражнение мы делали на практике в занятии!\n",
    "\n",
    "**Hint**: достаточно просто взять group by по указанным выше категориальным колонкам и верно вставить полученный результат в исходную табличку.\n",
    "\n",
    "P.S. Колонки выбраны случайным образом. Можно было взять и другую комбинацию."
   ]
  },
  {
   "cell_type": "code",
   "execution_count": 5,
   "id": "5bb1cc4b",
   "metadata": {},
   "outputs": [],
   "source": [
    "### Your code is here"
   ]
  },
  {
   "cell_type": "code",
   "execution_count": 6,
   "id": "8f17bfd5",
   "metadata": {},
   "outputs": [],
   "source": [
    "### Убедимся, что пропусков не осталось\n",
    "\n",
    "### Your code is here\n"
   ]
  },
  {
   "cell_type": "markdown",
   "id": "78f722bd",
   "metadata": {},
   "source": [
    "### Теперь наши данные чисты! Замерьте качество модели на Кросс-Валидации"
   ]
  },
  {
   "cell_type": "code",
   "execution_count": null,
   "id": "aec88f13",
   "metadata": {},
   "outputs": [],
   "source": [
    "from sklearn.model_selection import KFold\n",
    "\n",
    "selector = KFold(n_splits=4, shuffle=True, random_state=33)\n",
    "\n",
    "from sklearn.model_selection import cross_validate\n",
    "from sklearn.linear_model import LinearRegression\n",
    "\n",
    "### Your code is here\n",
    "\n",
    "print(f\"MSLE на Кросс-валидации: {round(cross_val_error, 3)}\")"
   ]
  },
  {
   "cell_type": "markdown",
   "id": "13ad765d",
   "metadata": {},
   "source": [
    "### Проведем анализ выбросов! Нарисуйте ящик с усами и гистограмму для таргетной переменной."
   ]
  },
  {
   "cell_type": "code",
   "execution_count": 9,
   "id": "9cc88cc9",
   "metadata": {},
   "outputs": [],
   "source": [
    "import matplotlib.pyplot as plt\n",
    "\n",
    "### Your code is here\n",
    "\n"
   ]
  },
  {
   "cell_type": "markdown",
   "id": "73e7cf6a",
   "metadata": {},
   "source": [
    "Есть ли, на ваш взгляд, в данных выбросы?\n",
    "\n",
    "Кажется, что да!\n",
    "\n",
    "Давайте почистим их, удалив те объекты, таргеты которых находятся вне промежутка\n",
    "\n",
    "(топ 99,5% значение;   топ 0,5% значение)"
   ]
  },
  {
   "cell_type": "code",
   "execution_count": 10,
   "id": "8318da5d",
   "metadata": {},
   "outputs": [],
   "source": [
    "### Your code is here\n"
   ]
  },
  {
   "cell_type": "markdown",
   "id": "c51456e1",
   "metadata": {},
   "source": [
    "Снова замерьте качество на кросс-валидации, используя старый selector"
   ]
  },
  {
   "cell_type": "code",
   "execution_count": 11,
   "id": "f55742a1",
   "metadata": {},
   "outputs": [],
   "source": [
    "### Your code is here\n"
   ]
  },
  {
   "cell_type": "code",
   "execution_count": null,
   "id": "674fc594",
   "metadata": {},
   "outputs": [],
   "source": []
  }
 ],
 "metadata": {
  "kernelspec": {
   "display_name": "Python 3 (ipykernel)",
   "language": "python",
   "name": "python3"
  },
  "language_info": {
   "codemirror_mode": {
    "name": "ipython",
    "version": 3
   },
   "file_extension": ".py",
   "mimetype": "text/x-python",
   "name": "python",
   "nbconvert_exporter": "python",
   "pygments_lexer": "ipython3",
   "version": "3.10.6"
  }
 },
 "nbformat": 4,
 "nbformat_minor": 5
}
